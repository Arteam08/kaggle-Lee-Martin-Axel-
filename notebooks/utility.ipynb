{
 "cells": [
  {
   "cell_type": "code",
   "execution_count": 4,
   "metadata": {},
   "outputs": [
    {
     "name": "stdout",
     "output_type": "stream",
     "text": [
      "Time taken: 0.0031671524 seconds\n"
     ]
    },
    {
     "data": {
      "text/html": [
       "<div>\n",
       "<style scoped>\n",
       "    .dataframe tbody tr th:only-of-type {\n",
       "        vertical-align: middle;\n",
       "    }\n",
       "\n",
       "    .dataframe tbody tr th {\n",
       "        vertical-align: top;\n",
       "    }\n",
       "\n",
       "    .dataframe thead th {\n",
       "        text-align: right;\n",
       "    }\n",
       "</style>\n",
       "<table border=\"1\" class=\"dataframe\">\n",
       "  <thead>\n",
       "    <tr style=\"text-align: right;\">\n",
       "      <th></th>\n",
       "      <th>Tweet</th>\n",
       "      <th>Language</th>\n",
       "    </tr>\n",
       "  </thead>\n",
       "  <tbody>\n",
       "    <tr>\n",
       "      <th>0</th>\n",
       "      <td>Hello, how are you?</td>\n",
       "      <td>EN</td>\n",
       "    </tr>\n",
       "    <tr>\n",
       "      <th>1</th>\n",
       "      <td>Bonjour, comment ça va?</td>\n",
       "      <td>FR</td>\n",
       "    </tr>\n",
       "    <tr>\n",
       "      <th>2</th>\n",
       "      <td>Hola, cómo estás?</td>\n",
       "      <td>ES</td>\n",
       "    </tr>\n",
       "  </tbody>\n",
       "</table>\n",
       "</div>"
      ],
      "text/plain": [
       "                     Tweet Language\n",
       "0      Hello, how are you?       EN\n",
       "1  Bonjour, comment ça va?       FR\n",
       "2        Hola, cómo estás?       ES"
      ]
     },
     "execution_count": 4,
     "metadata": {},
     "output_type": "execute_result"
    }
   ],
   "source": [
    "from fast_langdetect import detect_language\n",
    "from time import time\n",
    "import pandas as pd\n",
    "\n",
    "df_example = pd.DataFrame({'Tweet': ['Hello, how are you?', 'Bonjour, comment ça va?', 'Hola, cómo estás?']})\n",
    "\n",
    "t = time()\n",
    "df_example[\"Language\"] = df_example.apply(lambda x: detect_language(x['Tweet']), axis=1)\n",
    "print(f'Time taken: {time()-t:.10f} seconds')\n",
    "\n",
    "df_example"
   ]
  },
  {
   "cell_type": "code",
   "execution_count": 5,
   "metadata": {},
   "outputs": [
    {
     "name": "stdout",
     "output_type": "stream",
     "text": [
      "IS\n"
     ]
    }
   ],
   "source": [
    "s = \"ìŠ¹¦¬ì˜ íž˜ íŠ¼íŠ¼í•œ í•œê°•ë‹¤ë¦¬ì™€ í•¨ê»˜ ëŒ€í•œë¯¼êµì„ ì‘ì›í•©ë‹ˆë‹¤. \\#kor \\#dslrclub \\#dicadong \\#ì—ëª½ \\#worldcup\"\n",
    "\n",
    "print(detect_language(s))\n"
   ]
  },
  {
   "cell_type": "code",
   "execution_count": null,
   "metadata": {},
   "outputs": [],
   "source": []
  }
 ],
 "metadata": {
  "kernelspec": {
   "display_name": "inf554bis",
   "language": "python",
   "name": "python3"
  },
  "language_info": {
   "codemirror_mode": {
    "name": "ipython",
    "version": 3
   },
   "file_extension": ".py",
   "mimetype": "text/x-python",
   "name": "python",
   "nbconvert_exporter": "python",
   "pygments_lexer": "ipython3",
   "version": "3.11.10"
  }
 },
 "nbformat": 4,
 "nbformat_minor": 2
}
