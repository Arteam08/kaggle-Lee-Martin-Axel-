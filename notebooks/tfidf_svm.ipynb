{
 "cells": [
  {
   "cell_type": "code",
   "execution_count": 1,
   "metadata": {},
   "outputs": [],
   "source": [
    "import os\n",
    "import matplotlib.pyplot as plt\n",
    "import pandas as pd\n",
    "import numpy as np\n",
    "from torchtext.data import get_tokenizer\n",
    "from collections import Counter\n",
    "from sklearn.model_selection import train_test_split\n",
    "from sklearn.preprocessing import StandardScaler\n",
    "import torch\n",
    "from torch.utils.data import DataLoader, TensorDataset\n",
    "import torch.nn as nn\n",
    "import torch.nn.functional as F\n",
    "from time import time\n",
    "import re\n",
    "import nltk\n",
    "from nltk.corpus import stopwords\n",
    "from nltk.stem import SnowballStemmer\n",
    "from autocorrect import Speller\n",
    "from nltk.stem import WordNetLemmatizer\n",
    "import pycountry\n",
    "import itertools\n",
    "import random\n",
    "from sklearn.ensemble import RandomForestClassifier\n",
    "from xgboost import XGBClassifier\n",
    "from sklearn.svm import SVC\n",
    "from sklearn.model_selection import train_test_split\n",
    "from sklearn.metrics import accuracy_score\n",
    "import itertools\n",
    "import random\n",
    "from sklearn.feature_extraction.text import TfidfVectorizer\n",
    "from sklearn.linear_model import LogisticRegression\n",
    "from sklearn.model_selection import GridSearchCV\n",
    "from gensim.models import Word2Vec\n",
    "from sklearn.pipeline import Pipeline\n",
    "\n",
    "from skopt import BayesSearchCV\n",
    "from skopt.space import Real, Categorical, Integer\n",
    "\n",
    "from sklearn.base import BaseEstimator, TransformerMixin\n",
    "from sklearn.model_selection import StratifiedKFold\n",
    "from skopt.callbacks import VerboseCallback\n",
    "\n",
    "tokenizer = get_tokenizer(\"basic_english\")\n",
    "lemmatizer = WordNetLemmatizer()\n",
    "embedding_dim = 1000\n",
    "spell=Speller(lang=\"en\", fast=True)\n"
   ]
  },
  {
   "cell_type": "code",
   "execution_count": 2,
   "metadata": {},
   "outputs": [],
   "source": [
    "# Define paths\n",
    "path_to_data = \"../challenge_data/\"\n",
    "path_to_training_tweets = os.path.join(path_to_data, \"train_tweets\")\n",
    "path_to_eval_tweets = os.path.join(path_to_data, \"eval_tweets\")\n",
    "output_path = \"evaluation_predictions.csv\""
   ]
  },
  {
   "cell_type": "markdown",
   "metadata": {},
   "source": [
    "## Load Data"
   ]
  },
  {
   "cell_type": "code",
   "execution_count": 3,
   "metadata": {},
   "outputs": [],
   "source": [
    "# Load data\n",
    "def load_data(path, verbose=False):\n",
    "    li = []\n",
    "    for filename in os.listdir(path):\n",
    "        df = pd.read_csv(os.path.join(path, filename))\n",
    "        li.append(df)\n",
    "    output = pd.concat(li)\n",
    "    if verbose:\n",
    "        print(output.head())\n",
    "        print(f'The shape of the data is: {output.shape}')\n",
    "    return output"
   ]
  },
  {
   "cell_type": "code",
   "execution_count": 4,
   "metadata": {},
   "outputs": [],
   "source": [
    "def concat_tweets(df, MAX_SUBGROUP=150, event_type=True):\n",
    "    \"\"\"\n",
    "    For each group of tweets with the same ID/MatchID/PeriodID/EventType, \n",
    "    We create `MAX_SUBGROUP` subgroups of tweets by concatenating them.\n",
    "    Therefore if `MAX_SUBGROUP` = 1, we have 1 tweet per ID/MatchID/PeriodID/EventType\n",
    "    If `MAX_SUBGROUP` = +inf, we have all the tweets in different subgroups.\n",
    "    \"\"\"\n",
    "\n",
    "    ### Grouping tweets who have same timestamp by concatenating them\n",
    "    # Create an array of random integers in {0, ..., MAX_SUBGROUP} of size len(df_train)\n",
    "    df[\"random_id\"] = np.random.randint(0, MAX_SUBGROUP, len(df))\n",
    "    if event_type:\n",
    "        df_bis = df.groupby(['ID', \"MatchID\", \"PeriodID\", \"EventType\", \"random_id\"])['Tweet'].apply(lambda x: ' '.join(x)).reset_index().drop(columns='random_id')\n",
    "    else:\n",
    "        df_bis = df.groupby(['ID', \"MatchID\", \"PeriodID\", \"random_id\"])['Tweet'].apply(lambda x: ' '.join(x)).reset_index().drop(columns='random_id')\n",
    "    df_bis = df_bis.sample(frac=1).reset_index(drop=True)\n",
    "    return df_bis"
   ]
  },
  {
   "cell_type": "markdown",
   "metadata": {},
   "source": [
    "# Preprocessing"
   ]
  },
  {
   "cell_type": "code",
   "execution_count": 5,
   "metadata": {},
   "outputs": [],
   "source": [
    "# Extend the trigram list with full country names\n",
    "list_of_countries_trigrams = [\n",
    "    'AFG', 'RSA', 'ALB', 'ALG', 'GER', 'AND', 'ENG', 'ANG', 'AIA', 'ATG', 'KSA', 'ARG', 'ARM', 'ARU', 'AUS', 'AUT',\n",
    "    'AZE', 'BAH', 'BHR', 'BAN', 'BRB', 'BEL', 'BLZ', 'BEN', 'BER', 'BHU', 'BLR', 'MYA', 'BOL', 'BIH', 'BOT', 'BRA',\n",
    "    'BRU', 'BUL', 'BFA', 'BDI', 'CAM', 'CMR', 'CAN', 'CPV', 'CHI', 'CHN', 'CYP', 'COL', 'COM', 'CGO', 'PRK', 'KOR',\n",
    "    'CRC', 'CIV', 'CRO', 'CUB', 'CUR', 'DEN', 'DJI', 'DMA', 'SCO', 'EGY', 'UAE', 'ECU', 'ERI', 'ESP', 'EST', 'ESW',\n",
    "    'USA', 'ETH', 'FIJ', 'FIN', 'FRA', 'GAB', 'GAM', 'GEO', 'GHA', 'GIB', 'GRE', 'GRN', 'GUA', 'GUM', 'GUI', 'EQG',\n",
    "    'GNB', 'GUY', 'HAI', 'HON', 'HKG', 'HUN', 'CAY', 'COK', 'FRO', 'SOL', 'TCA', 'VGB', 'VIR', 'IND', 'IDN', 'IRQ',\n",
    "    'IRN', 'IRL', 'NIR', 'ISL', 'ISR', 'ITA', 'JAM', 'JPN', 'JOR', 'KAZ', 'KEN', 'KGZ', 'KVX', 'KUW', 'LAO', 'LES',\n",
    "    'LVA', 'LBN', 'LBR', 'LBY', 'LIE', 'LTU', 'LUX', 'MAC', 'MKD', 'MAD', 'MAS', 'MWI', 'MDV', 'MLI', 'MLT', 'MAR',\n",
    "    'MRI', 'MTN', 'MEX', 'MDA', 'MNG', 'MNE', 'MSR', 'MOZ', 'NAM', 'NEP', 'NCA', 'NIG', 'NGA', 'NOR', 'NCL', 'NZL',\n",
    "    'OMA', 'UGA', 'UZB', 'PAK', 'PLE', 'PAN', 'PNG', 'PAR', 'NED', 'WAL', 'PER', 'PHI', 'POL', 'PUR', 'POR', 'QAT',\n",
    "    'COD', 'CTA', 'DOM', 'CZE', 'ROU', 'RUS', 'RWA', 'SKN', 'SMR', 'VIN', 'LCA', 'SLV', 'SAM', 'ASA', 'STP', 'SEN',\n",
    "    'SRB', 'SEY', 'SLE', 'SIN', 'SVK', 'SVN', 'SOM', 'SDN', 'SSD', 'SRI', 'SWE', 'SUI', 'SUR', 'SYR', 'TJK', 'TAH',\n",
    "    'TPE', 'TAN', 'CHA', 'THA', 'TLS', 'TOG', 'TGA', 'TRI', 'TUN', 'TKM', 'TUR', 'UKR', 'URU', 'VAN', 'VEN', 'VIE',\n",
    "    'YEM', 'ZAM', 'ZIM', 'BOE', 'GUF', 'GBR', 'GLP', 'NMI', 'KIR', 'MTQ', 'NIU', 'REU', 'SMN', 'SMA', 'TUV', 'ZAN',\n",
    "    'ALA', 'COR', 'GRL', 'GUE', 'IMA', 'FLK', 'MHL', 'JER', 'MYT', 'FSM', 'MCO', 'PLW', 'EUS', 'ESH', 'BLM', 'SPM',\n",
    "    'SHN', 'VAT', 'WLF'\n",
    "]\n",
    "\n",
    "# Add full country names dynamically using pycountry\n",
    "list_of_countries_full_names = english_countries = ['Afghanistan', 'Albania', 'Algeria', 'Andorra', 'Angola', 'Antigua and Barbuda', 'Argentina', 'Armenia', 'Australia', 'Austria', 'Azerbaijan', 'Bahrain', 'Bangladesh', 'Barbados', 'Belarus', 'Belgium', 'Belize', 'Benin', 'Bhutan', 'Bolivia', 'Bosnia and Herzegovina', 'Botswana', 'Brazil', 'Brunei', 'Bulgaria', 'Burkina Faso', 'Burundi', 'Cambodia', 'Cameroon', 'Canada', 'Cape Verde', 'Central African Republic', 'Chad', 'Chile', 'China', 'Colombia', 'Comoros', 'Congo', 'Congo (Democratic Republic)', 'Costa Rica', 'Croatia', 'Cuba', 'Cyprus', 'Czechia', 'Denmark', 'Djibouti', 'Dominica', 'Dominican Republic', 'East Timor', 'Ecuador', 'Egypt', 'El Salvador', 'Equatorial Guinea', 'Eritrea', 'Estonia', 'Eswatini', 'Ethiopia', 'Fiji', 'Finland', 'France', 'Gabon', 'Georgia', 'Germany', 'Ghana', 'Greece', 'Grenada', 'Guatemala', 'Guinea', 'Guinea-Bissau', 'Guyana', 'Haiti', 'Honduras', 'Hungary', 'Iceland', 'India', 'Indonesia', 'Iran', 'Iraq', 'Ireland', 'Israel', 'Italy', 'Ivory Coast', 'Jamaica', 'Japan', 'Jordan', 'Kazakhstan', 'Kenya', 'Kiribati', 'Kosovo', 'Kuwait', 'Kyrgyzstan', 'Laos', 'Latvia', 'Lebanon', 'Lesotho', 'Liberia', 'Libya', 'Liechtenstein', 'Lithuania', 'Luxembourg', 'Madagascar', 'Malawi', 'Malaysia', 'Maldives', 'Mali', 'Malta', 'Marshall Islands', 'Mauritania', 'Mauritius', 'Mexico', 'Federated States of Micronesia', 'Moldova', 'Monaco', 'Mongolia', 'Montenegro', 'Morocco', 'Mozambique', 'Myanmar (Burma)', 'Namibia', 'Nauru', 'Nepal', 'Netherlands', 'New Zealand', 'Nicaragua', 'Niger', 'Nigeria', 'North Korea', 'North Macedonia', 'Norway', 'Oman', 'Pakistan', 'Palau', 'Panama', 'Papua New Guinea', 'Paraguay', 'Peru', 'Philippines', 'Poland', 'Portugal', 'Qatar', 'Romania', 'Russia', 'Rwanda', 'St Kitts and Nevis', 'St Lucia', 'St Vincent', 'Samoa', 'San Marino', 'Sao Tome and Principe', 'Saudi Arabia', 'Senegal', 'Serbia', 'Seychelles', 'Sierra Leone', 'Singapore', 'Slovakia', 'Slovenia', 'Solomon Islands', 'Somalia', 'South Africa', 'South Korea', 'South Sudan', 'Spain', 'Sri Lanka', 'Sudan', 'Suriname', 'Sweden', 'Switzerland', 'Syria', 'Tajikistan', 'Tanzania', 'Thailand', 'The Bahamas', 'The Gambia', 'Togo', 'Tonga', 'Trinidad and Tobago', 'Tunisia', 'Turkey', 'Turkmenistan', 'Tuvalu', 'Uganda', 'Ukraine', 'United Arab Emirates', 'United Kingdom', 'United States', 'Uruguay', 'Uzbekistan', 'Vanuatu', 'Vatican City', 'Venezuela', 'Vietnam', 'Yemen', 'Zambia', 'Zimbabwe']\n",
    "\n",
    "\n",
    "# Combine trigrams and full names into one list\n",
    "list_of_countries_trigrams.extend(list_of_countries_full_names)\n",
    "list_of_countries_trigrams = list(set(list_of_countries_trigrams))  # Remove duplicates\n",
    "\n",
    "# Preload stopwords (ensure NLTK stopwords are downloaded)\n",
    "stop_words = set(stopwords.words(\"english\"))\n",
    "\n",
    "stemmer = SnowballStemmer(\"english\")\n",
    "country_pattern = re.compile(r\"\\b(\" + \"|\".join(map(re.escape, list_of_countries_trigrams)) + r\")\\b\", re.IGNORECASE)\n",
    "WORD = re.compile(r'\\w+')\n",
    "def reTokenize(doc):\n",
    "    tokens = WORD.findall(doc)\n",
    "    return tokens\n",
    "\n",
    "def preprocessing(df):\n",
    "    # Compile regex patterns for efficiency\n",
    "    url_pattern = re.compile(r\"http[s]?://\\S+|www\\.\\S+\")\n",
    "    mention_pattern = re.compile(r\"@\\w+\")\n",
    "    hashtag_pattern = re.compile(r\"#\\w+\")\n",
    "    number_pattern = re.compile(r\"\\d+\")\n",
    "    punctuation_pattern = re.compile(r\"[^\\w\\s]\")\n",
    "    country_pattern = re.compile(r\"\\b(\" + \"|\".join(map(re.escape, list_of_countries_trigrams)) + r\")\\b\", re.IGNORECASE)\n",
    "    rt_pattern = re.compile(r\"rt\")\n",
    "\n",
    "    def clean_tweet(tweet):\n",
    "        tweet = tweet.lower()  # Lowercase the text\n",
    "        tweet = url_pattern.sub(\"\", tweet)  # Remove URLs\n",
    "        tweet = rt_pattern.sub(\"\", tweet)  # Remove RT\n",
    "        tweet = mention_pattern.sub(\"\", tweet)  # Replace mentions with 'user'\n",
    "        tweet = hashtag_pattern.sub(\"\", tweet)  # Replace hashtags with 'hashtag'\n",
    "        tweet = number_pattern.sub(\"\", tweet)  # Replace numbers with 'number'\n",
    "        tweet = country_pattern.sub(\"\", tweet)  # Replace country trigrams with 'country'\n",
    "        tweet = punctuation_pattern.sub(\"\", tweet)  # Remove punctuation\n",
    "        # tweet = \" \".join([word for word in tweet.split() if word not in stop_words])  # Remove stopwords\n",
    "        words = tweet.split()\n",
    "        words = [stemmer.stem(word) for word in words if word not in stop_words]  # Remove stopwords and apply stemming\n",
    "        tweet = \" \".join(words)\n",
    "        tweet = ' '.join([spell(w) for w in reTokenize(tweet)]) \n",
    "        return tweet\n",
    "\n",
    "    # Apply cleaning to the \"Tweet\" column\n",
    "    df[\"Tweet\"] = df[\"Tweet\"].apply(clean_tweet)\n",
    "    return df"
   ]
  },
  {
   "cell_type": "markdown",
   "metadata": {},
   "source": [
    "## Create dictionary from tweets"
   ]
  },
  {
   "cell_type": "code",
   "execution_count": 6,
   "metadata": {},
   "outputs": [],
   "source": [
    "def create_vocab(df, column_name, tokenizer, embedding_dim):\n",
    "    words = []\n",
    "    for text in df[column_name]:\n",
    "        words.extend(tokenizer(text))\n",
    "    vocab = dict(Counter(words).most_common(embedding_dim))\n",
    "    return vocab, list(vocab.keys())"
   ]
  },
  {
   "cell_type": "code",
   "execution_count": 7,
   "metadata": {},
   "outputs": [],
   "source": [
    "def plot_frequency(vocab, keywords, max_words = 40):\n",
    "    top_keywords = keywords[:max_words]\n",
    "    top_counts = [vocab[word] for word in top_keywords]\n",
    "\n",
    "    plt.figure(figsize=(10, 5))\n",
    "    plt.bar(top_keywords, top_counts)\n",
    "    plt.xlabel('Keywords')\n",
    "    plt.ylabel('Frequency')\n",
    "    plt.title('Top 20 Keywords Frequency')\n",
    "    plt.xticks(rotation=45)\n",
    "    plt.show()"
   ]
  },
  {
   "cell_type": "markdown",
   "metadata": {},
   "source": [
    "# Embedding"
   ]
  },
  {
   "cell_type": "code",
   "execution_count": 8,
   "metadata": {},
   "outputs": [],
   "source": [
    "def embedding(tweets, keywords=[\"football\", \"goal\"]):\n",
    "    feature_matrix = []\n",
    "    for i, text in enumerate(tweets):\n",
    "        tokens = tokenizer(text) # ex : 'Hello, I am a test' -> ['hello', 'i', 'am', 'a', 'test']\n",
    "        token_counts = Counter(tokens)\n",
    "        len_token = max(len(tokens), 1)\n",
    "        frequencies = [token_counts.get(keyword, 0)/len_token for keyword in keywords]\n",
    "        feature_matrix.append(frequencies)\n",
    "    feature_matrix = np.array(feature_matrix)\n",
    "    return feature_matrix \n",
    "\n",
    "def fit_tfidf_embedding(train_tweets, max_features=2000, ngram_range=(1,1), max_df=0.7, min_df=2, sublinear_tf=False):\n",
    "    \"\"\"\n",
    "    Fit a TF-IDF vectorizer on the training tweets.\n",
    "    Returns the fitted vectorizer.\n",
    "    \"\"\"\n",
    "    vectorizer = TfidfVectorizer(max_features=max_features,\n",
    "                                 max_df=max_df,\n",
    "                                 ngram_range=ngram_range,\n",
    "                                 min_df=min_df,\n",
    "                                 sublinear_tf=sublinear_tf)\n",
    "    vectorizer.fit(train_tweets)\n",
    "    return vectorizer\n",
    "\n",
    "def tfidf_embedding(tweets, vectorizer):\n",
    "    \"\"\"\n",
    "    Transform tweets into TF-IDF features using a fitted vectorizer.\n",
    "    \"\"\"\n",
    "    return vectorizer.transform(tweets).toarray()"
   ]
  },
  {
   "cell_type": "markdown",
   "metadata": {},
   "source": [
    "# Training"
   ]
  },
  {
   "cell_type": "code",
   "execution_count": 9,
   "metadata": {},
   "outputs": [],
   "source": [
    "def create_sets(train, test, train_X, test_X, batch_size = 64):\n",
    "    # Scale the data\n",
    "    scaler = StandardScaler()\n",
    "    scaler.fit(train_X)\n",
    "    train_X = scaler.transform(train_X)\n",
    "    test_X = scaler.transform(test_X)\n",
    "\n",
    "    # Labels\n",
    "    train_y = np.array(train['EventType']).reshape(-1, 1).flatten()\n",
    "    test_y = np.array(test['EventType']).reshape(-1, 1).flatten()\n",
    "    train_y = torch.tensor(train_y, dtype=torch.float32).view(-1, 1)\n",
    "    test_y = torch.tensor(test_y, dtype=torch.float32).view(-1, 1)\n",
    "\n",
    "    trainset = TensorDataset(torch.tensor(train_X, dtype=torch.float32), train_y)\n",
    "    testset = TensorDataset(torch.tensor(test_X, dtype=torch.float32), test_y)\n",
    "\n",
    "    train_loader = DataLoader(trainset, batch_size=batch_size, shuffle=True)\n",
    "    test_loader = DataLoader(testset, batch_size=batch_size, shuffle=False)\n",
    "\n",
    "    return train_loader, test_loader, scaler\n",
    "\n",
    "def create_sets_for_eval(eval_X, scaler, batch_size = 64):\n",
    "    # Scale the data\n",
    "    eval_X = scaler.transform(eval_X)\n",
    "\n",
    "    evalset = TensorDataset(torch.tensor(eval_X, dtype=torch.float32))\n",
    "\n",
    "    eval_loader = DataLoader(evalset, batch_size=batch_size, shuffle=False)\n",
    "\n",
    "    return eval_loader"
   ]
  },
  {
   "cell_type": "code",
   "execution_count": 10,
   "metadata": {},
   "outputs": [],
   "source": [
    "class NNModel(nn.Module):\n",
    "    def __init__(self, input_dim, hidden_dims, output_dim, dropouts):\n",
    "        super().__init__()\n",
    "        assert len(hidden_dims) == len(dropouts)\n",
    "        self.layers = nn.ModuleList()\n",
    "        in_dim = input_dim\n",
    "        for hidden_dim, dropout in zip(hidden_dims, dropouts):\n",
    "            self.layers.append(nn.Linear(in_dim, hidden_dim))\n",
    "            self.layers.append(nn.ReLU())\n",
    "            self.layers.append(nn.BatchNorm1d(hidden_dim))\n",
    "            self.layers.append(nn.Dropout(dropout))\n",
    "            in_dim = hidden_dim\n",
    "        self.output_layer = nn.Linear(in_dim, output_dim)\n",
    "    def forward(self, x):\n",
    "        for layer in self.layers:\n",
    "            x = layer(x)\n",
    "        x = self.output_layer(x)\n",
    "        return torch.sigmoid(x)\n"
   ]
  },
  {
   "cell_type": "code",
   "execution_count": 11,
   "metadata": {},
   "outputs": [],
   "source": [
    "def train_model(model, train_loader, test_loader, optimizer, criterion, device, num_epochs=10, scheduler=None, weight_1_0=0.5):\n",
    "    history = {'train_loss': [], 'val_loss': [], 'val_accuracy': []}\n",
    "    for epoch in range(num_epochs):\n",
    "        # Scheduler\n",
    "        if scheduler:\n",
    "            scheduler.step()\n",
    "        # Training\n",
    "        model.train()\n",
    "        train_loss = 0.0\n",
    "        for inputs, labels in train_loader:\n",
    "            inputs, labels = inputs.to(device), labels.to(device)\n",
    "            optimizer.zero_grad()\n",
    "            outputs = model(inputs)\n",
    "            loss = criterion(outputs, labels)\n",
    "            loss.backward()\n",
    "            optimizer.step()\n",
    "            train_loss += loss.item()\n",
    "        # Validation\n",
    "        model.eval()\n",
    "        val_loss = 0.0\n",
    "        correct = 0\n",
    "        total = 0\n",
    "        with torch.no_grad():\n",
    "            for inputs, labels in test_loader:\n",
    "                inputs, labels = inputs.to(device), labels.to(device)\n",
    "                outputs = model(inputs)\n",
    "                val_loss += criterion(outputs, labels).item()\n",
    "                predicted = (outputs > weight_1_0).float()\n",
    "                correct += (predicted == labels).sum().item()\n",
    "                total += labels.size(0)\n",
    "        val_accuracy = correct / total\n",
    "        history['train_loss'].append(train_loss / len(train_loader))\n",
    "        history['val_loss'].append(val_loss / len(test_loader))\n",
    "        history['val_accuracy'].append(val_accuracy)\n",
    "\n",
    "        print(f\"Epoch {epoch+1}/{num_epochs}, Train Loss: {train_loss/len(train_loader):.4f}, \"\n",
    "              f\"Val Loss: {val_loss/len(test_loader):.4f}, Val Accuracy: {val_accuracy:.4f}\")\n",
    "\n",
    "    return history"
   ]
  },
  {
   "cell_type": "code",
   "execution_count": 12,
   "metadata": {},
   "outputs": [],
   "source": [
    "def plot_history(history):\n",
    "    plt.figure(figsize=(12, 4))\n",
    "    plt.subplot(1, 2, 1)\n",
    "    plt.plot(history['train_loss'], label='Train Loss')\n",
    "    plt.plot(history['val_loss'], label='Val Loss')\n",
    "    plt.legend()\n",
    "    plt.title('Loss')\n",
    "\n",
    "    plt.subplot(1, 2, 2)\n",
    "    plt.plot(history['val_accuracy'], label='Val Accuracy')\n",
    "    plt.legend()\n",
    "    plt.title('Accuracy')\n",
    "    plt.show()"
   ]
  },
  {
   "cell_type": "markdown",
   "metadata": {},
   "source": [
    "# Overfitting of the dictionary"
   ]
  },
  {
   "cell_type": "code",
   "execution_count": 7,
   "metadata": {},
   "outputs": [],
   "source": [
    "def intersection_keywords(keywords1, keywords2):\n",
    "    return list(set(keywords1) & set(keywords2))\n",
    "\n",
    "def proximity_keywords(keywords1, keywords2):\n",
    "    return len(intersection_keywords(keywords1, keywords2))/max(len(keywords1), len(keywords2))"
   ]
  },
  {
   "cell_type": "markdown",
   "metadata": {},
   "source": [
    "# Cross-validation and GridSearch on SVM"
   ]
  },
  {
   "cell_type": "code",
   "execution_count": null,
   "metadata": {},
   "outputs": [
    {
     "name": "stdout",
     "output_type": "stream",
     "text": [
      "Grouping tweets...\n",
      "Tweets grouped in 2.17 seconds\n",
      "--------------------------------------------------\n",
      "\n",
      "Splitting data...\n",
      "Data splitted in 0.00 seconds\n",
      "--------------------------------------------------\n",
      "\n",
      "Embedding...\n",
      "Data embedded in 32.87 seconds\n",
      "--------------------------------------------------\n",
      "\n",
      "Creating the datasets...\n",
      "Datasets created in 0.29 seconds\n",
      "--------------------------------------------------\n",
      "\n"
     ]
    }
   ],
   "source": [
    "Group_train = 10\n",
    "Group_eval = Group_train\n",
    "\n",
    "df_train = pd.read_csv(\"df_train_withoutstemming.csv\")\n",
    "df_eval = pd.read_csv(\"df_eval_withoutstemming.csv\")\n",
    "\n",
    "df_train['Tweet'] = df_train['Tweet'].astype(str)\n",
    "df_eval['Tweet'] = df_eval['Tweet'].astype(str)\n",
    "\n",
    "# Grouping\n",
    "print(\"Grouping tweets...\")\n",
    "t = time()\n",
    "\n",
    "df_train_bis = concat_tweets(df_train, MAX_SUBGROUP=Group_train, event_type=True)\n",
    "df_eval_bis = concat_tweets(df_eval, MAX_SUBGROUP=Group_eval, event_type=False)\n",
    "\n",
    "print(f\"Tweets grouped in {time()-t:.2f} seconds\")\n",
    "print(\"-\"*50+\"\\n\")\n",
    "\n",
    "# Splitting\n",
    "print(\"Splitting data...\")\n",
    "t = time()\n",
    "\n",
    "train, test = train_test_split(df_train_bis, test_size=0.01, random_state=42)\n",
    "\n",
    "print(f\"Data splitted in {time()-t:.2f} seconds\")\n",
    "print(\"-\"*50+\"\\n\")\n",
    "\n",
    "# Embedding\n",
    "print(\"Embedding...\")\n",
    "t = time()\n",
    "\n",
    "# Fit on training data\n",
    "vectorizer = fit_tfidf_embedding(train['Tweet'], max_features=embedding_dim)\n",
    "\n",
    "# Transform data\n",
    "train_X = tfidf_embedding(train['Tweet'], vectorizer)\n",
    "test_X = tfidf_embedding(test['Tweet'], vectorizer)\n",
    "eval_X = tfidf_embedding(df_eval['Tweet'], vectorizer)\n",
    "\n",
    "print(f\"Data embedded in {time()-t:.2f} seconds\")\n",
    "print(\"-\"*50+\"\\n\")\n",
    "\n",
    "# Creating the datasets\n",
    "print(\"Creating the datasets...\")\n",
    "t = time()\n",
    "\n",
    "train_loader, test_loader, scaler = create_sets(train, test, train_X, test_X)\n",
    "\n",
    "print(f\"Datasets created in {time()-t:.2f} seconds\")\n",
    "print(\"-\"*50+\"\\n\")\n"
   ]
  },
  {
   "cell_type": "code",
   "execution_count": 34,
   "metadata": {},
   "outputs": [
    {
     "name": "stdout",
     "output_type": "stream",
     "text": [
      "Processing group_train=10...\n",
      "Data grouped and embedded for group_train=10 in 2.30s\n",
      "X_train shape: (2990, 2000) y_train length: 2990\n",
      "Running BayesSearchCV...\n",
      "Iteration No: 1 started. Searching for the next optimal point.\n",
      "Iteration No: 1 ended. Search finished for the next optimal point.\n",
      "Time taken: 21.9144\n",
      "Function value obtained: -0.5351\n",
      "Current minimum: -0.5351\n",
      "Iteration No: 2 started. Searching for the next optimal point.\n",
      "Iteration 1: Testing params=[0.11233621690895233, 'auto', 'poly'] => CV Score: -0.5351\n",
      "Iteration No: 2 ended. Search finished for the next optimal point.\n",
      "Time taken: 8.6453\n",
      "Function value obtained: -0.8559\n",
      "Current minimum: -0.8559\n",
      "Iteration No: 3 started. Searching for the next optimal point.\n",
      "Iteration 2: Testing params=[15.37948446580078, 'auto', 'linear'] => CV Score: -0.8559\n",
      "Iteration No: 3 ended. Search finished for the next optimal point.\n",
      "Time taken: 13.6690\n",
      "Function value obtained: -0.8244\n",
      "Current minimum: -0.8559\n",
      "Iteration No: 4 started. Searching for the next optimal point.\n",
      "Iteration 3: Testing params=[0.1675569944093659, 'auto', 'linear'] => CV Score: -0.8244\n",
      "Iteration No: 4 ended. Search finished for the next optimal point.\n",
      "Time taken: 15.7877\n",
      "Function value obtained: -0.8960\n",
      "Current minimum: -0.8960\n",
      "Iteration No: 5 started. Searching for the next optimal point.\n",
      "Iteration 4: Testing params=[11.533999859559563, 'scale', 'rbf'] => CV Score: -0.8960\n",
      "Iteration No: 5 ended. Search finished for the next optimal point.\n",
      "Time taken: 15.0738\n",
      "Function value obtained: -0.8957\n",
      "Current minimum: -0.8960\n",
      "Iteration 5: Testing params=[9.948719998234102, 'scale', 'rbf'] => CV Score: -0.8957\n",
      "Iteration No: 6 ended. Search finished for the next optimal point.\n",
      "Time taken: 23.5394\n",
      "Function value obtained: -0.8632\n",
      "Current minimum: -0.8960\n",
      "Iteration 6: Testing params=[4.678860424711244, 'auto', 'linear'] => CV Score: -0.8632\n",
      "Iteration No: 7 ended. Search finished for the next optimal point.\n",
      "Time taken: 43.7494\n",
      "Function value obtained: -0.5351\n",
      "Current minimum: -0.8960\n",
      "Iteration 7: Testing params=[1.2172976749510152, 'auto', 'rbf'] => CV Score: -0.5351\n",
      "Iteration No: 8 ended. Search finished for the next optimal point.\n",
      "Time taken: 64.0471\n",
      "Function value obtained: -0.5351\n",
      "Current minimum: -0.8960\n",
      "Iteration 8: Testing params=[0.5212131190318166, 'auto', 'rbf'] => CV Score: -0.5351\n",
      "Iteration No: 9 ended. Search finished for the next optimal point.\n",
      "Time taken: 83.2904\n",
      "Function value obtained: -0.5351\n",
      "Current minimum: -0.8960\n",
      "Iteration 9: Testing params=[59.894912052679324, 'auto', 'poly'] => CV Score: -0.5351\n",
      "Iteration No: 10 ended. Search finished for the next optimal point.\n",
      "Time taken: 103.0701\n",
      "Function value obtained: -0.5351\n",
      "Current minimum: -0.8960\n",
      "Iteration 10: Testing params=[0.0010426811836320535, 'auto', 'poly'] => CV Score: -0.5351\n",
      "Iteration No: 11 ended. Search finished for the next optimal point.\n",
      "Time taken: 123.2312\n",
      "Function value obtained: -0.5351\n",
      "Current minimum: -0.8960\n",
      "Iteration 11: Testing params=[0.001, 'scale', 'poly'] => CV Score: -0.5351\n",
      "Iteration No: 12 ended. Search finished for the next optimal point.\n",
      "Time taken: 139.2046\n",
      "Function value obtained: -0.8977\n",
      "Current minimum: -0.8977\n",
      "Iteration 12: Testing params=[19.233187822021836, 'scale', 'rbf'] => CV Score: -0.8977\n",
      "Iteration No: 13 ended. Search finished for the next optimal point.\n",
      "Time taken: 147.8043\n",
      "Function value obtained: -0.8505\n",
      "Current minimum: -0.8977\n",
      "Iteration 13: Testing params=[99.79840831672213, 'scale', 'linear'] => CV Score: -0.8505\n",
      "Iteration No: 14 ended. Search finished for the next optimal point.\n",
      "Time taken: 156.9826\n",
      "Function value obtained: -0.8639\n",
      "Current minimum: -0.8977\n",
      "Iteration 14: Testing params=[7.716213299746393, 'auto', 'linear'] => CV Score: -0.8639\n",
      "Iteration No: 15 ended. Search finished for the next optimal point.\n",
      "Time taken: 178.2912\n",
      "Function value obtained: -0.5351\n",
      "Current minimum: -0.8977\n",
      "Iteration 15: Testing params=[0.001, 'scale', 'rbf'] => CV Score: -0.5351\n",
      "Best parameters found for group_train=10: OrderedDict([('C', 19.233187822021836), ('gamma', 'scale'), ('kernel', 'rbf')])\n",
      "Best CV accuracy for group_train=10: 0.8976588628762542\n",
      "\n",
      "\n",
      "Overall best results:\n",
      "Best group_train: 10\n",
      "Best SVM parameters: OrderedDict([('C', 19.233187822021836), ('gamma', 'scale'), ('kernel', 'rbf')])\n",
      "Best overall CV accuracy: 0.8976588628762542\n"
     ]
    }
   ],
   "source": [
    "df_train = pd.read_csv(\"df_train_withoutstemming.csv\").head(400000)\n",
    "df_eval = pd.read_csv(\"df_eval_withoutstemming.csv\").head(400000)\n",
    "df_train['Tweet'] = df_train['Tweet'].astype(str)\n",
    "df_eval['Tweet'] = df_eval['Tweet'].astype(str)\n",
    "\n",
    "target = 'EventType'\n",
    "embedding_dim = 2000\n",
    "\n",
    "group_train_candidates = [10] \n",
    "best_overall_score = -np.inf\n",
    "best_overall_params = None\n",
    "best_overall_group = None\n",
    "best_overall_svm = None\n",
    "\n",
    "# SVM parameter search space\n",
    "search_spaces = {\n",
    "    'C': Real(1e-3, 1e2, prior='log-uniform'),\n",
    "    'kernel': Categorical(['linear', 'rbf', 'poly']),\n",
    "    'gamma': Categorical(['scale', 'auto'])\n",
    "}\n",
    "\n",
    "cv = StratifiedKFold(n_splits=5, shuffle=True, random_state=42)\n",
    "\n",
    "def on_step(res):\n",
    "    iteration = len(res.x_iters)\n",
    "    params = res.x_iters[-1]\n",
    "    score = res.func_vals[-1]\n",
    "    print(f\"Iteration {iteration}: Testing params={params} => CV Score: {score:.4f}\")\n",
    "\n",
    "for g in group_train_candidates:\n",
    "    print(f\"Processing group_train={g}...\")\n",
    "    t0 = time()\n",
    "    # Group and embed once\n",
    "    df_train_grouped = concat_tweets(df_train, MAX_SUBGROUP=g, event_type=True)\n",
    "    vectorizer = fit_tfidf_embedding(df_train_grouped['Tweet'], max_features=embedding_dim)\n",
    "    X_train = tfidf_embedding(df_train_grouped['Tweet'], vectorizer)\n",
    "    y_train = df_train_grouped[target].values\n",
    "    print(f\"Data grouped and embedded for group_train={g} in {time()-t0:.2f}s\")\n",
    "    print(\"X_train shape:\", X_train.shape, \"y_train length:\", len(y_train))\n",
    "\n",
    "    svm_clf = SVC()\n",
    "    bayes_search = BayesSearchCV(\n",
    "        estimator=svm_clf,\n",
    "        search_spaces=search_spaces,\n",
    "        n_iter=15,\n",
    "        scoring='accuracy',\n",
    "        cv=cv,\n",
    "        n_jobs=-1,\n",
    "        verbose=0,\n",
    "        random_state=42\n",
    "    )\n",
    "\n",
    "    print(\"Running BayesSearchCV...\")\n",
    "    bayes_search.fit(X_train, y_train, callback=[VerboseCallback(n_total=5), on_step])\n",
    "    print(f\"Best parameters found for group_train={g}:\", bayes_search.best_params_)\n",
    "    print(f\"Best CV accuracy for group_train={g}:\", bayes_search.best_score_)\n",
    "\n",
    "    if bayes_search.best_score_ > best_overall_score:\n",
    "        best_overall_score = bayes_search.best_score_\n",
    "        best_overall_params = bayes_search.best_params_\n",
    "        best_overall_group = g\n",
    "        best_overall_svm = bayes_search.best_estimator_\n",
    "\n",
    "print(\"\\n\\nOverall best results:\")\n",
    "print(f\"Best group_train: {best_overall_group}\")\n",
    "print(\"Best SVM parameters:\", best_overall_params)\n",
    "print(\"Best overall CV accuracy:\", best_overall_score)\n",
    "\n",
    "# Once you've found the best group_train and SVM parameters,\n",
    "# you can retrain with these on the entire training set (already done above)\n",
    "# and apply the same logic to eval set.\n",
    "df_eval_grouped = concat_tweets(df_eval, MAX_SUBGROUP=best_overall_group, event_type=False)\n",
    "X_eval = tfidf_embedding(df_eval_grouped['Tweet'], vectorizer)\n",
    "eval_pred = best_overall_svm.predict(X_eval)"
   ]
  },
  {
   "cell_type": "markdown",
   "metadata": {},
   "source": [
    "# Evaluating the best SVM "
   ]
  },
  {
   "cell_type": "code",
   "execution_count": 14,
   "metadata": {},
   "outputs": [
    {
     "name": "stdout",
     "output_type": "stream",
     "text": [
      "Loading data...\n",
      "Data loaded in 3.24 seconds\n",
      "Grouping tweets...\n",
      "Tweets grouped in 1.63 seconds\n",
      "--------------------------------------------------\n",
      "\n",
      "Splitting data...\n",
      "Data splitted in 0.00 seconds\n",
      "--------------------------------------------------\n",
      "\n",
      "Embedding...\n",
      "Data embedded in 27.01 seconds\n",
      "--------------------------------------------------\n",
      "\n",
      "Creating the datasets...\n",
      "Datasets created in 0.21 seconds\n",
      "--------------------------------------------------\n",
      "\n"
     ]
    }
   ],
   "source": [
    "best_overall_group = 10\n",
    "\n",
    "# Load data \n",
    "t = time()\n",
    "print(\"Loading data...\")\n",
    "\n",
    "df_train = pd.read_csv(\"df_train_withoutstemming.csv\")\n",
    "df_eval = pd.read_csv(\"df_eval_withoutstemming.csv\")\n",
    "\n",
    "df_train['Tweet'] = df_train['Tweet'].astype(str)\n",
    "df_eval['Tweet'] = df_eval['Tweet'].astype(str)\n",
    "print(f\"Data loaded in {time()-t:.2f} seconds\")\n",
    "\n",
    "# Grouping\n",
    "print(\"Grouping tweets...\")\n",
    "t = time()\n",
    "\n",
    "df_train_bis = concat_tweets(df_train, MAX_SUBGROUP=best_overall_group, event_type=True)\n",
    "df_eval_bis = concat_tweets(df_eval, MAX_SUBGROUP=best_overall_group, event_type=False)\n",
    "\n",
    "print(f\"Tweets grouped in {time()-t:.2f} seconds\")\n",
    "print(\"-\"*50+\"\\n\")\n",
    "\n",
    "# Splitting\n",
    "print(\"Splitting data...\")\n",
    "t = time()\n",
    "\n",
    "train, test = train_test_split(df_train_bis, test_size=0.01, random_state=42)\n",
    "\n",
    "print(f\"Data splitted in {time()-t:.2f} seconds\")\n",
    "print(\"-\"*50+\"\\n\")\n",
    "\n",
    "# Embedding\n",
    "print(\"Embedding...\")\n",
    "t = time()\n",
    "\n",
    "# Fit on training data\n",
    "vectorizer = fit_tfidf_embedding(train['Tweet'], max_features=embedding_dim)\n",
    "\n",
    "# Transform data\n",
    "train_X = tfidf_embedding(train['Tweet'], vectorizer)\n",
    "test_X = tfidf_embedding(test['Tweet'], vectorizer)\n",
    "eval_X = tfidf_embedding(df_eval['Tweet'], vectorizer)\n",
    "\n",
    "print(f\"Data embedded in {time()-t:.2f} seconds\")\n",
    "print(\"-\"*50+\"\\n\")\n",
    "\n",
    "# Creating the datasets\n",
    "print(\"Creating the datasets...\")\n",
    "t = time()\n",
    "\n",
    "train_loader, test_loader, scaler = create_sets(train, test, train_X, test_X)\n",
    "\n",
    "print(f\"Datasets created in {time()-t:.2f} seconds\")\n",
    "print(\"-\"*50+\"\\n\")\n"
   ]
  },
  {
   "cell_type": "code",
   "execution_count": 16,
   "metadata": {},
   "outputs": [
    {
     "name": "stdout",
     "output_type": "stream",
     "text": [
      "Testing on SVM with regularization:\n",
      "SVM Accuracy: 0.7570093457943925\n",
      "Model trained in 180.32 seconds\n"
     ]
    }
   ],
   "source": [
    "# Regularized SVM\n",
    "print(\"Testing on SVM with regularization:\")\n",
    "t = time()\n",
    "svm = SVC(C=0.1, \n",
    "          kernel='rbf',\n",
    "          gamma='scale')\n",
    "svm.fit(train_X, train['EventType'])\n",
    "print(\"SVM Accuracy:\", svm.score(test_X, test['EventType']))\n",
    "print(f\"Model trained in {time()-t:.2f} seconds\")"
   ]
  },
  {
   "cell_type": "code",
   "execution_count": 37,
   "metadata": {},
   "outputs": [
    {
     "name": "stdout",
     "output_type": "stream",
     "text": [
      "Testing on SVM with regularization:\n",
      "SVM Accuracy: 0.5700934579439252\n",
      "Model trained in 531.11 seconds\n"
     ]
    }
   ],
   "source": [
    "# Regularized SVM\n",
    "print(\"Testing on SVM with regularization:\")\n",
    "t = time()\n",
    "svm2 = SVC(C=0.1, \n",
    "          kernel='rbf',\n",
    "          gamma='auto')\n",
    "svm2.fit(train_X, train['EventType'])\n",
    "print(\"SVM Accuracy:\", svm2.score(test_X, test['EventType']))\n",
    "print(f\"Model trained in {time()-t:.2f} seconds\")"
   ]
  },
  {
   "cell_type": "code",
   "execution_count": null,
   "metadata": {},
   "outputs": [
    {
     "name": "stdout",
     "output_type": "stream",
     "text": [
      "Testing on SVM with regularization:\n",
      "SVM Accuracy: 0.7663551401869159\n",
      "Model trained in 421.52 seconds\n"
     ]
    }
   ],
   "source": [
    "# Regularized SVM\n",
    "print(\"Testing on SVM with regularization:\")\n",
    "t = time()\n",
    "svm3 = SVC(C=0.1, \n",
    "          kernel='sigmoid',\n",
    "          gamma='scale')\n",
    "svm3.fit(train_X, train['EventType'])\n",
    "print(\"SVM Accuracy:\", svm3.score(test_X, test['EventType']))\n",
    "print(f\"Model trained in {time()-t:.2f} seconds\")"
   ]
  },
  {
   "cell_type": "code",
   "execution_count": 15,
   "metadata": {},
   "outputs": [
    {
     "name": "stdout",
     "output_type": "stream",
     "text": [
      "Testing on SVM with regularization:\n",
      "SVM Accuracy: 0.7383177570093458\n",
      "Model trained in 176.10 seconds\n"
     ]
    }
   ],
   "source": [
    "# Regularized SVM\n",
    "print(\"Testing on SVM with regularization:\")\n",
    "t = time()\n",
    "svm3 = SVC(C=0.1, \n",
    "          kernel='linear',\n",
    "          gamma='scale')\n",
    "svm3.fit(train_X, train['EventType'])\n",
    "print(\"SVM Accuracy:\", svm3.score(test_X, test['EventType']))\n",
    "print(f\"Model trained in {time()-t:.2f} seconds\")"
   ]
  },
  {
   "cell_type": "code",
   "execution_count": 17,
   "metadata": {},
   "outputs": [
    {
     "name": "stdout",
     "output_type": "stream",
     "text": [
      "Testing on SVM with regularization coef=0.0:\n",
      "SVM Accuracy: 0.7289719626168224\n",
      "Model trained in 187.66 seconds\n",
      "Testing on SVM with regularization coef=0.1:\n",
      "SVM Accuracy: 0.719626168224299\n",
      "Model trained in 190.87 seconds\n",
      "Testing on SVM with regularization coef=0.5:\n",
      "SVM Accuracy: 0.7009345794392523\n",
      "Model trained in 197.93 seconds\n",
      "Testing on SVM with regularization coef=1.0:\n",
      "SVM Accuracy: 0.7102803738317757\n",
      "Model trained in 206.80 seconds\n"
     ]
    }
   ],
   "source": [
    "for coef in [0.0, 0.1, 0.5, 1.0]:\n",
    "    # Regularized SVM\n",
    "    print(f\"Testing on SVM with regularization coef={coef}:\")\n",
    "    t = time()\n",
    "    svm3 = SVC(C=0.1, \n",
    "            kernel='sigmoid',\n",
    "            gamma='scale',\n",
    "            coef0=coef)\n",
    "    svm3.fit(train_X, train['EventType'])\n",
    "    print(\"SVM Accuracy:\", svm3.score(test_X, test['EventType']))\n",
    "    print(f\"Model trained in {time()-t:.2f} seconds\")"
   ]
  },
  {
   "cell_type": "code",
   "execution_count": 18,
   "metadata": {},
   "outputs": [
    {
     "name": "stdout",
     "output_type": "stream",
     "text": [
      "Testing on SVM with regularization coef=0.0:\n",
      "SVM Accuracy: 0.7383177570093458\n",
      "Model trained in 172.17 seconds\n",
      "Testing on SVM with regularization coef=0.1:\n",
      "SVM Accuracy: 0.7383177570093458\n",
      "Model trained in 172.44 seconds\n",
      "Testing on SVM with regularization coef=0.5:\n",
      "SVM Accuracy: 0.7383177570093458\n",
      "Model trained in 172.68 seconds\n",
      "Testing on SVM with regularization coef=1.0:\n",
      "SVM Accuracy: 0.7383177570093458\n",
      "Model trained in 172.21 seconds\n"
     ]
    }
   ],
   "source": [
    "for coef in [0.0, 0.1, 0.5, 1.0]:\n",
    "    # Regularized SVM\n",
    "    print(f\"Testing on SVM with regularization coef={coef}:\")\n",
    "    t = time()\n",
    "    svm3 = SVC(C=0.1, \n",
    "            kernel='linear',\n",
    "            gamma='scale',\n",
    "            coef0=coef)\n",
    "    svm3.fit(train_X, train['EventType'])\n",
    "    print(\"SVM Accuracy:\", svm3.score(test_X, test['EventType']))\n",
    "    print(f\"Model trained in {time()-t:.2f} seconds\")"
   ]
  },
  {
   "cell_type": "code",
   "execution_count": null,
   "metadata": {},
   "outputs": [
    {
     "name": "stdout",
     "output_type": "stream",
     "text": [
      "en\n",
      "Language detected in 0.003720 seconds\n",
      "('en', -76.98550987243652)\n",
      "Language detected in 0.009630 seconds\n"
     ]
    }
   ],
   "source": [
    "from time import time\n",
    "\n",
    "t = time()\n",
    "tweet = \"this tweet is in english\"\n",
    "print(detect(tweet))\n",
    "print(f\"Language detected in {time()-t:.6f} seconds\")"
   ]
  },
  {
   "cell_type": "code",
   "execution_count": 19,
   "metadata": {},
   "outputs": [
    {
     "name": "stdout",
     "output_type": "stream",
     "text": [
      "Testing on SVM with regularization :\n",
      "SVM Accuracy: 0.7523364485981309\n",
      "Model trained in 189.85 seconds\n"
     ]
    }
   ],
   "source": [
    "\n",
    "# Regularized SVM\n",
    "print(f\"Testing on SVM with regularization :\")\n",
    "t = time()\n",
    "svm3 = SVC(C=0.1, \n",
    "        kernel='linear',\n",
    "        gamma='scale',\n",
    "        class_weight='balanced')\n",
    "svm3.fit(train_X, train['EventType'])\n",
    "print(\"SVM Accuracy:\", svm3.score(test_X, test['EventType']))\n",
    "print(f\"Model trained in {time()-t:.2f} seconds\")"
   ]
  },
  {
   "cell_type": "code",
   "execution_count": 20,
   "metadata": {},
   "outputs": [
    {
     "name": "stdout",
     "output_type": "stream",
     "text": [
      "Testing on SVM with regularization:\n",
      "SVM Accuracy: 0.7523364485981309\n",
      "Model trained in 214.82 seconds\n"
     ]
    }
   ],
   "source": [
    "# Regularized SVM\n",
    "print(\"Testing on SVM with regularization:\")\n",
    "t = time()\n",
    "svm = SVC(C=0.1, \n",
    "          kernel='rbf',\n",
    "          gamma='scale',\n",
    "            class_weight='balanced')\n",
    "svm.fit(train_X, train['EventType'])\n",
    "print(\"SVM Accuracy:\", svm.score(test_X, test['EventType']))\n",
    "print(f\"Model trained in {time()-t:.2f} seconds\")"
   ]
  },
  {
   "cell_type": "code",
   "execution_count": 21,
   "metadata": {},
   "outputs": [
    {
     "name": "stdout",
     "output_type": "stream",
     "text": [
      "Testing on SVM with regularization:\n",
      "SVM Accuracy: 0.6869158878504673\n",
      "Model trained in 230.48 seconds\n"
     ]
    }
   ],
   "source": [
    "# Regularized SVM\n",
    "print(\"Testing on SVM with regularization:\")\n",
    "t = time()\n",
    "svm = SVC(C=0.01, \n",
    "          kernel='linear',\n",
    "          gamma='scale',\n",
    "            class_weight='balanced')\n",
    "svm.fit(train_X, train['EventType'])\n",
    "print(\"SVM Accuracy:\", svm.score(test_X, test['EventType']))\n",
    "print(f\"Model trained in {time()-t:.2f} seconds\")"
   ]
  },
  {
   "cell_type": "code",
   "execution_count": 22,
   "metadata": {},
   "outputs": [
    {
     "name": "stdout",
     "output_type": "stream",
     "text": [
      "Testing on SVM with regularization:\n",
      "SVM Accuracy: 0.7009345794392523\n",
      "Model trained in 262.83 seconds\n"
     ]
    }
   ],
   "source": [
    "# Regularized SVM\n",
    "print(\"Testing on SVM with regularization:\")\n",
    "t = time()\n",
    "svm = SVC(C=0.01, \n",
    "          kernel='rbf',\n",
    "          gamma='scale',\n",
    "            class_weight='balanced')\n",
    "svm.fit(train_X, train['EventType'])\n",
    "print(\"SVM Accuracy:\", svm.score(test_X, test['EventType']))\n",
    "print(f\"Model trained in {time()-t:.2f} seconds\")"
   ]
  },
  {
   "cell_type": "code",
   "execution_count": 23,
   "metadata": {},
   "outputs": [
    {
     "name": "stdout",
     "output_type": "stream",
     "text": [
      "Testing on SVM with regularization:\n",
      "SVM Accuracy: 0.8364485981308412\n",
      "Model trained in 249.43 seconds\n"
     ]
    }
   ],
   "source": [
    "# Regularized SVM\n",
    "print(\"Testing on SVM with regularization:\")\n",
    "t = time()\n",
    "svm = SVC(C=1, \n",
    "          kernel='rbf',\n",
    "          gamma='scale',\n",
    "            class_weight='balanced')\n",
    "svm.fit(train_X, train['EventType'])\n",
    "print(\"SVM Accuracy:\", svm.score(test_X, test['EventType']))\n",
    "print(f\"Model trained in {time()-t:.2f} seconds\")"
   ]
  },
  {
   "cell_type": "code",
   "execution_count": 24,
   "metadata": {},
   "outputs": [
    {
     "name": "stdout",
     "output_type": "stream",
     "text": [
      "Testing on SVM with regularization:\n",
      "SVM Accuracy: 0.7523364485981309\n",
      "Model trained in 174.10 seconds\n"
     ]
    }
   ],
   "source": [
    "# Regularized SVM\n",
    "print(\"Testing on SVM with regularization:\")\n",
    "t = time()\n",
    "svm = SVC(C=1, \n",
    "          kernel='linear',\n",
    "          gamma='scale',\n",
    "            class_weight='balanced')\n",
    "svm.fit(train_X, train['EventType'])\n",
    "print(\"SVM Accuracy:\", svm.score(test_X, test['EventType']))\n",
    "print(f\"Model trained in {time()-t:.2f} seconds\")"
   ]
  },
  {
   "cell_type": "code",
   "execution_count": 25,
   "metadata": {},
   "outputs": [
    {
     "name": "stdout",
     "output_type": "stream",
     "text": [
      "Testing on SVM with regularization:\n",
      "SVM Accuracy: 0.8738317757009346\n",
      "Model trained in 683.18 seconds\n"
     ]
    }
   ],
   "source": [
    "# Regularized SVM\n",
    "print(\"Testing on SVM with regularization:\")\n",
    "t = time()\n",
    "svm = SVC(C=10, \n",
    "          kernel='rbf',\n",
    "          gamma='scale',\n",
    "            class_weight='balanced')\n",
    "svm.fit(train_X, train['EventType'])\n",
    "print(\"SVM Accuracy:\", svm.score(test_X, test['EventType']))\n",
    "print(f\"Model trained in {time()-t:.2f} seconds\")"
   ]
  },
  {
   "cell_type": "code",
   "execution_count": 26,
   "metadata": {},
   "outputs": [
    {
     "name": "stdout",
     "output_type": "stream",
     "text": [
      "Testing on SVM with regularization:\n",
      "SVM Accuracy: 0.7850467289719626\n",
      "Model trained in 229.00 seconds\n"
     ]
    }
   ],
   "source": [
    "# Regularized SVM\n",
    "print(\"Testing on SVM with regularization:\")\n",
    "t = time()\n",
    "svm = SVC(C=10, \n",
    "          kernel='linear',\n",
    "          gamma='scale',\n",
    "            class_weight='balanced')\n",
    "svm.fit(train_X, train['EventType'])\n",
    "print(\"SVM Accuracy:\", svm.score(test_X, test['EventType']))\n",
    "print(f\"Model trained in {time()-t:.2f} seconds\")"
   ]
  },
  {
   "cell_type": "code",
   "execution_count": 31,
   "metadata": {},
   "outputs": [
    {
     "name": "stdout",
     "output_type": "stream",
     "text": [
      "Loading data...\n",
      "Data loaded in 3.19 seconds\n",
      "Grouping tweets...\n",
      "Tweets grouped in 1.50 seconds\n",
      "--------------------------------------------------\n",
      "\n",
      "Splitting data...\n",
      "Data splitted in 0.00 seconds\n",
      "--------------------------------------------------\n",
      "\n",
      "Embedding...\n",
      "Data embedded in 22.96 seconds\n",
      "--------------------------------------------------\n",
      "\n",
      "Creating the datasets...\n",
      "Datasets created in 0.16 seconds\n",
      "--------------------------------------------------\n",
      "\n"
     ]
    }
   ],
   "source": [
    "best_overall_group = 10\n",
    "embedding_dim = 1000\n",
    "\n",
    "# Load data \n",
    "t = time()\n",
    "print(\"Loading data...\")\n",
    "\n",
    "df_train = pd.read_csv(\"df_train_withoutstemming.csv\")\n",
    "df_eval = pd.read_csv(\"df_eval_withoutstemming.csv\")\n",
    "\n",
    "df_train['Tweet'] = df_train['Tweet'].astype(str)\n",
    "df_eval['Tweet'] = df_eval['Tweet'].astype(str)\n",
    "print(f\"Data loaded in {time()-t:.2f} seconds\")\n",
    "\n",
    "# Grouping\n",
    "print(\"Grouping tweets...\")\n",
    "t = time()\n",
    "\n",
    "df_train_bis = concat_tweets(df_train, MAX_SUBGROUP=best_overall_group, event_type=True)\n",
    "df_eval_bis = concat_tweets(df_eval, MAX_SUBGROUP=best_overall_group, event_type=False)\n",
    "\n",
    "print(f\"Tweets grouped in {time()-t:.2f} seconds\")\n",
    "print(\"-\"*50+\"\\n\")\n",
    "\n",
    "# Splitting\n",
    "print(\"Splitting data...\")\n",
    "t = time()\n",
    "\n",
    "train, test = train_test_split(df_train_bis, test_size=0.01, random_state=42)\n",
    "\n",
    "print(f\"Data splitted in {time()-t:.2f} seconds\")\n",
    "print(\"-\"*50+\"\\n\")\n",
    "\n",
    "# Embedding\n",
    "print(\"Embedding...\")\n",
    "t = time()\n",
    "\n",
    "# Fit on training data\n",
    "vectorizer = fit_tfidf_embedding(train['Tweet'], max_features=embedding_dim)\n",
    "\n",
    "# Transform data\n",
    "train_X = tfidf_embedding(train['Tweet'], vectorizer)\n",
    "test_X = tfidf_embedding(test['Tweet'], vectorizer)\n",
    "eval_X = tfidf_embedding(df_eval_bis['Tweet'], vectorizer)\n",
    "\n",
    "print(f\"Data embedded in {time()-t:.2f} seconds\")\n",
    "print(\"-\"*50+\"\\n\")\n",
    "\n",
    "# Creating the datasets\n",
    "print(\"Creating the datasets...\")\n",
    "t = time()\n",
    "\n",
    "train_loader, test_loader, scaler = create_sets(train, test, train_X, test_X)\n",
    "\n",
    "print(f\"Datasets created in {time()-t:.2f} seconds\")\n",
    "print(\"-\"*50+\"\\n\")\n"
   ]
  },
  {
   "cell_type": "code",
   "execution_count": 32,
   "metadata": {},
   "outputs": [
    {
     "name": "stdout",
     "output_type": "stream",
     "text": [
      "Testing on SVM with regularization:\n",
      "SVM Accuracy: 0.7523364485981309\n",
      "Model trained in 178.91 seconds\n"
     ]
    }
   ],
   "source": [
    "# Regularized SVM\n",
    "print(\"Testing on SVM with regularization:\")\n",
    "t = time()\n",
    "svm = SVC(C=0.1, \n",
    "          kernel='rbf')\n",
    "svm.fit(train_X, train['EventType'])\n",
    "print(\"SVM Accuracy:\", svm.score(test_X, test['EventType']))\n",
    "print(f\"Model trained in {time()-t:.2f} seconds\")"
   ]
  },
  {
   "cell_type": "code",
   "execution_count": 33,
   "metadata": {},
   "outputs": [],
   "source": [
    "pridictions_svm = svm.predict(eval_X)\n",
    "\n",
    "# Now predictions should align with match3 rows\n",
    "predictions_eval = pd.DataFrame({\n",
    "    'ID': df_eval_bis['ID'],\n",
    "    'MatchID': df_eval_bis['MatchID'],\n",
    "    'PeriodID': df_eval_bis['PeriodID'],\n",
    "    'Predicted_SVM': pridictions_svm,\n",
    "})\n",
    "\n",
    "# Group by ID/PeriodID/MatchID and average the predictions and sort by matchID and then PeriodID\n",
    "predictions_eval = predictions_eval.groupby(['ID', 'MatchID', 'PeriodID']).mean().reset_index().sort_values(['MatchID', 'PeriodID'])\n",
    "predictions_eval['Predicted_SVM_three'] = (predictions_eval['Predicted_SVM'] > 0.5).astype(int)\n",
    "\n"
   ]
  },
  {
   "cell_type": "code",
   "execution_count": 34,
   "metadata": {},
   "outputs": [
    {
     "data": {
      "image/png": "[encoded data removed]",
      "text/plain": [
       "<Figure size 640x480 with 1 Axes>"
      ]
     },
     "metadata": {},
     "output_type": "display_data"
    },
    {
     "data": {
      "image/png": "[encoded data removed]",
      "text/plain": [
       "<Figure size 640x480 with 1 Axes>"
      ]
     },
     "metadata": {},
     "output_type": "display_data"
    }
   ],
   "source": [
    "predict_test = svm.predict(test_X)\n",
    "\n",
    "# Plot histogram of test predictions/true labels\n",
    "plt.hist(test['EventType'], bins=20, alpha=0.5, label='True')\n",
    "plt.hist(predict_test, bins=20, alpha=0.5, label='Predicted')\n",
    "plt.axvline(0.5, color='r', linestyle='dotted', label='Threshold')\n",
    "plt.legend()\n",
    "plt.title(f'SVM Predictions on Test Set')\n",
    "\n",
    "plt.show()\n",
    "\n",
    "# Plot histogram of predictions\n",
    "plt.hist(predictions_eval['Predicted_SVM'], bins=20, alpha=0.5, label='SVM')\n",
    "plt.axvline(0.5, color='r', linestyle='dotted', label='Threshold')\n",
    "plt.legend()\n",
    "plt.title(f'SVM Predictions')\n",
    "plt.show()"
   ]
  },
  {
   "cell_type": "code",
   "execution_count": 35,
   "metadata": {},
   "outputs": [],
   "source": [
    "# Save in csv file\n",
    "predictions_eval.drop(columns=['PeriodID', 'Predicted_SVM', 'MatchID']).to_csv('predictions_opt_svm.csv', index=False)\n"
   ]
  }
 ],
 "metadata": {
  "kernelspec": {
   "display_name": "inf554bis",
   "language": "python",
   "name": "python3"
  },
  "language_info": {
   "codemirror_mode": {
    "name": "ipython",
    "version": 3
   },
   "file_extension": ".py",
   "mimetype": "text/x-python",
   "name": "python",
   "nbconvert_exporter": "python",
   "pygments_lexer": "ipython3",
   "version": "3.11.10"
  }
 },
 "nbformat": 4,
 "nbformat_minor": 2
}
