{
 "cells": [
  {
   "cell_type": "code",
   "execution_count": 9,
   "metadata": {
    "colab": {
     "base_uri": "https://localhost:8080/"
    },
    "id": "-WJSb-0yYoZN",
    "outputId": "cf0290a9-4999-4e4a-a036-cf27134d84d3"
   },
   "outputs": [
    {
     "name": "stdout",
     "output_type": "stream",
     "text": [
      "Tensorflow Version 2.18.0\n"
     ]
    },
    {
     "name": "stderr",
     "output_type": "stream",
     "text": [
      "[nltk_data] Downloading package stopwords to\n",
      "[nltk_data]     /users/eleves-b/2022/axel.delaval/nltk_data...\n",
      "[nltk_data]   Package stopwords is already up-to-date!\n"
     ]
    }
   ],
   "source": [
    "# importing dependancies\n",
    "\n",
    "import pandas as pd\n",
    "import numpy as np\n",
    "import matplotlib.pyplot as plt\n",
    "import tensorflow as tf\n",
    "\n",
    "import nltk\n",
    "nltk.download(\"stopwords\")\n",
    "from nltk.corpus import stopwords\n",
    "from nltk.stem import SnowballStemmer\n",
    "\n",
    "from sklearn.feature_extraction.text import TfidfVectorizer\n",
    "\n",
    "from sklearn.model_selection import train_test_split\n",
    "from sklearn.preprocessing import LabelEncoder\n",
    "import os\n",
    "\n",
    "import re\n",
    "\n",
    "from time import time\n",
    "\n",
    "print(\"Tensorflow Version\",tf.__version__)"
   ]
  },
  {
   "cell_type": "markdown",
   "metadata": {
    "id": "9XBSP6fynqvZ"
   },
   "source": [
    "# Concatenation"
   ]
  },
  {
   "cell_type": "code",
   "execution_count": 10,
   "metadata": {
    "id": "jXq-gcJilzDk"
   },
   "outputs": [],
   "source": [
    "def concat_tweets(df, MAX_SUBGROUP=150, event_type=True):\n",
    "    \"\"\"\n",
    "    For each group of tweets with the same ID/MatchID/PeriodID/EventType,\n",
    "    We create `MAX_SUBGROUP` subgroups of tweets by concatenating them.\n",
    "    Therefore if `MAX_SUBGROUP` = 1, we have 1 tweet per ID/MatchID/PeriodID/EventType\n",
    "    If `MAX_SUBGROUP` = +inf, we have all the tweets in different subgroups.\n",
    "    \"\"\"\n",
    "\n",
    "    ### Grouping tweets who have same timestamp by concatenating them\n",
    "    # Create an array of random integers in {0, ..., MAX_SUBGROUP} of size len(df_train)\n",
    "    df[\"random_id\"] = np.random.randint(0, MAX_SUBGROUP, len(df))\n",
    "    if event_type:\n",
    "        df_bis = df.groupby(['ID', \"MatchID\", \"PeriodID\", \"EventType\", \"random_id\"])['Tweet'].apply(lambda x: ' '.join(x)).reset_index().drop(columns='random_id')\n",
    "    else:\n",
    "        df_bis = df.groupby(['ID', \"MatchID\", \"PeriodID\", \"random_id\"])['Tweet'].apply(lambda x: ' '.join(x)).reset_index().drop(columns='random_id')\n",
    "    df_bis = df_bis.sample(frac=1).reset_index(drop=True)\n",
    "    return df_bis"
   ]
  },
  {
   "cell_type": "markdown",
   "metadata": {
    "id": "BBoSgr6lntFO"
   },
   "source": [
    "# Embedding"
   ]
  },
  {
   "cell_type": "code",
   "execution_count": 11,
   "metadata": {
    "id": "ofgu9QYwnpfy"
   },
   "outputs": [],
   "source": [
    "def fit_tfidf_embedding(train_tweets, max_features=2000, ngram_range=(1,1), max_df=0.7, min_df=2, sublinear_tf=False):\n",
    "    \"\"\"\n",
    "    Fit a TF-IDF vectorizer on the training tweets.\n",
    "    Returns the fitted vectorizer.\n",
    "    \"\"\"\n",
    "    vectorizer = TfidfVectorizer(max_features=max_features,\n",
    "                                 max_df=max_df,\n",
    "                                 ngram_range=ngram_range,\n",
    "                                 min_df=min_df,\n",
    "                                 sublinear_tf=sublinear_tf)\n",
    "    vectorizer.fit(train_tweets)\n",
    "    return vectorizer\n",
    "\n",
    "def tfidf_embedding(tweets, vectorizer):\n",
    "    \"\"\"\n",
    "    Transform tweets into TF-IDF features using a fitted vectorizer.\n",
    "    \"\"\"\n",
    "    return vectorizer.transform(tweets).toarray()"
   ]
  },
  {
   "cell_type": "markdown",
   "metadata": {
    "id": "lJNaJ02OnvDh"
   },
   "source": [
    "# Loading"
   ]
  },
  {
   "cell_type": "code",
   "execution_count": 12,
   "metadata": {
    "colab": {
     "base_uri": "https://localhost:8080/"
    },
    "id": "L0prJ-GcYoaB",
    "outputId": "dccbd5e5-8649-48df-d888-7060112fd6a0"
   },
   "outputs": [
    {
     "name": "stdout",
     "output_type": "stream",
     "text": [
      "The shape of the training data is: (5056050, 6)\n",
      "The shape of the evaluation data is: (1072928, 5)\n",
      "The shape of the training data after removing duplicates is: (4518486, 6)\n",
      "The shape of the evaluation data after removing duplicates is: (963395, 5)\n"
     ]
    }
   ],
   "source": [
    "df_train = pd.read_csv(\"df_train_withoutstemming.csv\")\n",
    "df_eval = pd.read_csv(\"df_eval_withoutstemming.csv\")\n",
    "\n",
    "# str the 'Tweet' column\n",
    "df_train['Tweet'] = df_train['Tweet'].astype(str)\n",
    "df_eval['Tweet'] = df_eval['Tweet'].astype(str)\n",
    "print(f'The shape of the training data is: {df_train.shape}')\n",
    "print(f'The shape of the evaluation data is: {df_eval.shape}')\n",
    "\n",
    "# Filter :\n",
    "df_train = df_train[df_train[\"Tweet\"].notnull()]  # Remove null values\n",
    "df_train = df_train[df_train[\"Tweet\"].str.strip() != \"\"]  # Remove empty strings\n",
    "df_eval = df_eval[df_eval[\"Tweet\"].notnull()]  # Remove null values\n",
    "df_eval = df_eval[df_eval[\"Tweet\"].str.strip() != \"\"]  # Remove empty strings\n",
    "\n",
    "# # Remove any dupplicates\n",
    "df_train = df_train.drop_duplicates()\n",
    "df_eval = df_eval.drop_duplicates()\n",
    "print(f'The shape of the training data after removing duplicates is: {df_train.shape}')\n",
    "print(f'The shape of the evaluation data after removing duplicates is: {df_eval.shape}')"
   ]
  },
  {
   "cell_type": "code",
   "execution_count": 13,
   "metadata": {
    "colab": {
     "base_uri": "https://localhost:8080/"
    },
    "id": "6IMueGPVl0Mf",
    "outputId": "6ad17d22-1edc-4940-ac44-db9449dba1fb"
   },
   "outputs": [
    {
     "name": "stdout",
     "output_type": "stream",
     "text": [
      "Grouping tweets...\n",
      "The shape of the training data after grouping is: (210752, 5)\n",
      "The shape of the evaluation data after grouping is: (50218, 4)\n",
      "The max number of words in a tweet is: 606\n",
      "The max number of words in a tweet is: 516\n"
     ]
    }
   ],
   "source": [
    "Group_train = 100\n",
    "Group_eval = 100\n",
    "\n",
    "# Grouping\n",
    "print(\"Grouping tweets...\")\n",
    "\n",
    "df_train_bis = concat_tweets(df_train, MAX_SUBGROUP=Group_train, event_type=True)\n",
    "df_eval_bis = concat_tweets(df_eval, MAX_SUBGROUP=Group_eval, event_type=False)\n",
    "\n",
    "print(f\"The shape of the training data after grouping is: {df_train_bis.shape}\")\n",
    "print(f\"The shape of the evaluation data after grouping is: {df_eval_bis.shape}\")\n",
    "\n",
    "print(f'The max number of words in a tweet is: {df_train_bis[\"Tweet\"].apply(lambda x: len(x.split())).max()}')\n",
    "print(f'The max number of words in a tweet is: {df_eval_bis[\"Tweet\"].apply(lambda x: len(x.split())).max()}')"
   ]
  },
  {
   "cell_type": "code",
   "execution_count": 14,
   "metadata": {
    "colab": {
     "base_uri": "https://localhost:8080/",
     "height": 487
    },
    "id": "vfkmqUboYoaO",
    "outputId": "abc137e3-3009-496b-f6f4-b96ea061200c"
   },
   "outputs": [
    {
     "data": {
      "image/png": "[encoded data removed]",
      "text/plain": [
       "<Figure size 1000x500 with 1 Axes>"
      ]
     },
     "metadata": {},
     "output_type": "display_data"
    }
   ],
   "source": [
    "val_count_train = df_train_bis['EventType'].value_counts()\n",
    "\n",
    "plt.figure(figsize=(10,5))\n",
    "plt.bar(val_count_train.index, val_count_train.values, label='Training Data', alpha=0.2)\n",
    "plt.title(\"Data Distribution\")\n",
    "plt.xlabel(\"Class\")\n",
    "plt.ylabel(\"Count\")\n",
    "plt.show()"
   ]
  },
  {
   "cell_type": "code",
   "execution_count": 15,
   "metadata": {
    "colab": {
     "base_uri": "https://localhost:8080/"
    },
    "id": "c9VQSOjQYoaR",
    "outputId": "0af82518-2505-4719-a143-ee73f16b093c"
   },
   "outputs": [
    {
     "name": "stdout",
     "output_type": "stream",
     "text": [
      "Data shuffled\n"
     ]
    }
   ],
   "source": [
    "# Shuffle the rows\n",
    "\n",
    "df_train_bis = df_train_bis.sample(frac=1).reset_index(drop=True)\n",
    "df_eval_bis = df_eval_bis.sample(frac=1).reset_index(drop=True)\n",
    "\n",
    "print('Data shuffled')"
   ]
  },
  {
   "cell_type": "markdown",
   "metadata": {
    "id": "75_rK3HCoyBc"
   },
   "source": [
    "# Embedding"
   ]
  },
  {
   "cell_type": "code",
   "execution_count": 16,
   "metadata": {
    "id": "nYrYIvn2pBzZ"
   },
   "outputs": [],
   "source": [
    "train, test = train_test_split(df_train_bis, test_size=0.2, random_state=42)"
   ]
  },
  {
   "cell_type": "code",
   "execution_count": 17,
   "metadata": {
    "colab": {
     "base_uri": "https://localhost:8080/"
    },
    "id": "pcORtQ4iwymQ",
    "outputId": "85643e74-65e4-4843-db18-4cbd7e7459ac"
   },
   "outputs": [
    {
     "data": {
      "text/plain": [
       "597"
      ]
     },
     "execution_count": 17,
     "metadata": {},
     "output_type": "execute_result"
    }
   ],
   "source": [
    "np.max([len(tweet.split()) for tweet in train['Tweet']])"
   ]
  },
  {
   "cell_type": "code",
   "execution_count": 18,
   "metadata": {
    "id": "AjPyM2OpqvEn"
   },
   "outputs": [],
   "source": [
    "MAX_NB_WORDS = 2000\n",
    "MAX_SEQUENCE_LENGTH = 613"
   ]
  },
  {
   "cell_type": "code",
   "execution_count": 19,
   "metadata": {
    "colab": {
     "base_uri": "https://localhost:8080/"
    },
    "id": "B9pn7X1BqvHd",
    "outputId": "69f37189-a6f8-493d-a1eb-76295b15feda"
   },
   "outputs": [
    {
     "name": "stdout",
     "output_type": "stream",
     "text": [
      "Vocabulary Size : 234685\n"
     ]
    }
   ],
   "source": [
    "from tensorflow.keras.preprocessing.text import Tokenizer\n",
    "\n",
    "tokenizer = Tokenizer()\n",
    "tokenizer.fit_on_texts(train['Tweet'])\n",
    "\n",
    "word_index = tokenizer.word_index\n",
    "vocab_size = len(tokenizer.word_index) + 1\n",
    "print(\"Vocabulary Size :\", vocab_size)"
   ]
  },
  {
   "cell_type": "code",
   "execution_count": 21,
   "metadata": {
    "colab": {
     "base_uri": "https://localhost:8080/"
    },
    "id": "EMJBrfnArbU-",
    "outputId": "8ca66da4-349b-4d9d-b184-ac69a23e0019"
   },
   "outputs": [
    {
     "name": "stdout",
     "output_type": "stream",
     "text": [
      "Training X Shape: (168601, 613)\n",
      "Testing X Shape: (42151, 613)\n"
     ]
    }
   ],
   "source": [
    "from keras_preprocessing.sequence import pad_sequences\n",
    "\n",
    "x_train = pad_sequences(tokenizer.texts_to_sequences(train.Tweet), maxlen = MAX_SEQUENCE_LENGTH)\n",
    "x_test = pad_sequences(tokenizer.texts_to_sequences(test.Tweet), maxlen = MAX_SEQUENCE_LENGTH)\n",
    "\n",
    "print(\"Training X Shape:\",x_train.shape)\n",
    "print(\"Testing X Shape:\",x_test.shape)"
   ]
  },
  {
   "cell_type": "code",
   "execution_count": 22,
   "metadata": {
    "colab": {
     "base_uri": "https://localhost:8080/"
    },
    "id": "v1BN_doXr1VO",
    "outputId": "97715544-5862-45af-a399-023bfe771d00"
   },
   "outputs": [
    {
     "name": "stdout",
     "output_type": "stream",
     "text": [
      "[0, 1]\n"
     ]
    }
   ],
   "source": [
    "labels = train.EventType.unique().tolist()\n",
    "print(labels)"
   ]
  },
  {
   "cell_type": "code",
   "execution_count": 23,
   "metadata": {
    "colab": {
     "base_uri": "https://localhost:8080/"
    },
    "id": "aVX-fxFAsLyx",
    "outputId": "20cc74e9-fbfa-46b9-d19e-9fb3e97c3325"
   },
   "outputs": [
    {
     "name": "stdout",
     "output_type": "stream",
     "text": [
      "y_train shape: (168601, 1)\n",
      "y_test shape: (42151, 1)\n"
     ]
    }
   ],
   "source": [
    "encoder = LabelEncoder()\n",
    "encoder.fit(train.EventType.to_list())\n",
    "\n",
    "y_train = encoder.transform(train.EventType.to_list())\n",
    "y_test = encoder.transform(test.EventType.to_list())\n",
    "\n",
    "y_train = y_train.reshape(-1,1)\n",
    "y_test = y_test.reshape(-1,1)\n",
    "\n",
    "print(\"y_train shape:\",y_train.shape)\n",
    "print(\"y_test shape:\",y_test.shape)"
   ]
  },
  {
   "cell_type": "code",
   "execution_count": 24,
   "metadata": {
    "id": "DxQmH-b3sYYe"
   },
   "outputs": [],
   "source": [
    "GLOVE_EMB = 'glove.twitter.27B.200d.txt'\n",
    "EMBEDDING_DIM = 200\n",
    "LR = 1e-3\n",
    "BATCH_SIZE = 1024\n",
    "EPOCHS = 10"
   ]
  },
  {
   "cell_type": "code",
   "execution_count": 25,
   "metadata": {
    "colab": {
     "base_uri": "https://localhost:8080/"
    },
    "id": "f14FIq-vqvJ0",
    "outputId": "c886faca-de8b-46cb-b863-21a32a715003"
   },
   "outputs": [
    {
     "name": "stdout",
     "output_type": "stream",
     "text": [
      "Found 369269 word vectors.\n"
     ]
    }
   ],
   "source": [
    "embeddings_index = {}\n",
    "\n",
    "f = open(GLOVE_EMB)\n",
    "for line in f:\n",
    "  values = line.split()\n",
    "  word = value = values[0]\n",
    "  coefs = np.asarray(values[1:], dtype='float32')\n",
    "  embeddings_index[word] = coefs\n",
    "f.close()\n",
    "\n",
    "print('Found %s word vectors.' %len(embeddings_index))"
   ]
  },
  {
   "cell_type": "code",
   "execution_count": 26,
   "metadata": {
    "id": "eRS2BJLBqvMb"
   },
   "outputs": [],
   "source": [
    "embedding_matrix = np.zeros((vocab_size, EMBEDDING_DIM))\n",
    "for word, i in word_index.items():\n",
    "  embedding_vector = embeddings_index.get(word)\n",
    "  if embedding_vector is not None:\n",
    "    embedding_matrix[i] = embedding_vector"
   ]
  },
  {
   "cell_type": "code",
   "execution_count": 27,
   "metadata": {
    "colab": {
     "base_uri": "https://localhost:8080/"
    },
    "id": "J8GaTOuDqvPB",
    "outputId": "f2d47e2d-52d3-4fbe-ee67-7446872181ea"
   },
   "outputs": [
    {
     "name": "stderr",
     "output_type": "stream",
     "text": [
      "/users/eleves-b/2022/axel.delaval/miniconda3/envs/inf554bis/lib/python3.11/site-packages/keras/src/layers/core/embedding.py:90: UserWarning: Argument `input_length` is deprecated. Just remove it.\n",
      "  warnings.warn(\n",
      "W0000 00:00:1733932136.739364  472230 gpu_device.cc:2344] Cannot dlopen some GPU libraries. Please make sure the missing libraries mentioned above are installed properly if you would like to use GPU. Follow the guide at https://www.tensorflow.org/install/gpu for how to download and setup the required libraries for your platform.\n",
      "Skipping registering GPU devices...\n"
     ]
    }
   ],
   "source": [
    "embedding_layer = tf.keras.layers.Embedding(vocab_size,\n",
    "                                          EMBEDDING_DIM,\n",
    "                                          weights=[embedding_matrix],\n",
    "                                          input_length=MAX_SEQUENCE_LENGTH,\n",
    "                                          trainable=False)"
   ]
  },
  {
   "cell_type": "markdown",
   "metadata": {
    "id": "h9TUseQ5s3hM"
   },
   "source": [
    "# Training"
   ]
  },
  {
   "cell_type": "code",
   "execution_count": 28,
   "metadata": {
    "id": "8a6lN6easvSn"
   },
   "outputs": [],
   "source": [
    "from tensorflow.keras.layers import Conv1D, Bidirectional, LSTM, Dense, Input, Dropout\n",
    "from tensorflow.keras.layers import SpatialDropout1D\n",
    "from tensorflow.keras.callbacks import ModelCheckpoint"
   ]
  },
  {
   "cell_type": "code",
   "execution_count": 29,
   "metadata": {
    "id": "pWjlaOZ9svVw"
   },
   "outputs": [],
   "source": [
    "sequence_input = Input(shape=(MAX_SEQUENCE_LENGTH,), dtype='int32')\n",
    "embedding_sequences = embedding_layer(sequence_input)\n",
    "x = SpatialDropout1D(0.2)(embedding_sequences)\n",
    "x = Conv1D(64, 5, activation='relu')(x)\n",
    "x = Bidirectional(LSTM(64, dropout=0.2, recurrent_dropout=0.2))(x)\n",
    "x = Dense(512, activation='relu')(x)\n",
    "x = Dropout(0.5)(x)\n",
    "x = Dense(512, activation='relu')(x)\n",
    "outputs = Dense(1, activation='sigmoid')(x)\n",
    "model = tf.keras.Model(sequence_input, outputs)"
   ]
  },
  {
   "cell_type": "code",
   "execution_count": 40,
   "metadata": {
    "id": "3nesY8cisvYW"
   },
   "outputs": [],
   "source": [
    "from tensorflow.keras.optimizers import Adam\n",
    "from tensorflow.keras.callbacks import ReduceLROnPlateau\n",
    "\n",
    "model.compile(optimizer=Adam(learning_rate=LR), loss='binary_crossentropy', metrics=['accuracy'])\n",
    "ReduceLROnPlateau = ReduceLROnPlateau(factor=0.1,\n",
    "                                     min_lr = 0.001,\n",
    "                                     patience = 1,\n",
    "                                     monitor = 'val_loss',\n",
    "                                     verbose = 1)"
   ]
  },
  {
   "cell_type": "code",
   "execution_count": 41,
   "metadata": {
    "colab": {
     "base_uri": "https://localhost:8080/"
    },
    "id": "cj5WVEbusvat",
    "outputId": "c4ba1e3a-8d39-4a4d-e543-6cdf34d7213c"
   },
   "outputs": [
    {
     "name": "stdout",
     "output_type": "stream",
     "text": [
      "Training on CPU...\n"
     ]
    }
   ],
   "source": [
    "print(\"Training on GPU...\") if tf.config.list_physical_devices('GPU') else print(\"Training on CPU...\")"
   ]
  },
  {
   "cell_type": "code",
   "execution_count": 42,
   "metadata": {
    "colab": {
     "base_uri": "https://localhost:8080/"
    },
    "id": "u_7JzeCFtDYl",
    "outputId": "40be4eb6-363d-4f18-a508-146b9ebd68ad"
   },
   "outputs": [
    {
     "name": "stdout",
     "output_type": "stream",
     "text": [
      "Epoch 1/10\n",
      "\u001b[1m165/165\u001b[0m \u001b[32m━━━━━━━━━━━━━━━━━━━━\u001b[0m\u001b[37m\u001b[0m \u001b[1m355s\u001b[0m 2s/step - accuracy: 0.6772 - loss: 0.5921 - val_accuracy: 0.6964 - val_loss: 0.5685 - learning_rate: 0.0010\n",
      "Epoch 2/10\n",
      "\u001b[1m165/165\u001b[0m \u001b[32m━━━━━━━━━━━━━━━━━━━━\u001b[0m\u001b[37m\u001b[0m \u001b[1m350s\u001b[0m 2s/step - accuracy: 0.6766 - loss: 0.5909 - val_accuracy: 0.6961 - val_loss: 0.5681 - learning_rate: 0.0010\n",
      "Epoch 3/10\n",
      "\u001b[1m165/165\u001b[0m \u001b[32m━━━━━━━━━━━━━━━━━━━━\u001b[0m\u001b[37m\u001b[0m \u001b[1m350s\u001b[0m 2s/step - accuracy: 0.6775 - loss: 0.5891 - val_accuracy: 0.6942 - val_loss: 0.5673 - learning_rate: 0.0010\n",
      "Epoch 4/10\n",
      "\u001b[1m165/165\u001b[0m \u001b[32m━━━━━━━━━━━━━━━━━━━━\u001b[0m\u001b[37m\u001b[0m \u001b[1m350s\u001b[0m 2s/step - accuracy: 0.6893 - loss: 0.5785 - val_accuracy: 0.7047 - val_loss: 0.5600 - learning_rate: 0.0010\n",
      "Epoch 5/10\n",
      "\u001b[1m165/165\u001b[0m \u001b[32m━━━━━━━━━━━━━━━━━━━━\u001b[0m\u001b[37m\u001b[0m \u001b[1m350s\u001b[0m 2s/step - accuracy: 0.6938 - loss: 0.5720 - val_accuracy: 0.7058 - val_loss: 0.5576 - learning_rate: 0.0010\n",
      "Epoch 6/10\n",
      "\u001b[1m165/165\u001b[0m \u001b[32m━━━━━━━━━━━━━━━━━━━━\u001b[0m\u001b[37m\u001b[0m \u001b[1m350s\u001b[0m 2s/step - accuracy: 0.6941 - loss: 0.5710 - val_accuracy: 0.7097 - val_loss: 0.5544 - learning_rate: 0.0010\n",
      "Epoch 7/10\n",
      "\u001b[1m165/165\u001b[0m \u001b[32m━━━━━━━━━━━━━━━━━━━━\u001b[0m\u001b[37m\u001b[0m \u001b[1m350s\u001b[0m 2s/step - accuracy: 0.7020 - loss: 0.5640 - val_accuracy: 0.7133 - val_loss: 0.5487 - learning_rate: 0.0010\n",
      "Epoch 8/10\n",
      "\u001b[1m165/165\u001b[0m \u001b[32m━━━━━━━━━━━━━━━━━━━━\u001b[0m\u001b[37m\u001b[0m \u001b[1m350s\u001b[0m 2s/step - accuracy: 0.7038 - loss: 0.5607 - val_accuracy: 0.7145 - val_loss: 0.5451 - learning_rate: 0.0010\n",
      "Epoch 9/10\n",
      "\u001b[1m165/165\u001b[0m \u001b[32m━━━━━━━━━━━━━━━━━━━━\u001b[0m\u001b[37m\u001b[0m \u001b[1m350s\u001b[0m 2s/step - accuracy: 0.7068 - loss: 0.5562 - val_accuracy: 0.7174 - val_loss: 0.5424 - learning_rate: 0.0010\n",
      "Epoch 10/10\n",
      "\u001b[1m165/165\u001b[0m \u001b[32m━━━━━━━━━━━━━━━━━━━━\u001b[0m\u001b[37m\u001b[0m \u001b[1m350s\u001b[0m 2s/step - accuracy: 0.7102 - loss: 0.5510 - val_accuracy: 0.7195 - val_loss: 0.5385 - learning_rate: 0.0010\n"
     ]
    }
   ],
   "source": [
    "history = model.fit(x_train, y_train, batch_size=BATCH_SIZE, epochs=EPOCHS,\n",
    "                    validation_data=(x_test, y_test), callbacks=[ReduceLROnPlateau])"
   ]
  },
  {
   "cell_type": "code",
   "execution_count": 43,
   "metadata": {
    "id": "J-9I9qMJtDbV"
   },
   "outputs": [
    {
     "data": {
      "text/plain": [
       "<matplotlib.legend.Legend at 0x7f6ab8cbdd10>"
      ]
     },
     "execution_count": 43,
     "metadata": {},
     "output_type": "execute_result"
    },
    {
     "data": {
      "image/png": "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                                                                                                                                                                                                                                                                                                                                                                                                                                                                                                                                                                                                                                                                                                                                                                                                                                                                                                                                                                                                                                                                                                                                                                                                                                                                                                                                                                                                                                                                                                                                                                                                                                                                                                                                                                                                                                                                                                                                                                                                                                                                                                                                                                                                                                                                                                                                                                                                                                                                                                                                                                                                                                                                                                                                                                                                                                                                                                                                                                                                                                                                                                                                                                                                                                                                                                                                                                                                                                                                                                                                                                                                                                                                                                                                                                                                                                                                                                                                                                                                                                                                                                                                                                                                                                                                                                                                                                                                                                                                                                                                                                                                                                                                                                                                                                                                                                                                                                                                                                                                                                                                                                                                                                                                                                                                                                                                                                                                                                                                                                                                                                                                                                                                                                                                                                                                                                                                                                                                                                                                                                                                                                                                                                                                                                                                                                                                                                                                                                                                                                                                                                                                                                                                                                                                                                                                                                                                                                                                                                                                                                                                                                                                                                                                                                                                                                                                                                                                                                                                                                                                                                                                                                                                                                                                                                                                                                                                                                                                                                                                                                                                                                                                                                                                                                                                                                                                                                                                                                                                                                                                                                                                                                                                                                                                                                                                                                                                                                                                                                                                                                                                                                                                                                                                                                                                                                                                                                                                                                                                                                                                                                                                                                                                                                                                                                                                                                                                                                                                                                                                                                                                                                                                                                                                                                                                                                                                                                                                                                                                                                                                                                                                                                                                                                                                                                                                                                                                                                                                                                                                                                                                                                                                                                                                                                                                                                                                                                                                                                                                                                                                                                                                                                                                                                                                                                                                                                                                                                                                                                                                                                                                                                                                                                                                                                                                                                                                                                                                                                                                                                                                                                                                                                                                                                                                                                                                                                                                                                                                                                                                                                                                                                                                                                                                                                                                                                                                                                                                                                                                                                                                                                                                                                                                                                                                                                                                                                                                                                                                                                                                                                                                                                                                                                                                                                                                                                                                                                                                                                                                                                                                                                                                                                                                                                                                                                                                                                                                                                                                                                                                                                                                                                                                                                                                                                                                                                                                                                                                                                                                                                                                                                                                                                                                                                                                                                                                                                                                                                                                                                                                                                                                                                                                                                                                                                                                                                                                                                                                                                                                                                                                                                                                                                                                                                                                                                                                                                                                                                                                                                                                                                                                                                                                                                                                                                                                                                                                                                                                                                                                                                                                                                                                                                                                                                                                                                                                                                                                                                                                                                                                                                                                                                                                                                                                                                                                                                                                                                                                                                                                                                                                                                                                                                                                                                                                                                                                                                                                                                                                                                                                                                                                                                                                                                                                                                                                                                                                                                                                                                                                                                                                                                                                                                                                                                                                                                                                                                                                                                                                                                                                                                                                                                                                                                                                                                                                                                                                                                                                                                                                                                                                                                                                                                                                                                                                                                                                                                                                                                                                                                                                                                                                                                                                                                                                                                                                                                                                                                                                                                                                                                                                                                                                                                                                                                                                                                                                                                                                                                                                                                                                                                                                                                                                                                                                                                                                                                                                                                                                                                                                                                                                                                                                                                                                                                                                                                                                                                                                                                                                                                                                                                                                                                                                                                                                                                                                                                                                                                                                                                                                                                                                                                                                                                                                                                                                                                                                                                                                                                                                                                                                                                                                                                                                                                                                                                                                                                                                                                                                                                                                                                                                                                                                                                                                                                                                                                                                                                                                                                                                                                                                                                                                                                                                                                                                                                                                                                                                                                                                                                                                                                                                                                                                                                                                                                                                                                                                                                                                                                                                                                                                                                                                                                                                                                                                                                                                                                                                                                                                                                                                                                                                                                                                                                                                                                                                                                                                                                                                                                                                                                                                                                                                                                                                                                                                                                                                                                                                                                                                                                                                                                                                                                                                                                                                                                                                                                                                                                                                                                                                                                                                                                                                                                                                                                                                                                                                                                                                                                                                                                                                                                                                                                                                                                                                                                                                                                                                                                                                                                                                                                                                                                                                                                                                                                                                                                                                                                                                                                                                                                                                                                                                                                                                                                                                                                                                                                                                                                                                                                                                                                                                                                                                                                                                                                                                                                                                                                                                                                                                                                                                                                                                                                                                                                                                                                                                                                                                                                                                                                                                                                                                                                                                                                                                                                                                                                                                                                                                                                                                                                                                                                                                                                                                                                                                                                                                                                                                                                                                                                                                                                                                                                                                                                                                                                                                                                                                                                                                                                                                                                                                                                                                                                                                                                                                                                                                                                                                                                                                                                                                                                                                                                                                                                                                                                                                                                                                                                                                                                                                                                                                                                                                                                                                                                                                                                                                                                                                                                                                                                                                                                                                                                                                                                                                                                                                                                                                                                                                                                                                                                                                                                                                                                                                                                                                                                                                                                                                                                                                                                                                                                                                                                                                                                                                                                                                                                                                                                                                                                                                                                                                                                                                                                                                                                                                                                                                                                                                                                                                                                                                                                                                                                                                                                                                                                                                                                                                                                                                                                                                                                                                                                                                                                                                                                                                                                                                                                                                                                                                                                                                                                                                                                                                                                                                                                                                                                                                                                                                                                                                                                                                                                                                                                                                                                                                                                                                                                                                                                                                                                                                                                                                                                                                                                                                                                                                                                                                                                                                                                                                                                                                                                                                                                                                                                                                                                                                                                                                                                                                                                                                                                                                                                                                                                                                                                                                                                                                                                                                                                                                                                                                                                                                                                                                                                                                                                                                                                                                                                                                                                                                                                                                                                                                                                                                                                                                                                                                                                                                                                                                                                                                                                                                                                                                                                                                                                                                                                                                                                                                                                                                                                                                                                                                                                                                                                                                                                                                                                                                                                                                                                                                                                                                                                                                                                                                                                                                                                                                                                                                                                                                                                                                                                                                                                                                                                                                                                                                                                                                                                                                                                                                                                                                                                                                                                                                                                                                                                                                                                                                                                                                                                                                                                                                                                                                                                                                                                                                                                                                                                                                                                                                                                                                                                                                                                                                                                                                                                                                                                                                                                                                                                                                                                                                                                                                                                                                                                                                                                                                                                                                                                                                                                                                                                                                                                                                                                                                                                                                                                                                                                                                                                                                                                                                                                                                                                                                                                                                                                                                                                                                                                                                                                                                                                                                                                                                                                                                                                                                                                                                                                                                                                                                                                                                                                                                                                                                                                                                                                                                                                                                                                                                                                                                                                                                                                                                                                                                                                                                                                                                                                                                                                                                                                                                                                                                                                                                                                                                                                                                                                                                                                                                                                                                                                                                                                                                                                                                                                                                                                                                                                                                                                                                                                                                                                                                                                                                                                                                                                                                                                                                                                                                                                                                                                                                                                                                                                                                                                                                                                                                                                                                                                                                                                                                                                                                                                                                                                                                                                                                                                                                                                                                                                                                                                                                                                                                                                                                                                                                                                                                                                                                                                                                                                                                                                                                                                                                                                                                                                                                                                                                                                                                                                                                                                                                                                                                                                                                                                                                                                                                                                                                                                                                                                                                                                                                                                                                                                                                                                                                                                                                                                                                                                                                                                                                                                                                                                                                                                                                                                                                                                                                                                                                                                                                                                                                                                                                                                                                                                                                                                                                                                                                                                                                                                                                                                                                                                                                                                                                                                                                                                                                                                                                                                                                                                                                                                                                                                                                                                                                                                                                                                                                                                                                                                                                                                                                                                                                                                                                                                                                                                                                                                                                                                                                                                                                                                                                                                                                                                                                                                                                                                                                                                                                                                                                                                                                                                                                                                                                                                                                                                                                                                                                                                                                                                                                                                                                                                                                                                                                                                                                                                                                                                                                                                                                                                                                                                                                                                                                                                                                                                                                                                                                                                                                                                                                                                                                                                                                                                                                                                                                                                                                                                                                                                                                                                                                                                                                                                                                                                                                                                                                                                                                                                                                                                                                                                                                                                                                                                                                                                                                                                                                                                                                                                                                                                                                                                                                                                                                                                                                                                                                                                                                                                                                                                                                                                                                                                                                                                                                                                                                                                                                                                                                                                                                                                                                                                                                                                                                                                                                                                                                                                                                                                                                                                                                                                                                                                                                                                                                                                                                                                                                                                                                                                                                                                                                                                                                                                                                                                                                                                                                                                                                                                                                                                                                                                                                                                                                                                                                                                                                                                                                                                                                                                                                                                                                                                                                                                                                                                                                                                                                                                                                                                                                                                                                                                                                                                                                                                                                                                                                                                                                                                                                                                                                                                                                                                                                                                                                                                                                                                                                                                                                                                                                                                                                                                                                                                                                                                                                                                                                                                                                                                                                                                                                                                                                                                                                                                                                                                                                                                                                                                                                                                                                                                                                                                                                                                                                                                                                                                                                                                                                                                                                                                                                                                                                                                                                                                                                                                                                                                                                                                                                                                                                                                                                                                                                                                                                                                                                                                                                                                                                                                                                                                                                                                                                                                                                                                                                                                                                                                                                                                                                                                                                                                                                                                                                                                                                                                                                                                                                                                                                                                                                                                                                                                                                                                                                                                                                                                                                                                                                                                                                                                                                                                                                                                                                                                                                                                                                                                                                                                                                                                                                                                                                                                                                                                                                                                                                                                                                                                                                                                                                                                                                                                                                                                                                                                                                                                                                                                                                                                                                                                                                                                                                                                                                                                                                                                                                                                                                                                                                                                                                                                                                                                                                                                                                                                                                tixY1mzZg2bN28mPDz8+r4RcVUanQanUCdcWrmgddGCCfJO55F7Kld6g4QQQtiF3YfAoqKiWLRoEUuXLuXIkSOMGTOGrKwsRo4cCcCwYcOYPHmy5fwxY8aQkpLC+PHjiY2NZd26dUyfPp3IyEjLOZGRkXz55ZcsX74cd3d34uPjiY+PJycnp8raLVO8y0/nqsOllQuGUIO6y3y2CeN5I+fmnZO1g4QQQlQru68EPXjwYJKSknjttdeIj4+nY8eObNiwwVIYfebMGbTFtnwIDQ1l48aNTJw4kfbt2xMSEsL48eN56aWXLOfMnz8fgNtuu83qtT777DNGjBhRqfYWTr3Pzs7G2dm5UteqjzQaDfpAPQ5eDmQcz8CcZ+bsa2e5+L+LtFjYAq+bvezdRCGEEPWA3dcBqomutY7AhQsXSE1NJSAgABcXF9n6oZwURSE7O5vExEQczzqS8EQC+Yn5AASPDqbJu01w9CrbGk9CCCFEofKsA2T3HqDaqLBAu7TVqkXZeHl5EXRDEGFHwzj50kkuLLrAhYUXuLj2Is0+aob/w/4SLoUQQlwX0gNkQ1kTpMlkIj8/vxpbVndcOZMPIHV7KjGjY8iJUWu1fO/1pfm85jg1klWihRBCXFt5eoAkANlQnh+gqFrmPDOnZ5zmzPQzKPkKWlct4W+F03BcQzQ66Q0SQghRulqzFYYQV9IatIS/Hk7X/V3x7OWJOcvMiYkn2HfjPjL+yrB384QQQtQREoCqkaIofPTvv6QVyJYQ1+LaypWO2zrSYmELdJ46Mv7MYG/EXk68eAJTVun7vgkhhBBlIQGoGn2ZkMD448dpvXs33yYlyVpC16DRamgwqgHdjnTD/xF/MMHZmWfZ03YPKRtT7N08IYQQtZgEoGrUyMmJ5s7OnDcaefjQIe4/eJCzubn2blaNZwg20GZlG9r+0BZDqIHcuFz+ufsfDg89jDHRaO/mCSGEqIUkAFWjW728+KdrV14NC8NRo2HtxYu03rOH//77LybpDbomv3v9iDgcQcOJDUELicsT2X3Dbi58dkF604QQQpSLzAKzoTpmgR3OymJ0TAy/p6cD0NXdnYUtWtDJ3f26vF5dk/5nOrGjYsn8OxMAr9u8aPFJC1xauNi5ZUIIIexFZoHVAq1dXdneqRMLWrTAU6fjz4wMIvbu5fnjx8kySZHvtXh09aDzns40mdkErbOW1K2p7Gm/h7i34jAbZV8xIYQQVyc9QDZU9zpAF/LymHD8OF8nJQEQZjAwv0UL7vH1ve6vXRfknMohdkwslzZeAsCltQstF7XE8yZPO7dMCCFEdZIeoFom2GBgZZs2rGvXjjCDgdN5efQ7cIAhhw4Rn5dn7+bVeM7hzrT/qT2tlrfC0d+R7MPZ/NXzL2KfjaUgTZYcEEIIUZIEoBqkn68vh7p14z8NG6IFViYl0WrPHhaeP49ZOuquSqPREPhoIN2OdiPoSXWvtvPzz7O71W6SvpUlB4QQQliTITAbasJWGH9lZDAqJoa9mWqRb08PDxa2bElrV1e7tKe2ubTlErFPx5Jz7PK+Yvf50nxuc5xCZV8xIYSoq2QIrA7o5O7Ori5dmN2sGa5aLb+np9Pxzz+ZcuoUuVIkfU3et3vT9Z+uhE0JQ+Oo4eLai+xpvYd/5/yLYpLML4QQ9Z30ANlQE3qAijuTm8vYY8f44eJFAJo7O/NJixbc7u1t55bVDlmHsogZHUP6H+qSA+7d3Gm5qCVu7d3s3DIhhBBVSXqA6phGTk5837Ytq9q0IViv51hODr3372fk0aNczM+3d/NqPNc2rnT6tRPN5zdH56EjY3cGf3b+kxOTTmDKlt40IYSojyQA1RIajYaH/P050q0bzzZogAZYEh/PDbt380V8vBT5XoNGqyHkmRC6HemG30N+6r5i755lT7s9JH2bJGsHCSFEPSNDYDbUtCEwW3akpTE6NpaDWVkA9PH2Zn7z5jRzkZWQyyJ5bTLHIo+R96+6zICDtwP+g/wJHBqIZy9PNFqNnVsohBCivMrz+S0ByIbaEIAA8s1m3j97ljdOnybXbMZJq+W1sDCeDw3FUSude9dSkFHAmRlniF8Sj/FC0aaqhkYGAh4NIHBoIG7tpE5ICCFqCwlAlVRbAlChEzk5PBMbyy+X1JWQ27q6srBFC3p4ykrIZaGYFFK3ppKwLIGkb5MwpRfVBbm2cyXgsQACHwvEqZFMoRdCiJrsuhdBL126lHXr1lnuv/jii3h5eXHTTTdx+vTpilxSVEJTZ2d+bt+eL264AT9HRw5mZdHzr794NjaWtAJZCflaNDoN3nd4c8PiG7gp/iZaf9Mav/v90Og1ZB3I4tTkU+wM28lft/zF+U/Ok58ihedCCFHbVagHqGXLlsyfP5/evXuzY8cO+vTpw4cffsiPP/6Ig4MDq1evvh5trTa1rQeouIv5+bxw4gSfxccDEKzXM6d5cx7080OjkbqW8si/lE/SqiQSliWQti3NclzjqMHnHh8ChwbiO8AXnbPOjq0UQghR6Lr3AJ09e5ZmzZoB8N133/HQQw8xevRoZsyYwa+//lru682bN4/GjRvj5ORE9+7d2b1791XPT01NJTIykuDgYAwGAy1atGD9+vWVumZd4evoyOIbbmBzhw40d3bmgtHIw4cOMfDgQc7k5tq7ebWKo7cjDUY1oNPWTtx45kaavNsE1/auKPkKF9de5PDgw/wR+AdHRhwhZVOKLLAohBC1SIUCkJubGxcvL8r3888/c+eddwLg5ORETk5Oua61cuVKoqKimDp1Kvv27aNDhw707duXxMREm+cbjUbuvPNO4uLiWLVqFTExMSxatIiQkJAKX7Muut3bm3+6dmVKWBiOGg0/XLxI6927mX32LCYp+yo3p1AnGr3YiIj9EXQ90JVGkxphaGTAlGEiYWkC/9z1Dzsa7uD4xOOk/5kuyxIIIUQNV6EhsKFDh3L06FE6derEV199xZkzZ/D19WXt2rW8/PLLHDx4sMzX6t69OxEREcydOxcAs9lMaGgo48aNY9KkSSXOX7BgATNnzuTo0aM4OjpWyTWvVJuHwGw5nJXF07Gx/JamDuN0cXNjYcuWdHZ3t3PLajfFrJD2RxqJyxJJ/DqRgpSieivnFs4EPhZIwNAAXJrJ0gRCCFEdrvsQ2Lx58+jRowdJSUl8++23+Pr6ArB3714effTRMl/HaDSyd+9e+vTpU9QgrZY+ffqwY8cOm89Zu3YtPXr0IDIyksDAQNq2bcv06dMxXd4fqyLXzMvLIz093epWl7R2dWVbx44sbNECLwcH9mZmErF3L/85fpxMKZKuMI1Wg1cvL1rMb8FNF26i7dq2+A/2R+ukJSc2h7jX49jdfDd7u+/l34/+xZhgvPZFhRBCVAuHijzJy8vL0rtS3LRp08p1neTkZEwmE4GBgVbHAwMDOXr0qM3nnDx5ks2bNzN06FDWr1/P8ePHefbZZ8nPz2fq1KkVuuaMGTPK3fbaRqvRMKpBAwb4+jLh+HFWJiUx699/WZWUxMctWtD/cogVFaPVa/Eb4IffAD8KMgpIXpNMwrIELv1yiYzdGWTszuB41HG8+3gTODQQv/v9cHCv0F8/IYQQVaBCPUAbNmzgt99+s9yfN28eHTt25LHHHuPS5bVorhez2UxAQAALFy6kS5cuDB48mFdeeYUFCxZU+JqTJ08mLS3Ncjt79mwVtrhmCTIYWNGmDevbtSPMYOBMXh73HjjAI4cOcSEvz97NqxMc3B0IGhZEh40d6HGuB81mN8M9wh1McGnjJY4OO8ofgX9w+NHDJP+YjDlftuEQQojqVqEA9MILL1iGiQ4cOMB//vMf+vXrx6lTp4iKiirzdfz8/NDpdCQkJFgdT0hIICgoyOZzgoODadGiBTpd0dTjVq1aER8fj9ForNA1DQYDHh4eVre67h5fXw5168bzoaHogG+Skmi1ezefnD+PWQp4q4whyEDD8Q3psrsL3WK7ETY1DOdmzphzzCSuSOTggIP8EfwHsc/GkvpbKopZfvZCCFEdKhSATp06RevWrQH49ttvuffee5k+fTrz5s3jp59+KvN19Ho9Xbp0ITo62nLMbDYTHR1Njx49bD6nZ8+eHD9+HLO56H/NsbGxBAcHo9frK3TN+spVp2Nm06b82aULXd3dSTOZeCY2llv++otDl/cYE1XHpbkL4a+H0y22G513dSZkfAiOgY4UXCzg/Pzz/H3z3+xsspOTL58k65D8/IUQ4nqqUADS6/VkZ2cD8Msvv3DXXXcB4OPjU+4C4qioKBYtWsTSpUs5cuQIY8aMISsri5EjRwIwbNgwJk+ebDl/zJgxpKSkMH78eGJjY1m3bh3Tp08nMjKyzNcU1jq6u7Ozc2dmN2uGm07H7+npdPrzT149eZJck+naFxDlotFo8OjmQfPZzenxbw/ab2xP4LBAdG468k7ncWbGGfa03cOejns4M/MMuf/K+k1CCFHVKlSF2atXL6KioujZsye7d+9m5cqVgNoT07Bhw3Jda/DgwSQlJfHaa68RHx9Px44d2bBhg6WI+cyZM2iLbewZGhrKxo0bmThxIu3btyckJITx48fz0ksvlfmaoiSdRsP4hg150M+PsceOsfbiRd4+c4aVSUl80qIFvb297d3EOknroMXnLh987vLBNN/ExR8ukrAsgZSfUsjan8XJ/Sc5+dJJvG71ImBoAP4P++PoZXv5ByGEEGVXoXWAzpw5w7PPPsvZs2d57rnneOqppwCYOHEiJpOJjz76qMobWp3q2jpA5aUoCmuSkxl37BjnjerU7eGBgbzftCl+er2dW1c/5F/MJ/GbRBKXJZL2W7FtOPQafPv7Ejg0EJ/+PuicZBsOIYQoJLvBV1J9D0CF0goKeOXkST4+fx4F8HVwYFazZjwRGCj7ilWjnLgcEr9KJGFZAtmHsi3HdR46/B/yJ3BoIF63eaHRye9ECFG/VUsAMplMfPfddxw5cgSANm3acN9991nNzqqtJABZ25mWxujYWA5cLoy+w8uL+S1a0NxFVjiuToqikHUgi4RlCSQuTyTv36JlC/QN9Pg/5I/P3T543eqFzrX2/z0UQojyuu4B6Pjx4/Tr149z587RsmVLAGJiYggNDWXdunU0bdq0Yi2vISQAlZRvNvPB2bNMO32aXLMZg0bDU8HB9PP15XYvL1zqQPCtTRSzQtqvaSQsSyDpmyQKUotW9NY4avDs5Yn3Xd743OWDW0c3NFrpHRJC1H3XPQD169cPRVFYtmwZPj4+AFy8eJHHH38crVbLunXrKtbyGkICUOlO5OQwJjaWTcUWvDRoNNzi5cXdPj7c7eNDKxcXGSKrRuY8MykbUri47iIpG1PIO2O9oKWjnyPed3rj09cH7zu9MTQw2KmlQghxfV33AOTq6srOnTtp166d1fH9+/fTs2dPMjMzy3vJGkUC0NUpisKGlBS+T07mp5QUzlyxgnQjg8EShu7w9sbDQbZ8qC6KopBzLIeUn1O49PMlUrekYsq0XsrAta2rpXfI82ZPdC7SeyeEqBvK8/ldoU8mg8FARkZGieOZmZnoZZZQnafRaLjH15d7fH1RFIWY7Gx+SklhQ0oK21JTOZOXx8ILF1h44QIOGg03eXhwz+VA1MHNTXqHriONRoNLCxdcWrjQcGxDzEYz6TvTLYEo488Msg5mkXUwi39n/YvGoMHrZi9LIHJt7yq/HyFEvVChHqBhw4axb98+Pv30U7p16wbArl27GDVqFF26dGHJkiVV3c5qJT1AFZdtMrEtNZUNKSn8lJLCsZwcq8eD9Hr6entzt48Pd/r44Osoa9pUp/yL+VyKvqQGoo2XrAqpARwDHfG5ywfvu7zx7uONIUiGy4QQtcd1HwJLTU1l+PDh/PDDDzhe/gDLz89n4MCBfPbZZ3h5eVWo4TWFBKCqcyInh42Xe4c2X7pEVrEtTLRANw8Py3BZV3d3dNL7UG0URSH7aDaXflYDUerWVMzZ1huzunZwtQQiz16esu6QEKJGq7Z1gI4fP26ZBt+qVSuaNWtW0UvVKBKAro88s5nf0tLYcDkQHbxivzFfBwfuuhyG7vL2JsggvQ/VyZxnJu2PNEsgytxnXcunddbidWvRcJlLayl2F0LULNclAJVnl/dZs2aV+dyaSAJQ9fg3N5eNly7x08WLbLp0ifQr9h3r5ObG3T4+3OPjw40eHjhqK7R1naggY6KRS9GXLIHIeN5o9bi+gd5quEzvL/V/Qgj7ui4B6Pbbby/Ti2s0GjZv3lymc2sqCUDVL99sZld6uqV2aN8VMwk9dDr6XK4dutvHh1AnJzu1tH5SFIWsQ1mWMJS2LQ1zrvVwmVtnt6Lhsps80RoksAohqpdshVFJEoDsL8Fo5OfLQ2UbU1K4WFBg9XgbFxdLGLrZywuD9A5VK1OuibTfiobLsvZbD2dqXbV43eZlCUQuLWW4TAhx/UkAqiQJQDWLSVHYl5FhmWq/Kz2d4n0PLlott3t5cY+vL3f7+NDU2dluba2v8uLzuPRL0XBZfkK+1eOGUIOldsj7Dm8cfWX2nxCi6kkAqiQJQDVbSn4+v1y6ZAlE8Ubr2pRmzs6W2qHbZJuOale4Z1nhVPvUX1NR8or9M6MB967u6srUd3njcaMHWkfpwRNCVJ4EoEqSAFR7KIrCP1lZlpllv6WlUVDsj7Rs02F/pmwTab+mWRZjzDpoPVymc9Ph1btouMy5mbP8joQQFSIBqJIkANVe6QUFbL50yVJMLdt01Dx55/O4tOnyYoybLpGfdMVwWUMD7t3d8YjwwL2bO+5d3HHwkN+TEOLaJABVkgSgusHWNh15xf64F27TMdDPj8cCAmTdITtQzAqZ+zOLZpf9loZivOKfJA243OCCe4Q7Ht08cI9wx62Dm8wyE0KUIAGokiQA1U2F23QUBqLi23Rogb4+PjwRGMhAPz+pG7ITU5aJjD8zSN+dTsYe9Wve6bwS52kcNbh1cFN7iC4HI5eWLmh0MnQmRH0mAaiSJADVDydyclh/8SJfJSayIz3dctxdp2OQvz/DgoK42dMTrdSj2JUx0aiGoT1qKMrYnUF+cn6J83RuOty7qoGoMBQZGhmknkiIekQCUCVJAKp/jmVn80VCAl8kJBCXm2s5HmYw8ERQEE8EBtLCxcWOLRSFFEUh93QuGbszLL1EGXszMGeZS5zr6O+Ie7di9UQR7uj9ZMVqIeoqCUCVJAGo/jIrCr+lpfFFQgJfJyZabc/R3d2dYUFBDA4IkF3saxjFpJB1JMvSQ5S+J52s/VkoBSX/eXMKd7KuJ+rshoObFFkLURdIAKokCUACIMdkYu3Fi3weH8/GlBQKo5CjRsO9vr4MCwykn68velmFukYy5ZrI2p9lVU+UE5NT8kQtuLZ2taoncm3nKmsTCVELSQCqJAlA4krxeXl8lZjI5wkJ/F1snzIfBwceDQhgWFAQEe7uUm9SwxWkFahF1nvSLUNoef/aKLI2aHDvdLme6PIQmnNzZzRa+f0KUZPVugA0b948Zs6cSXx8PB06dGDOnDl069bN5rlLlixh5MiRVscMBgO5xeo2MjMzmTRpEt999x0XL14kPDyc5557jmeeeaZM7ZEAJK7mQGYmXyQk8GVCAheKrULdwtmZYUFBPB4YSJhs1lpr5F3IU4fO9hTNPiu4VFDiPJ2nWmRdvJ7IECJF1kLUJLUqAK1cuZJhw4axYMECunfvzuzZs/nmm2+IiYkhICCgxPlLlixh/PjxxMTEWI5pNBoCAwMt90ePHs3mzZv53//+R+PGjfn555959tlnWb16Nffdd9812yQBSJSFSVGIvnSJz+PjWZ2cTI65qAj3Ni8vhgUG8pC/vyy2WMsoikLOiRyreqLMfZmYc0oWWeuD9Vb1RO4R7jh6S32YEPZSqwJQ9+7diYiIYO7cuQCYzWZCQ0MZN24ckyZNKnH+kiVLmDBhAqmpqaVes23btgwePJgpU6ZYjnXp0oV77rmHt95665ptkgAkyiujoIBvk5L4PCGBrampFP6lctZqecDPj2FBQdzh5YWD1AvVSuYCM9mHsq3qibIOZoGp5LnOzZzVYbNuHnj28sS1gytaB/m9C1EdyvP5bdf/mhqNRvbu3cvkyZMtx7RaLX369GHHjh2lPi8zM5OwsDDMZjOdO3dm+vTptGnTxvL4TTfdxNq1a3nyySdp0KABW7duJTY2lg8//NDm9fLy8sgrtmVCerE1YYQoC3cHB0YEBzMiOJgzubksS0hgaXw8MTk5LE9MZHliIsF6PY9drhdq7+Zm7yaLctA6aHHr4IZbBzcYpR4zZZvI/DvTEooydmeQczzHcktcngio6xN59FDDkGcvTzy6e6BzlYU2hbA3u/YAnT9/npCQEP744w969OhhOf7iiy+ybds2du3aVeI5O3bs4NixY7Rv3560tDTef/99tm/fzqFDh2jYsCGgBprRo0fz+eef4+DggFarZdGiRQwbNsxmO15//XWmTZtW4rj0AInKUBSFPzMy+Dwhga8SErhYUFRX0sHVlWFBQbIFRx2Tn5JvWck6fWc66b+nU5BqXU+kcdDg1tnNEog8e3mi95e1iYSoCrVmCKwiAehK+fn5tGrVikcffZQ333wTgPfff59Fixbx/vvvExYWxvbt25k8eTJr1qyhT58+Ja5hqwcoNDRUApCoMkazmQ0pKXweH88PFy9ivPzXTrbgqNsUs0LWoSzSfktTb7+mkXe25Kwz55bOljDkdbMXTk2cpLhaiAqoNQHIaDTi4uLCqlWruP/++y3Hhw8fTmpqKt9//32ZrjNo0CAcHBz46quvyMnJwdPTkzVr1tC/f3/LOf/3f//Hv//+y4YNG655PakBEtdTSn4+X1+eUi9bcNQ/uWdyLWEo7bc0tZboCvogvRqIblZDkWt7qSMSoixqTQ2QXq+nS5cuREdHWwKQ2WwmOjqasWPHlukaJpOJAwcO0K9fP0DtEcrPz0d7RbGpTqfDbC45i0OI6ubj6MgzISE8ExJSYguOxfHxLI6Ply046jCnRk44PeZE4GPqzNX8lHzS/kiz9BJl7MnAGG8kaVUSSauSANC526gjcpHeQiEqw+6zwFauXMnw4cP55JNP6NatG7Nnz+brr7/m6NGjBAYGMmzYMEJCQpgxYwYAb7zxBjfeeCPNmjUjNTWVmTNn8t1337F3715at24NwG233UZycjJz584lLCyMbdu2MWbMGGbNmsWYMWOu2SbpARLV7WpbcNzo4cGwwEAGBwTgI1tw1HmmXBMZezKKhs1+T8OUZj3dTOOgwa3LFXVEsseZELVnCKzQ3LlzLQshduzYkY8++oju3bsDaphp3LgxS5YsAWDixImsXr2a+Ph4vL296dKlC2+99RadOnWyXC8+Pp7Jkyfz888/k5KSQlhYGKNHj2bixIllGleXACTsSbbgEMUppmJ1RL+mkfprKsZzxhLnudzgYjVs5hQudUSi/ql1AaimkQAkaorCLTi+SEjgr2JbcPg6ODCkhmzBYVIU8sxmjGYzeYqifr3ie2PhOZe/Wh274lx3Bwci3N3p7OaGmywiWYKiKOSdySPtNzUMpf2WRvah7BLn6YOt64jc2ruh0UkgEnWbBKBKkgAkaqLStuBo6ezME0FB9PL0xHiVYFHRQHKt512vyjot0MbVlW7u7nTz8KC7hwdtXFxkMUkb8lPySfvduo5Iybf+p13nrsPjpmJ1RN2kjkjUPRKAKkkCkKjJCrfg+CIhgdVJSWTXsOJ+vUaDQavFoNVavrd81WoxXPG9/opz441G9mRk8G+ejeniWi1d3N2LQpG7O2FOMtRzJVNOsTqiX9NI+yMNU/oVdUSOGty7uBcFop4eUkckaj0JQJUkAUjUFhkFBaxOTmZZQgJncnPLHDKuFk4Kz7X1PJvPL3auo0ZTZWHkfF4eu9PT2Z2Rwe70dPZkZFgVhxfyd3S0BKJu7u5EeHjgK8XiVhSTQtbBLMuQWdqvaRjP26gjanVFHVFjCZeidpEAVEkSgISoecyKQkx2tiUQ7c7IYH9mJvk2/glr5uxsFYo6urnhLItMWiiKQu7pXMtaRGm/pZF92EYdUQM9Hj08cG3linMLZ1xauODc3BlHHwmYomaSAFRJEoCEqB1yTSb+zsy0CkXHcnJKnOeg0dDB1dUSiLp5eHCDi4ssNlmMMdlI+h/pRXVEf5asIyrk4OughqEWzrg0dykKR82cZZ8zYVcSgCpJApAQtVdKfj5/ZmSw63Ig2pWeTlJ+fonz3HU6Ior1EnXz8CBE9mWzMGWrdUQZf2aQfSybnNgcsmOzbU7BL04foi8KR5d7jFxauOAU7oRWLwXs4vqSAFRJEoCEqDsUReHM5XqiwlC0NyPDZvF4iF5vFYi6urvjIVPxrZiyTOQcV8NQYSjKOaZ+LbhYUPoTdeAc7oxzc+eicHS5B8kQakCjld44UXkSgCpJApAQdVuB2czh7GzLsNmu9HQOZmWVmNKvAW5wcaF7sVDUztVVFqEsRf7FfLW36FhOUTiKzSH7WDbmrNJnK2qdtDg3U4NRYY9RYUhy9HeUQmxRZhKAKkkCkBD1T5bJxL6MDKt6orjc3BLnGTQaOrm7073Y8FlTZ2f5kL4KRVEwXjBaAlFhj1FObA45J3JKrTUC0HnoSgypFfYcOXhK75ywJgGokiQACSEAEoxG9hSbir87I4NLBSWHeXwur17d3cODbh4eRLi7E6CXNXXKwlxgJu9MXokhtZzYHHJP58JVPqEcAx2ti7Av9yA5N3NG5yTF2PWRBKBKkgAkhLBFURSO5+RYBaK/MjLIs/HPaAO9ngYGA0F6PcF6PUHFbsXvy/T80plyTeSeyLUqwi7sQTLGX6UYWwOGRgarImznls64d3WXxR7rOAlAlSQBSAhRVkazmQNZWWqB9eVQdCS75Jo6pfHQ6awCUfDl0HRlWPJzdJRp+8UUpBdYDaUVD0mmtJILZhZybuaMx40e6q2HB67tXNE6Sk1XXSEBqJIkAAkhKiOtoICY7GwSjEYuGI3EX75ZfZ+XZ7PnqDQ6IOCK3qMSPUuXw5NrPe5VUhSF/KR863AUm03WoSxyYkquEaV11uLe1b0oFN3ogaGBLIdQW0kAqiQJQEKI601RFNIKCiyB6MqAVPy+rXWMrsZNp7vm0FuwXo+/Xo+uHvUq5V/KJ2N3Bmk70kjfmU7GrgwKUkvWdBlCDVaByK2zm9QU1RISgCpJApAQoibJN5tJys8v0YN0ZVi6YDSSU47NcbWoe6ldbeitgV5PmJMTjnVw6r9iVsiOzSZ9Z7rllnUgiyvXQ9A4anDr6GYVipzCZZ+0mkgCUCVJABJC1EaKopBpMl21N6nwlmg0llj3qDQ6IMzJiabOzjQrdmvq7EwTJ6c6VchdkFlAxp8ZRaFoRzr5iSV74Bz9Ha0CkXuEOw7uMi3f3iQAVZIEICFEXVdgNpOcn2+7PqnY9//m5V2zV6mhwaAGIienEgHJvZavpF24cWzxXqLMfZkl1y7SgGtbV6tQ5HKDi6xwXc0kAFWSBCAhhFApisIFo5ETOTkct3FLN5U+4wogwNHRKhAVD0g+jrVzV3lTronMvzOtQlHe6bwS5+k8dXh0KwpEHt09cPStne+5tpAAVEkSgIQQ4toUReFifr4lDJ3IzbUKR8nXKN72cnCw7jEq1oMUqNfXqhqbvAt5pO8qCkQZezIwZ5fsOXNu7oxHj6JQ5NrOFa1D3auvshcJQJUkAUgIISovraDA0nN0ZQ/SeePVd5V31Wpt1hw1c3amocFQ49dEMheYyTqQZdVLlBNrYxq+i41p+MEyDb+iJABVkgQgIYS4vrJNJk4WC0TFe4/O5OZetUDboNHQxMaQWlMnpxo9Yy3/Yj7pu4sCUfqudJuLNhoaXTENv5NMwy8rCUCVJAFICCHsx2g2E3fFcFphD9Kp3Fzyr/KxpQMaXx5KKx6QWrq40LyGbVqrmBWyY66Yhn+wlGn4ndwsdUQuLV1wauKEo7fUE11JAlAlSQASQoiaqcBs5mxeXokhtcIepNyrzFhr4uTEg/7+POTnRzcPjxo5jFaQYWMafpLtWiqdpw7nJs44NXFSv4Y7We47hTmh1dfMnrDrqdYFoHnz5jFz5kzi4+Pp0KEDc+bMoVu3bjbPXbJkCSNHjrQ6ZjAYyM3NtTp25MgRXnrpJbZt20ZBQQGtW7fm22+/pVGjRtdsjwQgIYSofcyXZ6zZqjk6kp1tFY5C9Hoe9PfnQT8/bvbyqrErYiuKQm5c0TT8jD8zyD2Ze/XNYEHdELahoSgcNXHCObwoLDkGONao3rCqUp7Pb7sv0LBy5UqioqJYsGAB3bt3Z/bs2fTt25eYmBgCAgJsPsfDw4OYmBjL/St/iSdOnKBXr1489dRTTJs2DQ8PDw4dOoSTk9N1fS9CCCHsR6vREGIwEGIwcKuXl9VjWSYTP128yLfJyfx48SLnjEbmnDvHnHPn8Hd05H4/Px7y9+d2Ly/0NaiGSKPR4BzujHO4M4GPBlqOm7JM5MblknMqh9yTueScVL/mnlK/N2ebyTubR97ZPNK2pZW4rtZFa9VjVDwcOYU7oXOp+zVHdu8B6t69OxEREcydOxcAs9lMaGgo48aNY9KkSSXOX7JkCRMmTCA1NbXUaw4ZMgRHR0e++OKLCrVJeoCEEKLuyjWZ+OXSJb5NTub75GQuFRTtB+bl4MB9vr486O/PXd7etXKVa0VRyE/MV0PRqaJwVHg/72weXOOT3zHQsdThNUMDAxpdzew9qjU9QEajkb179zJ58mTLMa1WS58+fdixY0epz8vMzCQsLAyz2Uznzp2ZPn06bdq0AdQAtW7dOl588UX69u3LX3/9RXh4OJMnT+b++++3eb28vDzy8ooWsUpPT6+aNyiEEKLGcdLpuNfPj3v9/Mg3m9mamsq3SUmsSU4mMT+fzxMS+DwhAVetlv6+vjzk708/Hx/casmq1hqNBn2gHn2gHs8eniUeN+eZyT2Tq4aiK3qQck7mYEozkZ+QT35CPuk7Sn4eavQanMKcSh1ec/CsJT8ne/YAnT9/npCQEP744w969OhhOf7iiy+ybds2du3aVeI5O3bs4NixY7Rv3560tDTef/99tm/fzqFDh2jYsCHx8fEEBwfj4uLCW2+9xe23386GDRt4+eWX2bJlC7feemuJa77++utMmzatxHHpARJCiPrDpCj8kZbGt0lJrE5O5myx/xgbNBr6+vjwkL8/A3x98a6lq1iXRf6lfKseo+LhKO90HkrB1WODg4+D9fBasR4kQyMDWsfrN8RYa4qgKxKArpSfn0+rVq149NFHefPNNy3XfPTRR1m+fLnlvPvuuw9XV1e++uqrEtew1QMUGhoqAUgIIeopRVHYk5HBt0lJfJuUxIliE20cNBru8PLiIX9/7vfzw1+vt2NLq5e5wIzxnLEoFF3Rg1TajDULLTg1csIp3Amfvj40eunaE5PKo9YMgfn5+aHT6UhISLA6npCQQFBQUJmu4ejoSKdOnTh+/Ljlmg4ODrRu3drqvFatWvHbb7/ZvIbBYMBgkJU3hRBCqDQaDd08POjm4cE7TZpwICvLEoYOZWez8dIlNl66xDOxsdzs6clD/v486O9PSB3/LNE6aNXhrzAnuL3k4wWZBeSeyrXZg5R7KhdzrpncuFxy43IxNLTvz8quAUiv19OlSxeio6Mt9Tlms5no6GjGjh1bpmuYTCYOHDhAv379LNeMiIiwmiUGEBsbS1hYWJW2XwghRN2n0Who7+ZGezc3poWHE5OdrQ6TJSWxNzOTbWlpbEtL47njx7nRw4OH/Px40N+fJs7O9m56tXNwc8CtnRtu7dxKPKaYFYwJRks4MoTW4wAEEBUVxfDhw+natSvdunVj9uzZZGVlWdb6GTZsGCEhIcyYMQOAN954gxtvvJFmzZqRmprKzJkzOX36NP/3f/9nueYLL7zA4MGDueWWWyw1QD/88ANbt261x1sUQghRh7R0ceHlsDBeDgsjLieH1cnJfJuUxB/p6ey8fHvh5En+v737j4myfuAA/j5O7uGUE/khF8QpLBch8UOESM5VfqWaMzadC2y4MJf9EaZAWoQDm6SnNZqjS9Dmcn7LzEV+LSkX0sQknYjRxCgwl5p+4Q5FAXEn3t33D+G+nL/AkHvu/LxfG9vxcBzv86Pj7ef5PM8n3tcX8/our48aM0bu2LJTeCkghUiQQiT46W9dnO1qshegjIwMmM1mFBUVobW1FfHx8di7dy+02hv3Ozhz5gy8BtyToaOjA4sXL0Zrayv8/f0xdepU/Pzzz06nvObOnYvy8nIYDAYsXboUkZGRqKiowPTp013+/oiI6MEVrlYjT6dDnk6H8xYL/tNXhvZfuoSG7m40dHej8K+/EDV69I3TZEFBiPf1fSBvQjiYruvX8bfFgnMWC/62WDDBxwf/8veXLY/s9wFyR7wPEBERDUf7tWvYfeECKsxm7OvocNq/zBO25LgXdrsdF3p7ce7aNfzdV276S87Azzutzhu/LtBq8e+oqPuaxWOuAnNXLEBERHS/XOrtReXFi6gwm7H34kVcvWlLjrl9Zcgdt+Sw2u1ou0OxGfjYMsQq4adUIkySECZJSPX3x/IhbE91L1iAhokFiIiIRsLNW3J0D5gVcfWWHBabDedvN1szoPD812KBdfCXAgAEe3sjrG8rkv6S4/RYpRrxm0myAA0TCxAREY20wbbkSOu7C/U/2ZKj+/r1QU9JmXoHuWdPHyWAkAFFpr/MDCw5oZIEyQ32UGMBGiYWICIicqX+LTm+bm/HLrMZbQPKycAtOWYFBKDXbh/0lNRl69DmbSSF4razNQM/16pUbndq7k5YgIaJBYiIiORyty057sXYvvU2dyo2YZKEgFGjHqgr0liAhokFiIiI3EH/lhxfm82oaG/HyatXAdxYL3Tz+pqbS47GQzZvvZ9YgIaJBYiIiNyN3W6HqbcXfkolfO5xTZAoPGYvMCIiIhoahUIBrUAbr440+ZdsExEREbkYCxAREREJhwWIiIiIhMMCRERERMLhIujb6L8wrrOzU+YkRERENFT9v7eHcoE7C9BtdHV1AQB0Op3MSYiIiOhedXV1wc/P767P4X2AbsNms+H8+fPQaDT3/Q6ZnZ2d0Ol0OHv2LO8x5AY4Hu6F4+FeOB7uh2Nyd3a7HV1dXQgNDYXXIHuTcQboNry8vBAWFjaiP2Ps2LH8y+tGOB7uhePhXjge7odjcmeDzfz04yJoIiIiEg4LEBEREQmHBcjFJEnCqlWrIEmS3FEIHA93w/FwLxwP98MxuX+4CJqIiIiEwxkgIiIiEg4LEBEREQmHBYiIiIiEwwJEREREwmEBcqGPP/4Y4eHh8PHxQXJyMo4cOSJ3JGEZDAYkJSVBo9EgODgYc+bMwR9//CF3LAKwbt06KBQK5OTkyB1FaOfOncOCBQsQGBgItVqNmJgYHD16VO5YQrJarSgsLERERATUajUeeeQRFBcXD2m/K7ozFiAX+fLLL5GXl4dVq1bh2LFjiIuLw/PPPw+TySR3NCHV1NQgOzsbhw8fRlVVFXp7e/Hcc8/hypUrckcTWl1dHTZt2oTY2Fi5owito6MDer0e3t7e+P777/Hbb7+hpKQE/v7+ckcT0vr161FWVgaj0YimpiasX78e77//Pj766CO5o3k0XgbvIsnJyUhKSoLRaARwY78xnU6HN954A/n5+TKnI7PZjODgYNTU1OCpp56SO46Quru7kZCQgI0bN+K9995DfHw8NmzYIHcsIeXn56O2thY//fST3FEIwAsvvACtVostW7Y4js2bNw9qtRqfffaZjMk8G2eAXODatWuor69Hamqq45iXlxdSU1Nx6NAhGZNRv8uXLwMAAgICZE4iruzsbMyePdvp3wnJ45tvvkFiYiJefPFFBAcHY8qUKfjkk0/kjiWslJQUVFdXo7m5GQDw66+/4uDBg5g1a5bMyTwbN0N1gfb2dlitVmi1WqfjWq0Wv//+u0ypqJ/NZkNOTg70ej0ef/xxueMIaceOHTh27Bjq6urkjkIATp06hbKyMuTl5aGgoAB1dXVYunQpVCoVsrKy5I4nnPz8fHR2duKxxx6DUqmE1WrFmjVrkJmZKXc0j8YCRMLLzs5GY2MjDh48KHcUIZ09exbLli1DVVUVfHx85I5DuPGfgsTERKxduxYAMGXKFDQ2NqK8vJwFSAY7d+7E559/ju3btyM6OhoNDQ3IyclBaGgox2MYWIBcICgoCEqlEm1tbU7H29ra8NBDD8mUigBgyZIl2LNnDw4cOICwsDC54wipvr4eJpMJCQkJjmNWqxUHDhyA0WiExWKBUqmUMaF4QkJCMHnyZKdjUVFRqKiokCmR2FasWIH8/HzMnz8fABATE4PTp0/DYDCwAA0D1wC5gEqlwtSpU1FdXe04ZrPZUF1djWnTpsmYTFx2ux1LlizBrl278OOPPyIiIkLuSMKaOXMmjh8/joaGBsdHYmIiMjMz0dDQwPIjA71ef8ttIZqbmzFx4kSZEomtp6cHXl7Ov66VSiVsNptMiR4MnAFykby8PGRlZSExMRFPPPEENmzYgCtXruCVV16RO5qQsrOzsX37duzevRsajQatra0AAD8/P6jVapnTiUWj0dyy9mrMmDEIDAzkmiyZ5ObmIiUlBWvXrkV6ejqOHDmCzZs3Y/PmzXJHE1JaWhrWrFmDCRMmIDo6Gr/88gs+/PBDLFq0SO5oHo2XwbuQ0WjEBx98gNbWVsTHx6O0tBTJyclyxxKSQqG47fFPP/0UCxcudG0YusUzzzzDy+BltmfPHrzzzjtoaWlBREQE8vLysHjxYrljCamrqwuFhYXYtWsXTCYTQkND8dJLL6GoqAgqlUrueB6LBYiIiIiEwzVAREREJBwWICIiIhIOCxAREREJhwWIiIiIhMMCRERERMJhASIiIiLhsAARERGRcFiAiIiGYP/+/VAoFLh06ZLcUYjoPmABIiIiIuGwABEREZFwWICIyCPYbDYYDAZERERArVYjLi4OX331FYD/n56qrKxEbGwsfHx88OSTT6KxsdHpNSoqKhAdHQ1JkhAeHo6SkhKnr1ssFrz99tvQ6XSQJAmTJk3Cli1bnJ5TX1+PxMREjB49GikpKbfsmk5EnoEFiIg8gsFgwLZt21BeXo4TJ04gNzcXCxYsQE1NjeM5K1asQElJCerq6jB+/HikpaWht7cXwI3ikp6ejvnz5+P48eN49913UVhYiK1btzq+/+WXX8YXX3yB0tJSNDU1YdOmTfD19XXKsXLlSpSUlODo0aMYNWoUd+Qm8lDcDJWI3J7FYkFAQAD27duHadOmOY6/+uqr6OnpwWuvvYYZM2Zgx44dyMjIAABcvHgRYWFh2Lp1K9LT05GZmQmz2YwffvjB8f1vvfUWKisrceLECTQ3NyMyMhJVVVVITU29JcP+/fsxY8YM7Nu3DzNnzgQAfPfdd5g9ezauXr0KHx+fEf5TIKL7iTNAROT2Tp48iZ6eHjz77LPw9fV1fGzbtg1//vmn43kDy1FAQAAiIyPR1NQEAGhqaoJer3d6Xb1ej5aWFlitVjQ0NECpVOLpp5++a5bY2FjH45CQEACAyWQa9nskItcaJXcAIqLBdHd3AwAqKyvx8MMPO31NkiSnEvRPqdXqIT3P29vb8VihUAC4sT6JiDwLZ4CIyO1NnjwZkiThzJkzmDRpktOHTqdzPO/w4cOOxx0dHWhubkZUVBQAICoqCrW1tU6vW1tbi0cffRRKpRIxMTGw2WxOa4qI6MHFGSAicnsajQbLly9Hbm4ubDYbpk+fjsuXL6O2thZjx47FxIkTAQCrV69GYGAgtFotVq5ciaCgIMyZMwcA8OabbyIpKQnFxcXIyMjAoUOHYDQasXHjRgBAeHg4srKysGjRIpSWliIuLg6nT5+GyWRCenq6XG+diEYICxAReYTi4mKMHz8eBoMBp06dwrhx45CQkICCggLHKah169Zh2bJlaGlpQXx8PL799luoVCoAQEJCAnbu3ImioiIUFxcjJCQEq1evxsKFCx0/o6ysDAUFBXj99ddx4cIFTJgwAQUFBXK8XSIaYbwKjIg8Xv8VWh0dHRg3bpzccYjIA3ANEBEREQmHBYiIiIiEw1NgREREJBzOABEREZFwWICIiIhIOCxAREREJBwWICIiIhIOCxAREREJhwWIiIiIhMMCRERERMJhASIiIiLhsAARERGRcP4HF43TeyqbZ28AAAAASUVORK5CYII=",
      "text/plain": [
       "<Figure size 640x480 with 2 Axes>"
      ]
     },
     "metadata": {},
     "output_type": "display_data"
    }
   ],
   "source": [
    "\n",
    "\n",
    "s, (at, al) = plt.subplots(2,1)\n",
    "at.plot(loaded_history['accuracy'], c= 'b')\n",
    "at.plot(loaded_history['val_accuracy'], c='r')\n",
    "at.set_title('model accuracy')\n",
    "at.set_ylabel('accuracy')\n",
    "at.set_xlabel('epoch')\n",
    "at.legend(['LSTM_train', 'LSTM_val'], loc='upper left')\n",
    "\n",
    "al.plot(loaded_history['loss'], c='m')\n",
    "al.plot(loaded_history['val_loss'], c='c')\n",
    "al.set_title('model loss')\n",
    "al.set_ylabel('loss')\n",
    "al.set_xlabel('epoch')\n",
    "al.legend(['train', 'val'], loc = 'upper left')"
   ]
  },
  {
   "cell_type": "code",
   "execution_count": null,
   "metadata": {
    "id": "zKieJW-vHdzS"
   },
   "outputs": [],
   "source": [
    "# Predict on eval\n",
    "\n",
    "x_eval = pad_sequences(tokenizer.texts_to_sequences(df_eval_bis.Tweet), maxlen = MAX_SEQUENCE_LENGTH)\n",
    "\n",
    "y_pred = model.predict(x_eval)\n",
    "\n",
    "print(y_pred[:10])\n"
   ]
  }
 ],
 "metadata": {
  "accelerator": "GPU",
  "colab": {
   "gpuType": "T4",
   "provenance": []
  },
  "kernelspec": {
   "display_name": "inf554bis",
   "language": "python",
   "name": "python3"
  },
  "language_info": {
   "codemirror_mode": {
    "name": "ipython",
    "version": 3
   },
   "file_extension": ".py",
   "mimetype": "text/x-python",
   "name": "python",
   "nbconvert_exporter": "python",
   "pygments_lexer": "ipython3",
   "version": "3.11.10"
  }
 },
 "nbformat": 4,
 "nbformat_minor": 0
}
