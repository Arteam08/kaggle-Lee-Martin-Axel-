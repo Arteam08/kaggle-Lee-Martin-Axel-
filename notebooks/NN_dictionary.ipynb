{
 "cells": [
  {
   "cell_type": "code",
   "execution_count": 27,
   "metadata": {},
   "outputs": [],
   "source": [
    "import os\n",
    "import matplotlib.pyplot as plt\n",
    "import pandas as pd\n",
    "import numpy as np\n",
    "from torchtext.data import get_tokenizer\n",
    "from collections import Counter\n",
    "from sklearn.model_selection import train_test_split\n",
    "from sklearn.preprocessing import StandardScaler\n",
    "import torch\n",
    "from torch.utils.data import DataLoader, TensorDataset\n",
    "import torch.nn as nn\n",
    "import torch.nn.functional as F\n"
   ]
  },
  {
   "cell_type": "markdown",
   "metadata": {},
   "source": [
    "## Load Data"
   ]
  },
  {
   "cell_type": "code",
   "execution_count": 28,
   "metadata": {},
   "outputs": [],
   "source": [
    "# Load data\n",
    "def load_data(path, verbose=False):\n",
    "    li = []\n",
    "    for filename in os.listdir(path):\n",
    "        df = pd.read_csv(os.path.join(path, filename))\n",
    "        li.append(df)\n",
    "    output = pd.concat(li)\n",
    "    if verbose:\n",
    "        print(output.head())\n",
    "        print(f'The shape of the data is: {output.shape}')\n",
    "    return output\n",
    "\n",
    "# Define paths\n",
    "path_to_data = \"../challenge_data/\"\n",
    "path_to_training_tweets = os.path.join(path_to_data, \"train_tweets\")\n",
    "path_to_eval_tweets = os.path.join(path_to_data, \"eval_tweets\")\n",
    "output_path = \"evaluation_predictions.csv\""
   ]
  },
  {
   "cell_type": "code",
   "execution_count": 29,
   "metadata": {},
   "outputs": [
    {
     "name": "stdout",
     "output_type": "stream",
     "text": [
      "         ID  MatchID  PeriodID  EventType      Timestamp  \\\n",
      "0       2_0        2         0          0  1403538600000   \n",
      "1       2_0        2         0          0  1403538600000   \n",
      "2       2_0        2         0          0  1403538600000   \n",
      "3       2_0        2         0          0  1403538600000   \n",
      "4       2_0        2         0          0  1403538600000   \n",
      "...     ...      ...       ...        ...            ...   \n",
      "13152  3_10        3        10          1  1403798422000   \n",
      "13153  3_10        3        10          1  1403798422000   \n",
      "13154  3_10        3        10          1  1403798422000   \n",
      "13155  3_10        3        10          1  1403798422000   \n",
      "13156  3_10        3        10          1  1403798422000   \n",
      "\n",
      "                                                   Tweet  \n",
      "0      RT @soccerdotcom: If #ESP beats #AUS we'll giv...  \n",
      "1      Visit the #SITEP official web site here http:/...  \n",
      "2      RT @soccerdotcom: If #ESP beats #AUS we'll giv...  \n",
      "3      RT @worldsoccershop: If there is a winner in t...  \n",
      "4      RT @soccerdotcom: If #AUS beats #ESP we'll giv...  \n",
      "...                                                  ...  \n",
      "13152                      LETS GOOOOOOO GHANA I BELIEVE  \n",
      "13153  So Ghana got 3 million sent over raw cash lol ...  \n",
      "13154  Im leaving it in your hands Jesus please!! 😩🙌🙏...  \n",
      "13155                        Ghana boutta get this upset  \n",
      "13156         Goooo Ghana we support you at last #PORGHA  \n",
      "\n",
      "[100000 rows x 6 columns]\n"
     ]
    }
   ],
   "source": [
    "df = load_data(path_to_training_tweets)\n",
    "\n",
    "df = df.head(100000)\n",
    "\n",
    "print(df)"
   ]
  },
  {
   "cell_type": "code",
   "execution_count": 30,
   "metadata": {},
   "outputs": [
    {
     "name": "stdout",
     "output_type": "stream",
     "text": [
      "          ID  MatchID  PeriodID  EventType  \\\n",
      "0      2_116        2       116          0   \n",
      "1       2_56        2        56          1   \n",
      "2        3_5        3         5          1   \n",
      "3        2_3        2         3          0   \n",
      "4       2_96        2        96          1   \n",
      "...      ...      ...       ...        ...   \n",
      "19959   2_33        2        33          0   \n",
      "19960   2_43        2        43          0   \n",
      "19961   2_65        2        65          1   \n",
      "19962   2_17        2        17          1   \n",
      "19963   2_32        2        32          0   \n",
      "\n",
      "                                                   Tweet  \n",
      "0      RT @Avnionics: #ESP 3-0 !! Mataaaa !! Awesome ...  \n",
      "1      RT @FIFAWorldCup: PHOTO: @Guaje7Villa's 9th #w...  \n",
      "2      RT @IGN: In ten minutes, it's #USA v #GER & #P...  \n",
      "3      RT @soccerdotcom: If #AUS beats #ESP we'll giv...  \n",
      "4      RT @FutbolBible: David Villa in tears on the S...  \n",
      "...                                                  ...  \n",
      "19959  RT @soccerdotcom: If #ESP beats #AUS we'll giv...  \n",
      "19960  That corner shows where #ESP are at. #rattled ...  \n",
      "19961  RT @worldsoccershop: HALFTIME:  \\n#NED 0-0 #CH...  \n",
      "19962  RT @_SoccerCenter: If Iniesta scores first vs ...  \n",
      "19963  RT @worldsoccershop: If there is a winner in t...  \n",
      "\n",
      "[19964 rows x 5 columns]\n"
     ]
    }
   ],
   "source": [
    "### Grouping tweets who have same timestamp by concatenating them\n",
    "MAX_SUBGROUP = 150\n",
    "\n",
    "# Create an array of random integers in {0, ..., MAX_SUBGROUP} of size len(df_train)\n",
    "df[\"random_id\"] = np.random.randint(0, MAX_SUBGROUP, len(df))\n",
    "df_bis = df.groupby(['ID', \"MatchID\", \"PeriodID\", \"EventType\", \"random_id\"])['Tweet'].apply(lambda x: ' '.join(x)).reset_index().drop(columns='random_id')\n",
    "df_bis = df_bis.sample(frac=1).reset_index(drop=True)\n",
    "print(df_bis)"
   ]
  },
  {
   "cell_type": "markdown",
   "metadata": {},
   "source": [
    "# Preprocessing"
   ]
  },
  {
   "cell_type": "code",
   "execution_count": 31,
   "metadata": {},
   "outputs": [],
   "source": [
    "def preprocessing(df):\n",
    "    df[\"Tweet\"] = df[\"Tweet\"].str.lower()\n",
    "    return df"
   ]
  },
  {
   "cell_type": "code",
   "execution_count": 32,
   "metadata": {},
   "outputs": [
    {
     "name": "stdout",
     "output_type": "stream",
     "text": [
      "          ID  MatchID  PeriodID  EventType  \\\n",
      "0      2_116        2       116          0   \n",
      "1       2_56        2        56          1   \n",
      "2        3_5        3         5          1   \n",
      "3        2_3        2         3          0   \n",
      "4       2_96        2        96          1   \n",
      "...      ...      ...       ...        ...   \n",
      "19959   2_33        2        33          0   \n",
      "19960   2_43        2        43          0   \n",
      "19961   2_65        2        65          1   \n",
      "19962   2_17        2        17          1   \n",
      "19963   2_32        2        32          0   \n",
      "\n",
      "                                                   Tweet  \n",
      "0      rt @avnionics: #esp 3-0 !! mataaaa !! awesome ...  \n",
      "1      rt @fifaworldcup: photo: @guaje7villa's 9th #w...  \n",
      "2      rt @ign: in ten minutes, it's #usa v #ger & #p...  \n",
      "3      rt @soccerdotcom: if #aus beats #esp we'll giv...  \n",
      "4      rt @futbolbible: david villa in tears on the s...  \n",
      "...                                                  ...  \n",
      "19959  rt @soccerdotcom: if #esp beats #aus we'll giv...  \n",
      "19960  that corner shows where #esp are at. #rattled ...  \n",
      "19961  rt @worldsoccershop: halftime:  \\n#ned 0-0 #ch...  \n",
      "19962  rt @_soccercenter: if iniesta scores first vs ...  \n",
      "19963  rt @worldsoccershop: if there is a winner in t...  \n",
      "\n",
      "[19964 rows x 5 columns]\n"
     ]
    }
   ],
   "source": [
    "preprocessing(df_bis)\n",
    "print(df_bis)"
   ]
  },
  {
   "cell_type": "markdown",
   "metadata": {},
   "source": [
    "## Create dictionary from tweets"
   ]
  },
  {
   "cell_type": "code",
   "execution_count": 33,
   "metadata": {},
   "outputs": [],
   "source": [
    "train, test = train_test_split(df_bis, test_size=0.3, random_state=42)"
   ]
  },
  {
   "cell_type": "code",
   "execution_count": 34,
   "metadata": {},
   "outputs": [],
   "source": [
    "tokenizer = get_tokenizer(\"basic_english\")\n",
    "number_of_words_in_dict = 1000\n",
    "\n",
    "def create_vocab(df, column_name, tokenizer, number_of_words_in_dict):\n",
    "    words = []\n",
    "    for text in df[column_name]:\n",
    "        words.extend(tokenizer(text))\n",
    "    vocab = dict(Counter(words).most_common(number_of_words_in_dict))\n",
    "    return vocab\n",
    "\n",
    "vocab = create_vocab(train, 'Tweet', tokenizer, number_of_words_in_dict)\n",
    "keywords = list(vocab.keys())"
   ]
  },
  {
   "cell_type": "code",
   "execution_count": 35,
   "metadata": {},
   "outputs": [
    {
     "name": "stdout",
     "output_type": "stream",
     "text": [
      "['.', 'rt', '#esp', '//t', 'http', '#aus', 'the', '!', \"'\", 'a', 'to', 'in', ',', 'for', 'villa', 'david', 'and', 'spain', 's', 'if', 'we', '#worldcup', 'goal', 'follow', 'enter', 'his', 'away', 'give', 'll', 'vs', 'on', 'winner', 'of', 'is', 'tears', 'game', '#ned', 'jersey', 'after', '#chi', 'with', 'as', 'last', '#ausesp', '2', '@soccerdotcom', 'off', 'one', '@fifaworldcup', 'beats', '1', 'it', 'match', 'he', 'world', 'retweet', 'time', 'bench', ')', 'this', 'cup', 'lucky', '(', '2014', 'final', 'ghana', '–', 'what', '&', '@guaje7villa', '#gha', 'torres', '@worldsoccershop', '#joinin', 'will', '0', 'scores', 'goals', '-', 'at', 'their', 'htt…', '@juanmata8', '?', 'substituted', '3-0', '#worldcup2014', 'win', 'player', 'today', 'pair', 'be', 'being', 'us', 'lead', 'career', '0-3', 'i', 'group', 'mata', 'there', '0-1', '2-0', 'co/hbwuu21sgj', '#spain', 'finish', 'juan', 'from', 'playing', 'co/kqglbslp…', '@espnfc', 'you', 'can', 'https', 'subbed', 'by', 'v', 'australia', 'scored', '#por', 'fernando', 'but', 'international', '@torres', 'b', 'country', 'against', 'that', 'games', 'score', 'beat', 'nike', '0-0', 'see', '…', '1-0', 'are', 'top', '3', 'go', 'has', 'scorer', 't', 'still', 'have', '2010', 'uniform', 'they', '@footballfunnys', '#australia', 'portugal', 'live', 'just', 'first', 'up', 'co/mkp2…', '@manutd', 'co/vqbj…', 'so', '#usa', 'ft', 'bosque', 'del', 'co/nb1cmqmnj1', 'record', 'out', 'makes', 'or', 'through', 'all', 'now', '0-2', 'iniesta', '#mufc', 'home', 'andre', '#ayew', '#tiempo', 'co/kejqbfk…', 'half', 'an', 'points', 'http…', 'ht', 'year', 'come', '#spa', '@footy_jokes', 'photo', 'congratulations', 'became', 'fifth', 'more', 'doubles', 'curitiba', '9', 'players', 'co/…', 're', 'scoring', '@futbolbible', '59th', 'announced', 'minutes', 'who', 'only', 'end', 'here', 'both', '@thescrlife', 'we’ll', '#superfly', 'play', 'wins', '@footballvines', '9th', '97', '59', 'winners', 'colors', 'draw', 'make', 'all-time', 'was', 'not', 'co/wqxq9ufimo', 'over', '4', '//t…', 'co/zupqvcfkhp', 'style', 'like', 'good', 'advance', 'spanish', '@bbcsport', '//…', 'opens', 'winners’', 'watch', 'increases', 'extending', '#ger', 'spaniards’', 'flicked', '@socceroos', 'team', '#ausvsesp', 'too', '@nycfc', 'germany', 'side', 'watching', 'been', '6', '#gosocceroos', 'get', 'my', 'put', '|', '@brazil14wc', 'chile', 'should', '#magistas', 'let', 'these', 'ryan', '@foxsoccer', 'do', '@purelyfootball', 'two', 'backheel', 'than', 'great', 'loss', 'no', 'played', 'portugal-ghana', 'costa', 'netherlands', 'advantage', 'usa', 'since', 'm', 'why', '@socialrmadrid', 'second', '@footbalistuff', '1st', 'ball', 'him', 'vine', 'back', 'crest', 'started', 'legend', 'finally', 'advances', 'result', 'full', 'gives', 'look', 'field', 'coming', 'leaves', 'matches', 'teams', 'co…', 'football', 'how', 'kick-off', 'depending', 'ends', '@sportscenter', '#bra', '@cristiano', 'tonight', 'kick', '@mcfc', 'your', 'brilliant', 'hoping', '@futballtweets', '16', '7', 'way', 'man', 'co/hbwuu…', 'our', '#cmr', '@truesoccerlife', 'cheeky', '@2014wc_brazil', 'better', 'must', 'dm', 'stage', 'would', 'back-heel', 'chance', '@wor1dcup2014', 'pure', 'me', 'well', 'award', '@barcastuff', 'about', 'co/xc…', 'co/g29i4…', 'slots', '@stsportsdesk', 'don', 'late', 'qualify', '#redsinbrazil', 'most', 'while', 'going', 'mark', 'underway', 'diego', 'co/ooudcu8kwd', 'moments', 'cups', '@skyfootball', 'legs', 'shirt', '#cro', 'goalscorer', 'starting', 'pts', '@easportsfifa', '@reylamadrid', 'standings', 'ever', '@football__tweet', 'c…', 'got', '36', 'want', 'wc', 'consolation', 'when', 'gets', 'spanyol', 'matchs', 'far', 'again', 'start', 'could', 'had', 'some', 'stop', 'european', 'take', 'three', 'years', 'walks', 'before', 'pairs', 'magista', 'ahead', '@_soccercenter', 'congratulate', 'co/p…', 'third', 'into', '@19scazorla', '@arsenal', 'really', '2nd', 'them', 'least', '60', 'looking', '#eng', 'didn', 'even', '@whoscored', '#mex', '#nycfc', 'round', 'need', 'because', 'signed', '@soccerdotcom_gk', '@hosoccerusa', 'gloves', 'beto', 'co/ti437dqr34', 'little', 'best', 'bad', '[via', 'kissed', 'repeatedly', 'love', 'appearances', 'co/n7kvf6yswc', 'victory', '@cm2014_', 'hope', 'co/f1…', 'utd', 'missed', 'co/ljj7b9jqih', '#…', 'leading', 'kisses', 'exits', 'd', 'co/kilcpe4j03', '67', '#iniesta', '@mls', 'taggart', 'pass', 'tournament', 'commentary', 'action', 'other', 'u', 'pride', 'giveaway', 'striker', 'fans', 'co/s4qvnxzyko', 'apps', 'leckie', '12', 'co/zzaelmtrda', 'co/j9fykxjdqh', 'black', 'bozanic', 'right', '#espvsaus', 'think', 'co/ad7okoddbj', 'day', 'wrong', '#nedvschi', 'its', 'jedinak', 've', 'oar', 'casillas', 'kickoff', 'et', 'mckay', 'gonna', 'which', 'find', 'farewell', 'era', 'luck', 'mcgowan', 'davidson', 'campaign', 'spiranovic', '#openhappiness', 'during', '@tweetchelseafc', '#worldscup', 'prefers', 'update', 'c', 'comes', '#ghana', '@goal_id', 'keeper', 'thank', 'barcelona', 'muntari', 'know', '00', 'ninth', 'looks', 'flicks', 'please', '#villa', 'break', 'much', '@soccerruniverse', 'g', '@squawka', 'awesome', 'special', '2004', 'co/flsioecaqh', 'wilkinson', 'point', '@8fact_footballl', 'mins', 'same', '35', 'fer', 'between', 'where', 'co/phmh3ym7q6', 'were', 'depay', 'alba', '@fourfourtweet', 'la', 'fav', 'currently', 'boys', 'socceroos', 'half-time', 'ready', 'eliminated', 'full-time', 'appearance', 'lovely', 'nice', '15', 'doesn', '-6', 'bayern', 'munich', 'lol', 'channel', 'any', 'flick', 'xavi', '@cocacola', 'oh', 'clever', 'course', 'da', 'picture', 'different', 'history', 'co/j0vmtkxao0', 'roja', 'though', 'leave', 'tie', 'then', 'replaced', 'likely', 'done', 'high', 'boateng', 'needs', '2016', 'seal', 'god', 'superflys', 'calm', 'proud', 'lets', 'did', 'online', '2006', '@kicktv', 'arena', 'streaming', 'baixada', 'cried', 'lose', '@huffpostsports', '@espnstatsinfo', 'already', '70', 'filthy', 'won', 'making', 'next', 'starts', 'incredible', 'thanks', '#bel', '@ftbpro', 'old', 'vote', 'crying', '@barcelonka_1899]', 'tweet', 'another', 'winning', '-3', 'heel', 'ramos', 'stands', '@ayshardzn', 'leader', 'shot', '@worldsoccertalk', 'job', 'secure', 'alonso', 'sad', 'predictions', 'iker', 'co/cefrfv76ev', 'big', 'left', 'miss', 'cesc', 'p', 'goooaall', 'co/lsgylkswjj', 'line', 'assist', 'without', 'xabi', 'video', 'co/y…', 'actually', '@br_uk', 'provides', 'always', 'cahill', 'guys', 'say', '@thewcbrasil2014', 'previous', 'co/qdqqmkgyln', 'beautiful', 'halftime', 'yet', 'kicked', '@soccertweetshq', 'pictures', '#chi…', 'slips', 'maty', 'also', '20', 'nothing', '#brazil2014', '+2', 'becomes', '#arg', 'tv', 'fuck', 'goodbye', 'co/8ueektvo2e', 'class', 'kit', 'death', '10', 'via', '#sbsworldcup', '+7', '@optajose', 'plays', 'officially', 'extend', 'moment', 'face', 'w/', 'red', 'de', '69', 'unreal', '#cfc', 'co/zvwwub6lbc', '12am', 'very', '#fifaworldcup', '@livefootball', '@fasfootball', '@gh6stmode', 'keep', '13', 'euro', 'world…', 'national', 'pique', '12pm', 'wow', 'completes', 'co/fc…', 'survive', 'show', 'corner', 'sergio', 'fantastic', 'pick', 'tying', 'pitch', '@goaluk', '@offsideliam', 'maybe', 'earlier', '13th', '5', 'fabregas', 'down', 'puts', 'ft’s', 'co/azcl4unasr', '82', 'stars', 'never', 'am', '@jordzbarca]', 'many', 'each', 'retire', 'believe', 'shoulda', 'may', 'under', 'co/0kzd6dhdhh', 'blame', 'line-up', '@gettysport', 'brazil', '@melbournecity', '#davidvilla', 'happy', 'those', 'favorite', 'cruising', 'sure', '#crc', '#bih', '#torres', 'showing', '@f00tyhighlights', 'club', '#col', '#wc2014', 'difference', '@allfootballlive', '@thaworldcup', 'perfect', 'highlight', 'finishes', '@infostradalive', 'fifa', 'does', 't…', '@wcbrasil2014_', 'co/fdkwcrrmax', 'hd', 'gd', 'fucking', 'repeat', 'tim', '@reemshahwa', 'finished', '/', 'thei…', 'sign', '>', 'probably', 'runner-up', 'plane', '@sonysix', 'things', 'back-heels', 'chelsea', 'gone', 'signing', '#brazil', '#brasil2014', 'nine', 'tied', '#nedchi', 'delightful', '[cuatro]', 'co/xqjzbh3ztt', 'skor', '@sbnation', 'worst', 'salinas', 'hierro', 'made', 'free', '😂', 'yellow', '3rd', 'champions', 'bit', '@_soccervines', 'place', 'news', 'holders', 'cannot', 'yes', 'favourite', 'sub', 'co/trg3dc5tsf', 'n', 'easy', 'real', 'defence', '#australiavsspain', 'updates', 'juanfran', 'julio', 'click', 'halves', 'support', '@888sport', 'seat', 'im', 'become', 'window', 'said', '2nd-', '3rd-', '4th-', 'memories', '⚽️', 'matter', 'past', '100th', 'giving', 'ronaldo', 'mourning', 'emotional', 'instead', 'alexis', '#blackstars', 'gp', 'feel', 'everything', 'co/t2sf5yl5rt', 'minute', '”', 'clash', '-5', 'sport', 'getting', 'coach', 'cleaver', 'co/0wkkuc8am4', 'seen', 'co/atwytfjk4j', 'means', 'heart', 'celebrating', 'co/eest07gf5d', 'anymore', 'min', '#gracias', 'manager', '{via', '@infobolaholic', 'pm', 'strike', 'co/k7kscvgof6', 'fourth', '4pm', 'sent', '☺', '#fifa', 'assisted', 'espn', 'might', 'scenarios', '#manofthematch', 'people', 'truly', 'ovation', '8', 'stupid', 'current', 'assists', 'y', 'decked', 'note', 'gooooaaaaaaallllll', 'sulley', 'teary', 'golazo', 'stats', '’s', 'pl', 'button', 'anthem', 'seeing', 'co/yiyr4axg9o', 'kicks', '-2', 'goes', 'españa', 'bet', '1982', 'bids', 'target', 'league', 'porvsgha', 'isn', '#ausvsspa', 'couldn', 'registering', 'doing', 'whole', 'shots', 'qualified', 'co/xzjijby5pe', 'girls', 'new', '@dstyles8', 'xi', 'early', 'co/ik7cvvn…', '@real_worldcup', '@budweiserfc', '#portugal', 'tiki-taka', 'world-cup', 'eight', 'trying', '@wyclef', '#lfc', 'joining', 'co/rhkhpm1kmd', '‘view', 'details’', 'champs', 'competitions', 'bottom', 'caps', 'close', 'open', '/…', 'ht…', '#groupb', 'controls', 'la…', 'co/g27ntcktwc', '@swearingsport', 'future', 'links', 'bless', 'poin', '@itvfootball', 'hopefully', 'wait', 'tactics', 'case', 'rare', '@world', 'squad', 'dance', 'later', 'cant', '27', 'convincing', 'russia', '841/821', '#wor…', '#chile', '@theworldgame', 'poor', 'sorry', 'work', 'co/v56i2gluk1', 'finals', 'stay', 'once', 'aus', 'mon']\n",
      "{'.': 99557, 'rt': 58713, '#esp': 56392, '//t': 34066, 'http': 33974, '#aus': 33024, 'the': 32965, '!': 32591, \"'\": 27997, 'a': 26425, 'to': 26216, 'in': 24997, ',': 20517, 'for': 20287, 'villa': 17967, 'david': 15775, 'and': 15521, 'spain': 12828, 's': 12546, 'if': 12437, 'we': 11890, '#worldcup': 11764, 'goal': 11690, 'follow': 11507, 'enter': 10985, 'his': 10974, 'away': 10702, 'give': 10497, 'll': 9676, 'vs': 9374, 'on': 9354, 'winner': 9161, 'of': 8923, 'is': 8673, 'tears': 7978, 'game': 7778, '#ned': 7522, 'jersey': 7390, 'after': 7076, '#chi': 6670, 'with': 6465, 'as': 6180, 'last': 6061, '#ausesp': 6002, '2': 5797, '@soccerdotcom': 5346, 'off': 5255, 'one': 5246, '@fifaworldcup': 5217, 'beats': 5210, '1': 5098, 'it': 5055, 'match': 5033, 'he': 4925, 'world': 4916, 'retweet': 4905, 'time': 4903, 'bench': 4742, ')': 4680, 'this': 4639, 'cup': 4631, 'lucky': 4540, '(': 4521, '2014': 4513, 'final': 4448, 'ghana': 4400, '–': 4323, 'what': 4272, '&': 4264, '@guaje7villa': 4240, '#gha': 4212, 'torres': 4209, '@worldsoccershop': 4149, '#joinin': 4112, 'will': 4066, '0': 4033, 'scores': 3901, 'goals': 3884, '-': 3864, 'at': 3855, 'their': 3656, 'htt…': 3619, '@juanmata8': 3571, '?': 3563, 'substituted': 3549, '3-0': 3497, '#worldcup2014': 3448, 'win': 3437, 'player': 3311, 'today': 3195, 'pair': 3149, 'be': 3116, 'being': 3111, 'us': 3097, 'lead': 3095, 'career': 3085, '0-3': 3076, 'i': 3065, 'group': 2975, 'mata': 2958, 'there': 2885, '0-1': 2868, '2-0': 2774, 'co/hbwuu21sgj': 2752, '#spain': 2741, 'finish': 2598, 'juan': 2577, 'from': 2558, 'playing': 2504, 'co/kqglbslp…': 2492, '@espnfc': 2488, 'you': 2440, 'can': 2408, 'https': 2393, 'subbed': 2376, 'by': 2348, 'v': 2298, 'australia': 2284, 'scored': 2273, '#por': 2219, 'fernando': 2175, 'but': 2139, 'international': 2104, '@torres': 2089, 'b': 2067, 'country': 2045, 'against': 2028, 'that': 2024, 'games': 2019, 'score': 1984, 'beat': 1948, 'nike': 1945, '0-0': 1937, 'see': 1935, '…': 1910, '1-0': 1895, 'are': 1870, 'top': 1859, '3': 1856, 'go': 1778, 'has': 1769, 'scorer': 1768, 't': 1768, 'still': 1759, 'have': 1738, '2010': 1687, 'uniform': 1684, 'they': 1650, '@footballfunnys': 1636, '#australia': 1634, 'portugal': 1605, 'live': 1602, 'just': 1601, 'first': 1601, 'up': 1597, 'co/mkp2…': 1569, '@manutd': 1566, 'co/vqbj…': 1566, 'so': 1564, '#usa': 1533, 'ft': 1532, 'bosque': 1530, 'del': 1521, 'co/nb1cmqmnj1': 1519, 'record': 1512, 'out': 1464, 'makes': 1453, 'or': 1449, 'through': 1400, 'all': 1395, 'now': 1374, '0-2': 1358, 'iniesta': 1326, '#mufc': 1326, 'home': 1314, 'andre': 1310, '#ayew': 1310, '#tiempo': 1309, 'co/kejqbfk…': 1308, 'half': 1303, 'an': 1242, 'points': 1233, 'http…': 1227, 'ht': 1188, 'year': 1170, 'come': 1158, '#spa': 1156, '@footy_jokes': 1144, 'photo': 1142, 'congratulations': 1135, 'became': 1128, 'fifth': 1126, 'more': 1119, 'doubles': 1100, 'curitiba': 1097, '9': 1086, 'players': 1080, 'co/…': 1064, 're': 1056, 'scoring': 1050, '@futbolbible': 1042, '59th': 1035, 'announced': 1029, 'minutes': 1015, 'who': 1012, 'only': 1007, 'end': 994, 'here': 993, 'both': 990, '@thescrlife': 978, 'we’ll': 977, '#superfly': 977, 'play': 973, 'wins': 973, '@footballvines': 966, '9th': 964, '97': 960, '59': 959, 'winners': 957, 'colors': 955, 'draw': 939, 'make': 931, 'all-time': 931, 'was': 925, 'not': 923, 'co/wqxq9ufimo': 922, 'over': 917, '4': 894, '//t…': 892, 'co/zupqvcfkhp': 883, 'style': 881, 'like': 871, 'good': 868, 'advance': 865, 'spanish': 862, '@bbcsport': 860, '//…': 860, 'opens': 860, 'winners’': 850, 'watch': 846, 'increases': 846, 'extending': 845, '#ger': 844, 'spaniards’': 844, 'flicked': 838, '@socceroos': 831, 'team': 827, '#ausvsesp': 813, 'too': 797, '@nycfc': 794, 'germany': 791, 'side': 776, 'watching': 774, 'been': 772, '6': 771, '#gosocceroos': 767, 'get': 766, 'my': 762, 'put': 758, '|': 754, '@brazil14wc': 751, 'chile': 751, 'should': 748, '#magistas': 730, 'let': 724, 'these': 719, 'ryan': 695, '@foxsoccer': 693, 'do': 689, '@purelyfootball': 688, 'two': 684, 'backheel': 682, 'than': 679, 'great': 676, 'loss': 668, 'no': 666, 'played': 655, 'portugal-ghana': 651, 'costa': 646, 'netherlands': 644, 'advantage': 642, 'usa': 638, 'since': 637, 'm': 632, 'why': 628, '@socialrmadrid': 628, 'second': 626, '@footbalistuff': 626, '1st': 625, 'ball': 624, 'him': 624, 'vine': 621, 'back': 620, 'crest': 620, 'started': 618, 'legend': 612, 'finally': 602, 'advances': 599, 'result': 596, 'full': 591, 'gives': 588, 'look': 585, 'field': 584, 'coming': 561, 'leaves': 559, 'matches': 557, 'teams': 551, 'co…': 551, 'football': 551, 'how': 548, 'kick-off': 547, 'depending': 546, 'ends': 540, '@sportscenter': 538, '#bra': 537, '@cristiano': 536, 'tonight': 535, 'kick': 535, '@mcfc': 532, 'your': 532, 'brilliant': 531, 'hoping': 526, '@futballtweets': 521, '16': 517, '7': 516, 'way': 512, 'man': 505, 'co/hbwuu…': 504, 'our': 501, '#cmr': 497, '@truesoccerlife': 489, 'cheeky': 487, '@2014wc_brazil': 487, 'better': 485, 'must': 484, 'dm': 479, 'stage': 478, 'would': 474, 'back-heel': 471, 'chance': 471, '@wor1dcup2014': 470, 'pure': 469, 'me': 466, 'well': 465, 'award': 462, '@barcastuff': 461, 'about': 461, 'co/xc…': 461, 'co/g29i4…': 459, 'slots': 459, '@stsportsdesk': 456, 'don': 454, 'late': 452, 'qualify': 452, '#redsinbrazil': 451, 'most': 451, 'while': 451, 'going': 450, 'mark': 449, 'underway': 448, 'diego': 437, 'co/ooudcu8kwd': 434, 'moments': 430, 'cups': 429, '@skyfootball': 428, 'legs': 425, 'shirt': 423, '#cro': 423, 'goalscorer': 422, 'starting': 420, 'pts': 420, '@easportsfifa': 419, '@reylamadrid': 410, 'standings': 403, 'ever': 402, '@football__tweet': 402, 'c…': 401, 'got': 400, '36': 399, 'want': 394, 'wc': 393, 'consolation': 392, 'when': 392, 'gets': 391, 'spanyol': 391, 'matchs': 389, 'far': 386, 'again': 381, 'start': 379, 'could': 378, 'had': 377, 'some': 376, 'stop': 375, 'european': 375, 'take': 374, 'three': 373, 'years': 371, 'walks': 370, 'before': 369, 'pairs': 367, 'magista': 367, 'ahead': 366, '@_soccercenter': 366, 'congratulate': 366, 'co/p…': 364, 'third': 362, 'into': 358, '@19scazorla': 352, '@arsenal': 347, 'really': 343, '2nd': 343, 'them': 340, 'least': 333, '60': 332, 'looking': 331, '#eng': 330, 'didn': 329, 'even': 329, '@whoscored': 328, '#mex': 328, '#nycfc': 327, 'round': 326, 'need': 324, 'because': 323, 'signed': 323, '@soccerdotcom_gk': 321, '@hosoccerusa': 321, 'gloves': 321, 'beto': 321, 'co/ti437dqr34': 320, 'little': 319, 'best': 319, 'bad': 319, '[via': 318, 'kissed': 318, 'repeatedly': 316, 'love': 315, 'appearances': 315, 'co/n7kvf6yswc': 313, 'victory': 311, '@cm2014_': 311, 'hope': 311, 'co/f1…': 310, 'utd': 310, 'missed': 309, 'co/ljj7b9jqih': 309, '#…': 307, 'leading': 305, 'kisses': 305, 'exits': 305, 'd': 305, 'co/kilcpe4j03': 303, '67': 303, '#iniesta': 301, '@mls': 300, 'taggart': 299, 'pass': 299, 'tournament': 299, 'commentary': 298, 'action': 297, 'other': 296, 'u': 295, 'pride': 294, 'giveaway': 291, 'striker': 291, 'fans': 289, 'co/s4qvnxzyko': 289, 'apps': 287, 'leckie': 286, '12': 285, 'co/zzaelmtrda': 284, 'co/j9fykxjdqh': 284, 'black': 284, 'bozanic': 283, 'right': 281, '#espvsaus': 280, 'think': 280, 'co/ad7okoddbj': 279, 'day': 278, 'wrong': 277, '#nedvschi': 276, 'its': 273, 'jedinak': 273, 've': 272, 'oar': 272, 'casillas': 271, 'kickoff': 269, 'et': 269, 'mckay': 268, 'gonna': 266, 'which': 265, 'find': 263, 'farewell': 263, 'era': 263, 'luck': 262, 'mcgowan': 262, 'davidson': 261, 'campaign': 260, 'spiranovic': 260, '#openhappiness': 259, 'during': 259, '@tweetchelseafc': 258, '#worldscup': 257, 'prefers': 257, 'update': 256, 'c': 256, 'comes': 256, '#ghana': 255, '@goal_id': 253, 'keeper': 249, 'thank': 248, 'barcelona': 248, 'muntari': 247, 'know': 247, '00': 247, 'ninth': 247, 'looks': 246, 'flicks': 245, 'please': 245, '#villa': 245, 'break': 244, 'much': 244, '@soccerruniverse': 243, 'g': 243, '@squawka': 243, 'awesome': 242, 'special': 242, '2004': 242, 'co/flsioecaqh': 240, 'wilkinson': 240, 'point': 239, '@8fact_footballl': 238, 'mins': 236, 'same': 236, '35': 235, 'fer': 235, 'between': 235, 'where': 235, 'co/phmh3ym7q6': 233, 'were': 233, 'depay': 231, 'alba': 229, '@fourfourtweet': 228, 'la': 227, 'fav': 226, 'currently': 226, 'boys': 226, 'socceroos': 225, 'half-time': 225, 'ready': 224, 'eliminated': 221, 'full-time': 221, 'appearance': 219, 'lovely': 218, 'nice': 218, '15': 217, 'doesn': 216, '-6': 216, 'bayern': 216, 'munich': 216, 'lol': 215, 'channel': 215, 'any': 215, 'flick': 215, 'xavi': 212, '@cocacola': 212, 'oh': 212, 'clever': 209, 'course': 209, 'da': 206, 'picture': 206, 'different': 205, 'history': 204, 'co/j0vmtkxao0': 204, 'roja': 204, 'though': 203, 'leave': 203, 'tie': 202, 'then': 202, 'replaced': 201, 'likely': 201, 'done': 200, 'high': 199, 'boateng': 199, 'needs': 199, '2016': 198, 'seal': 198, 'god': 198, 'superflys': 197, 'calm': 197, 'proud': 197, 'lets': 196, 'did': 196, 'online': 196, '2006': 196, '@kicktv': 196, 'arena': 194, 'streaming': 193, 'baixada': 192, 'cried': 192, 'lose': 191, '@huffpostsports': 191, '@espnstatsinfo': 191, 'already': 191, '70': 190, 'filthy': 190, 'won': 189, 'making': 189, 'next': 188, 'starts': 188, 'incredible': 187, 'thanks': 187, '#bel': 186, '@ftbpro': 185, 'old': 185, 'vote': 185, 'crying': 184, '@barcelonka_1899]': 183, 'tweet': 182, 'another': 182, 'winning': 181, '-3': 181, 'heel': 180, 'ramos': 180, 'stands': 180, '@ayshardzn': 180, 'leader': 179, 'shot': 179, '@worldsoccertalk': 179, 'job': 178, 'secure': 177, 'alonso': 177, 'sad': 177, 'predictions': 175, 'iker': 175, 'co/cefrfv76ev': 175, 'big': 173, 'left': 173, 'miss': 172, 'cesc': 172, 'p': 172, 'goooaall': 171, 'co/lsgylkswjj': 171, 'line': 170, 'assist': 170, 'without': 169, 'xabi': 169, 'video': 169, 'co/y…': 168, 'actually': 168, '@br_uk': 168, 'provides': 167, 'always': 167, 'cahill': 167, 'guys': 167, 'say': 167, '@thewcbrasil2014': 166, 'previous': 166, 'co/qdqqmkgyln': 166, 'beautiful': 166, 'halftime': 165, 'yet': 165, 'kicked': 165, '@soccertweetshq': 165, 'pictures': 164, '#chi…': 164, 'slips': 164, 'maty': 164, 'also': 163, '20': 163, 'nothing': 161, '#brazil2014': 160, '+2': 160, 'becomes': 160, '#arg': 159, 'tv': 159, 'fuck': 158, 'goodbye': 158, 'co/8ueektvo2e': 158, 'class': 157, 'kit': 156, 'death': 155, '10': 155, 'via': 154, '#sbsworldcup': 154, '+7': 154, '@optajose': 152, 'plays': 152, 'officially': 151, 'extend': 151, 'moment': 150, 'face': 149, 'w/': 148, 'red': 148, 'de': 148, '69': 148, 'unreal': 147, '#cfc': 147, 'co/zvwwub6lbc': 147, '12am': 147, 'very': 147, '#fifaworldcup': 146, '@livefootball': 146, '@fasfootball': 145, '@gh6stmode': 144, 'keep': 144, '13': 144, 'euro': 143, 'world…': 143, 'national': 143, 'pique': 143, '12pm': 143, 'wow': 142, 'completes': 142, 'co/fc…': 142, 'survive': 142, 'show': 142, 'corner': 141, 'sergio': 140, 'fantastic': 140, 'pick': 140, 'tying': 140, 'pitch': 139, '@goaluk': 139, '@offsideliam': 139, 'maybe': 139, 'earlier': 139, '13th': 139, '5': 137, 'fabregas': 136, 'down': 135, 'puts': 134, 'ft’s': 134, 'co/azcl4unasr': 134, '82': 134, 'stars': 134, 'never': 134, 'am': 133, '@jordzbarca]': 133, 'many': 133, 'each': 133, 'retire': 133, 'believe': 132, 'shoulda': 132, 'may': 131, 'under': 131, 'co/0kzd6dhdhh': 131, 'blame': 131, 'line-up': 129, '@gettysport': 128, 'brazil': 128, '@melbournecity': 128, '#davidvilla': 127, 'happy': 127, 'those': 127, 'favorite': 127, 'cruising': 127, 'sure': 126, '#crc': 126, '#bih': 126, '#torres': 126, 'showing': 126, '@f00tyhighlights': 126, 'club': 126, '#col': 125, '#wc2014': 125, 'difference': 125, '@allfootballlive': 125, '@thaworldcup': 125, 'perfect': 125, 'highlight': 124, 'finishes': 124, '@infostradalive': 124, 'fifa': 124, 'does': 123, 't…': 123, '@wcbrasil2014_': 123, 'co/fdkwcrrmax': 122, 'hd': 122, 'gd': 122, 'fucking': 122, 'repeat': 121, 'tim': 121, '@reemshahwa': 121, 'finished': 120, '/': 120, 'thei…': 120, 'sign': 119, '>': 118, 'probably': 118, 'runner-up': 118, 'plane': 118, '@sonysix': 118, 'things': 118, 'back-heels': 118, 'chelsea': 118, 'gone': 118, 'signing': 117, '#brazil': 117, '#brasil2014': 117, 'nine': 117, 'tied': 117, '#nedchi': 117, 'delightful': 117, '[cuatro]': 116, 'co/xqjzbh3ztt': 116, 'skor': 115, '@sbnation': 115, 'worst': 115, 'salinas': 115, 'hierro': 115, 'made': 114, 'free': 114, '😂': 114, 'yellow': 114, '3rd': 113, 'champions': 113, 'bit': 113, '@_soccervines': 112, 'place': 112, 'news': 112, 'holders': 111, 'cannot': 111, 'yes': 111, 'favourite': 111, 'sub': 111, 'co/trg3dc5tsf': 110, 'n': 110, 'easy': 110, 'real': 110, 'defence': 109, '#australiavsspain': 109, 'updates': 109, 'juanfran': 108, 'julio': 107, 'click': 107, 'halves': 107, 'support': 107, '@888sport': 106, 'seat': 106, 'im': 106, 'become': 106, 'window': 105, 'said': 105, '2nd-': 105, '3rd-': 105, '4th-': 105, 'memories': 105, '⚽️': 105, 'matter': 104, 'past': 104, '100th': 103, 'giving': 103, 'ronaldo': 102, 'mourning': 102, 'emotional': 102, 'instead': 101, 'alexis': 101, '#blackstars': 101, 'gp': 101, 'feel': 101, 'everything': 100, 'co/t2sf5yl5rt': 100, 'minute': 100, '”': 100, 'clash': 100, '-5': 100, 'sport': 99, 'getting': 99, 'coach': 99, 'cleaver': 99, 'co/0wkkuc8am4': 99, 'seen': 99, 'co/atwytfjk4j': 99, 'means': 99, 'heart': 99, 'celebrating': 98, 'co/eest07gf5d': 98, 'anymore': 98, 'min': 98, '#gracias': 98, 'manager': 97, '{via': 97, '@infobolaholic': 97, 'pm': 97, 'strike': 97, 'co/k7kscvgof6': 97, 'fourth': 97, '4pm': 97, 'sent': 96, '☺': 96, '#fifa': 96, 'assisted': 96, 'espn': 96, 'might': 96, 'scenarios': 96, '#manofthematch': 96, 'people': 95, 'truly': 95, 'ovation': 95, '8': 95, 'stupid': 95, 'current': 95, 'assists': 95, 'y': 95, 'decked': 95, 'note': 95, 'gooooaaaaaaallllll': 95, 'sulley': 95, 'teary': 94, 'golazo': 94, 'stats': 94, '’s': 93, 'pl': 93, 'button': 93, 'anthem': 93, 'seeing': 92, 'co/yiyr4axg9o': 92, 'kicks': 92, '-2': 91, 'goes': 91, 'españa': 91, 'bet': 91, '1982': 90, 'bids': 90, 'target': 90, 'league': 90, 'porvsgha': 90, 'isn': 90, '#ausvsspa': 90, 'couldn': 90, 'registering': 89, 'doing': 88, 'whole': 88, 'shots': 88, 'qualified': 88, 'co/xzjijby5pe': 88, 'girls': 87, 'new': 87, '@dstyles8': 87, 'xi': 87, 'early': 87, 'co/ik7cvvn…': 87, '@real_worldcup': 87, '@budweiserfc': 87, '#portugal': 87, 'tiki-taka': 86, 'world-cup': 86, 'eight': 86, 'trying': 86, '@wyclef': 86, '#lfc': 86, 'joining': 86, 'co/rhkhpm1kmd': 86, '‘view': 86, 'details’': 86, 'champs': 86, 'competitions': 85, 'bottom': 85, 'caps': 85, 'close': 85, 'open': 85, '/…': 85, 'ht…': 85, '#groupb': 84, 'controls': 84, 'la…': 84, 'co/g27ntcktwc': 84, '@swearingsport': 84, 'future': 84, 'links': 84, 'bless': 84, 'poin': 84, '@itvfootball': 83, 'hopefully': 83, 'wait': 83, 'tactics': 83, 'case': 83, 'rare': 83, '@world': 83, 'squad': 83, 'dance': 83, 'later': 82, 'cant': 82, '27': 82, 'convincing': 82, 'russia': 82, '841/821': 82, '#wor…': 82, '#chile': 81, '@theworldgame': 81, 'poor': 81, 'sorry': 81, 'work': 81, 'co/v56i2gluk1': 81, 'finals': 81, 'stay': 81, 'once': 81, 'aus': 81, 'mon': 81}\n"
     ]
    },
    {
     "data": {
      "image/png": "[encoded data removed]",
      "text/plain": [
       "<Figure size 1000x500 with 1 Axes>"
      ]
     },
     "metadata": {},
     "output_type": "display_data"
    }
   ],
   "source": [
    "print(keywords)\n",
    "print(vocab)\n",
    "\n",
    "# Plot histogram of the top 20 keywords\n",
    "top_keywords = keywords[:40]\n",
    "top_counts = [vocab[word] for word in top_keywords]\n",
    "\n",
    "plt.figure(figsize=(10, 5))\n",
    "plt.bar(top_keywords, top_counts)\n",
    "plt.xlabel('Keywords')\n",
    "plt.ylabel('Frequency')\n",
    "plt.title('Top 20 Keywords Frequency')\n",
    "plt.xticks(rotation=45)\n",
    "plt.show()"
   ]
  },
  {
   "cell_type": "markdown",
   "metadata": {},
   "source": [
    "# Embedding"
   ]
  },
  {
   "cell_type": "code",
   "execution_count": 36,
   "metadata": {},
   "outputs": [],
   "source": [
    "def extract_keyword_frequencies(tweets, keywords):\n",
    "    feature_matrix = []\n",
    "    for i, text in enumerate(tweets):\n",
    "        tokens = tokenizer(text) # ex : 'Hello, I am a test' -> ['hello', 'i', 'am', 'a', 'test']\n",
    "        token_counts = Counter(tokens)\n",
    "        len_token = max(len(tokens), 1)\n",
    "        frequencies = [token_counts.get(keyword, 0)/len_token for keyword in keywords]\n",
    "        feature_matrix.append(frequencies)\n",
    "    feature_matrix = np.array(feature_matrix)\n",
    "    return feature_matrix "
   ]
  },
  {
   "cell_type": "code",
   "execution_count": 37,
   "metadata": {},
   "outputs": [
    {
     "name": "stdout",
     "output_type": "stream",
     "text": [
      "Counter({'hello': 1, ',': 1, 'i': 1, 'am': 1, 'a': 1, 'test': 1})\n",
      "[[0.16666667 0.16666667 0.16666667]]\n"
     ]
    }
   ],
   "source": [
    "print(Counter(tokenizer('Hello, I am a test')))\n",
    "print(extract_keyword_frequencies(['Hello, I am a test'], ['hello', 'i', 'am']))"
   ]
  },
  {
   "cell_type": "code",
   "execution_count": 38,
   "metadata": {},
   "outputs": [],
   "source": [
    "train_X = extract_keyword_frequencies(train['Tweet'], keywords)"
   ]
  },
  {
   "cell_type": "code",
   "execution_count": 39,
   "metadata": {},
   "outputs": [],
   "source": [
    "test_X = extract_keyword_frequencies(test['Tweet'], keywords)"
   ]
  },
  {
   "cell_type": "markdown",
   "metadata": {},
   "source": [
    "# Training"
   ]
  },
  {
   "cell_type": "code",
   "execution_count": 40,
   "metadata": {},
   "outputs": [],
   "source": [
    "# Standardize the feature matrix\n",
    "scaler = StandardScaler()\n",
    "train_X = scaler.fit_transform(train_X) # train_X -> (train_X - mean(train_X)) / std(train_X)\n",
    "test_X = scaler.transform(test_X)"
   ]
  },
  {
   "cell_type": "code",
   "execution_count": 41,
   "metadata": {},
   "outputs": [],
   "source": [
    "# Labels\n",
    "train_y = np.array(train['EventType']).reshape(-1, 1).flatten()\n",
    "test_y = np.array(test['EventType']).reshape(-1, 1).flatten()\n",
    "\n",
    "train_y = torch.tensor(train_y, dtype=torch.float32).view(-1, 1)\n",
    "test_y = torch.tensor(test_y, dtype=torch.float32).view(-1, 1)"
   ]
  },
  {
   "cell_type": "code",
   "execution_count": 42,
   "metadata": {},
   "outputs": [
    {
     "name": "stdout",
     "output_type": "stream",
     "text": [
      "train_X shape: (13974, 1000), train_y shape: torch.Size([13974, 1])\n",
      "test_X shape: (5990, 1000), test_y shape: torch.Size([5990, 1])\n",
      "Number of NaNs in train_X: 0\n",
      "Number of NaNs in train_y: 0\n"
     ]
    }
   ],
   "source": [
    "print(f\"train_X shape: {train_X.shape}, train_y shape: {train_y.shape}\")\n",
    "print(f\"test_X shape: {test_X.shape}, test_y shape: {test_y.shape}\")\n",
    "\n",
    "print(f\"Number of NaNs in train_X: {np.isnan(train_X).sum()}\")\n",
    "print(f\"Number of NaNs in train_y: {np.isnan(train_y).sum()}\")\n"
   ]
  },
  {
   "cell_type": "code",
   "execution_count": 43,
   "metadata": {},
   "outputs": [
    {
     "data": {
      "text/plain": [
       "tensor([[-0.1263,  1.4273, -0.7439,  ..., -0.0574, -0.0501, -0.0453],\n",
       "        [ 0.1536, -0.0874,  0.1451,  ..., -0.0574, -0.0501, -0.0453],\n",
       "        [ 1.7949, -0.9164,  0.4727,  ..., -0.0574, -0.0501, -0.0453],\n",
       "        ...,\n",
       "        [-1.3684,  1.8406,  0.3085,  ..., -0.0574, -0.0501, -0.0453],\n",
       "        [-0.0992, -0.4838, -1.9902,  ..., -0.0574, -0.0501, -0.0453],\n",
       "        [ 0.3914,  0.3489, -0.3036,  ..., -0.0574, -0.0501, -0.0453]])"
      ]
     },
     "execution_count": 43,
     "metadata": {},
     "output_type": "execute_result"
    }
   ],
   "source": [
    "torch.tensor(train_X, dtype=torch.float32)"
   ]
  },
  {
   "cell_type": "code",
   "execution_count": null,
   "metadata": {},
   "outputs": [
    {
     "name": "stderr",
     "output_type": "stream",
     "text": [
      "/tmp/ipykernel_747953/2990160709.py:1: UserWarning: To copy construct from a tensor, it is recommended to use sourceTensor.clone().detach() or sourceTensor.clone().detach().requires_grad_(True), rather than torch.tensor(sourceTensor).\n",
      "  trainset = TensorDataset(torch.tensor(train_X, dtype=torch.float32), torch.tensor(train_y, dtype=torch.float32))\n",
      "/tmp/ipykernel_747953/2990160709.py:2: UserWarning: To copy construct from a tensor, it is recommended to use sourceTensor.clone().detach() or sourceTensor.clone().detach().requires_grad_(True), rather than torch.tensor(sourceTensor).\n",
      "  testset = TensorDataset(torch.tensor(test_X, dtype=torch.float32), torch.tensor(test_y, dtype=torch.float32))\n"
     ]
    }
   ],
   "source": [
    "trainset = TensorDataset(torch.tensor(train_X, dtype=torch.float32), train_y)\n",
    "testset = TensorDataset(torch.tensor(test_X, dtype=torch.float32), test_y)"
   ]
  },
  {
   "cell_type": "code",
   "execution_count": 45,
   "metadata": {},
   "outputs": [
    {
     "name": "stderr",
     "output_type": "stream",
     "text": [
      "/tmp/ipykernel_747953/205104358.py:2: UserWarning: To copy construct from a tensor, it is recommended to use sourceTensor.clone().detach() or sourceTensor.clone().detach().requires_grad_(True), rather than torch.tensor(sourceTensor).\n",
      "  torch.tensor(train_y, dtype=torch.long, device='cpu'))\n",
      "/tmp/ipykernel_747953/205104358.py:4: UserWarning: To copy construct from a tensor, it is recommended to use sourceTensor.clone().detach() or sourceTensor.clone().detach().requires_grad_(True), rather than torch.tensor(sourceTensor).\n",
      "  torch.tensor(test_y, dtype=torch.long, device='cpu'))\n"
     ]
    }
   ],
   "source": [
    "trainset = TensorDataset(torch.tensor(train_X, dtype=torch.float32, device='cpu'),\n",
    "                         torch.tensor(train_y, dtype=torch.long, device='cpu'))\n",
    "testset = TensorDataset(torch.tensor(test_X, dtype=torch.float32, device='cpu'),\n",
    "                        torch.tensor(test_y, dtype=torch.long, device='cpu'))"
   ]
  },
  {
   "cell_type": "code",
   "execution_count": 46,
   "metadata": {},
   "outputs": [],
   "source": [
    "# Create TensorDatasets and DataLoaders\n",
    "batch_size = 64\n",
    "\n",
    "train_y = np.array(train['EventType']).reshape(-1, 1).flatten()\n",
    "trainset = TensorDataset(torch.tensor(train_X, dtype=torch.float32),\n",
    "                         torch.tensor(train_y, dtype=torch.float32))  # Use float32 for BCELoss"
   ]
  },
  {
   "cell_type": "code",
   "execution_count": 47,
   "metadata": {},
   "outputs": [],
   "source": [
    "train_loader = DataLoader(trainset, batch_size=batch_size, shuffle=True)\n",
    "test_loader = DataLoader(testset, batch_size=batch_size, shuffle=False)"
   ]
  },
  {
   "cell_type": "code",
   "execution_count": 48,
   "metadata": {},
   "outputs": [],
   "source": [
    "class NNModel(nn.Module):\n",
    "    def __init__(self, input_dim, hidden_dims, output_dim, dropouts):\n",
    "        super().__init__()\n",
    "        assert len(hidden_dims) == len(dropouts)\n",
    "        self.layers = nn.ModuleList()\n",
    "        in_dim = input_dim\n",
    "        for hidden_dim, dropout in zip(hidden_dims, dropouts):\n",
    "            self.layers.append(nn.Linear(in_dim, hidden_dim))\n",
    "            self.layers.append(nn.ReLU())\n",
    "            self.layers.append(nn.BatchNorm1d(hidden_dim))\n",
    "            self.layers.append(nn.Dropout(dropout))\n",
    "            in_dim = hidden_dim\n",
    "        self.output_layer = nn.Linear(in_dim, output_dim)\n",
    "    def forward(self, x):\n",
    "        for layer in self.layers:\n",
    "            x = layer(x)\n",
    "        x = self.output_layer(x)\n",
    "        return torch.sigmoid(x)\n"
   ]
  },
  {
   "cell_type": "code",
   "execution_count": 49,
   "metadata": {},
   "outputs": [],
   "source": [
    "def train_model(model, train_loader, test_loader, optimizer, criterion, device, num_epochs=10, scheduler=None):\n",
    "    history = {'train_loss': [], 'val_loss': [], 'val_accuracy': []}\n",
    "    for epoch in range(num_epochs):\n",
    "        # Scheduler\n",
    "        if scheduler:\n",
    "            scheduler.step()\n",
    "        # Training\n",
    "        model.train()\n",
    "        train_loss = 0.0\n",
    "        for inputs, labels in train_loader:\n",
    "            inputs, labels = inputs.to(device), labels.to(device)\n",
    "            optimizer.zero_grad()\n",
    "            outputs = model(inputs)\n",
    "            loss = criterion(outputs, labels)\n",
    "            loss.backward()\n",
    "            optimizer.step()\n",
    "            train_loss += loss.item()\n",
    "        # Validation\n",
    "        model.eval()\n",
    "        val_loss = 0.0\n",
    "        correct = 0\n",
    "        total = 0\n",
    "        with torch.no_grad():\n",
    "            for inputs, labels in test_loader:\n",
    "                inputs, labels = inputs.to(device), labels.to(device)\n",
    "                outputs = model(inputs)\n",
    "                val_loss += criterion(outputs, labels).item()\n",
    "                predicted = (outputs > 0.5).float()\n",
    "                correct += (predicted == labels).sum().item()\n",
    "                total += labels.size(0)\n",
    "        val_accuracy = correct / total\n",
    "        history['train_loss'].append(train_loss / len(train_loader))\n",
    "        history['val_loss'].append(val_loss / len(test_loader))\n",
    "        history['val_accuracy'].append(val_accuracy)\n",
    "\n",
    "        print(f\"Epoch {epoch+1}/{num_epochs}, Train Loss: {train_loss/len(train_loader):.4f}, \"\n",
    "              f\"Val Loss: {val_loss/len(test_loader):.4f}, Val Accuracy: {val_accuracy:.4f}\")\n",
    "\n",
    "    return history"
   ]
  },
  {
   "cell_type": "code",
   "execution_count": 50,
   "metadata": {},
   "outputs": [],
   "source": [
    "def plot_history(history):\n",
    "    plt.figure(figsize=(12, 4))\n",
    "    plt.subplot(1, 2, 1)\n",
    "    plt.plot(history['train_loss'], label='Train Loss')\n",
    "    plt.plot(history['val_loss'], label='Val Loss')\n",
    "    plt.legend()\n",
    "    plt.title('Loss')\n",
    "\n",
    "    plt.subplot(1, 2, 2)\n",
    "    plt.plot(history['val_accuracy'], label='Val Accuracy')\n",
    "    plt.legend()\n",
    "    plt.title('Accuracy')\n",
    "    plt.show()"
   ]
  },
  {
   "cell_type": "code",
   "execution_count": 51,
   "metadata": {},
   "outputs": [
    {
     "ename": "ValueError",
     "evalue": "Using a target size (torch.Size([64])) that is different to the input size (torch.Size([64, 1])) is deprecated. Please ensure they have the same size.",
     "output_type": "error",
     "traceback": [
      "\u001b[0;31m---------------------------------------------------------------------------\u001b[0m",
      "\u001b[0;31mValueError\u001b[0m                                Traceback (most recent call last)",
      "Cell \u001b[0;32mIn[51], line 16\u001b[0m\n\u001b[1;32m     13\u001b[0m optimizer \u001b[38;5;241m=\u001b[39m torch\u001b[38;5;241m.\u001b[39moptim\u001b[38;5;241m.\u001b[39mAdam(model\u001b[38;5;241m.\u001b[39mparameters(), lr\u001b[38;5;241m=\u001b[39m\u001b[38;5;241m0.001\u001b[39m, weight_decay\u001b[38;5;241m=\u001b[39m\u001b[38;5;241m1e-5\u001b[39m)\n\u001b[1;32m     15\u001b[0m \u001b[38;5;66;03m# Train the model\u001b[39;00m\n\u001b[0;32m---> 16\u001b[0m history \u001b[38;5;241m=\u001b[39m \u001b[43mtrain_model\u001b[49m\u001b[43m(\u001b[49m\u001b[43mmodel\u001b[49m\u001b[43m,\u001b[49m\u001b[43m \u001b[49m\u001b[43mtrain_loader\u001b[49m\u001b[43m,\u001b[49m\u001b[43m \u001b[49m\u001b[43mtest_loader\u001b[49m\u001b[43m,\u001b[49m\u001b[43m \u001b[49m\u001b[43moptimizer\u001b[49m\u001b[43m,\u001b[49m\u001b[43m \u001b[49m\u001b[43mcriterion\u001b[49m\u001b[43m,\u001b[49m\u001b[43m \u001b[49m\u001b[43mdevice\u001b[49m\u001b[43m)\u001b[49m\n\u001b[1;32m     18\u001b[0m \u001b[38;5;66;03m# Plot training history\u001b[39;00m\n\u001b[1;32m     19\u001b[0m plot_history(history)\n",
      "Cell \u001b[0;32mIn[49], line 14\u001b[0m, in \u001b[0;36mtrain_model\u001b[0;34m(model, train_loader, test_loader, optimizer, criterion, device, num_epochs, scheduler)\u001b[0m\n\u001b[1;32m     12\u001b[0m optimizer\u001b[38;5;241m.\u001b[39mzero_grad()\n\u001b[1;32m     13\u001b[0m outputs \u001b[38;5;241m=\u001b[39m model(inputs)\n\u001b[0;32m---> 14\u001b[0m loss \u001b[38;5;241m=\u001b[39m \u001b[43mcriterion\u001b[49m\u001b[43m(\u001b[49m\u001b[43moutputs\u001b[49m\u001b[43m,\u001b[49m\u001b[43m \u001b[49m\u001b[43mlabels\u001b[49m\u001b[43m)\u001b[49m\n\u001b[1;32m     15\u001b[0m loss\u001b[38;5;241m.\u001b[39mbackward()\n\u001b[1;32m     16\u001b[0m optimizer\u001b[38;5;241m.\u001b[39mstep()\n",
      "File \u001b[0;32m~/miniconda3/envs/inf554bis/lib/python3.11/site-packages/torch/nn/modules/module.py:1511\u001b[0m, in \u001b[0;36mModule._wrapped_call_impl\u001b[0;34m(self, *args, **kwargs)\u001b[0m\n\u001b[1;32m   1509\u001b[0m     \u001b[38;5;28;01mreturn\u001b[39;00m \u001b[38;5;28mself\u001b[39m\u001b[38;5;241m.\u001b[39m_compiled_call_impl(\u001b[38;5;241m*\u001b[39margs, \u001b[38;5;241m*\u001b[39m\u001b[38;5;241m*\u001b[39mkwargs)  \u001b[38;5;66;03m# type: ignore[misc]\u001b[39;00m\n\u001b[1;32m   1510\u001b[0m \u001b[38;5;28;01melse\u001b[39;00m:\n\u001b[0;32m-> 1511\u001b[0m     \u001b[38;5;28;01mreturn\u001b[39;00m \u001b[38;5;28;43mself\u001b[39;49m\u001b[38;5;241;43m.\u001b[39;49m\u001b[43m_call_impl\u001b[49m\u001b[43m(\u001b[49m\u001b[38;5;241;43m*\u001b[39;49m\u001b[43margs\u001b[49m\u001b[43m,\u001b[49m\u001b[43m \u001b[49m\u001b[38;5;241;43m*\u001b[39;49m\u001b[38;5;241;43m*\u001b[39;49m\u001b[43mkwargs\u001b[49m\u001b[43m)\u001b[49m\n",
      "File \u001b[0;32m~/miniconda3/envs/inf554bis/lib/python3.11/site-packages/torch/nn/modules/module.py:1520\u001b[0m, in \u001b[0;36mModule._call_impl\u001b[0;34m(self, *args, **kwargs)\u001b[0m\n\u001b[1;32m   1515\u001b[0m \u001b[38;5;66;03m# If we don't have any hooks, we want to skip the rest of the logic in\u001b[39;00m\n\u001b[1;32m   1516\u001b[0m \u001b[38;5;66;03m# this function, and just call forward.\u001b[39;00m\n\u001b[1;32m   1517\u001b[0m \u001b[38;5;28;01mif\u001b[39;00m \u001b[38;5;129;01mnot\u001b[39;00m (\u001b[38;5;28mself\u001b[39m\u001b[38;5;241m.\u001b[39m_backward_hooks \u001b[38;5;129;01mor\u001b[39;00m \u001b[38;5;28mself\u001b[39m\u001b[38;5;241m.\u001b[39m_backward_pre_hooks \u001b[38;5;129;01mor\u001b[39;00m \u001b[38;5;28mself\u001b[39m\u001b[38;5;241m.\u001b[39m_forward_hooks \u001b[38;5;129;01mor\u001b[39;00m \u001b[38;5;28mself\u001b[39m\u001b[38;5;241m.\u001b[39m_forward_pre_hooks\n\u001b[1;32m   1518\u001b[0m         \u001b[38;5;129;01mor\u001b[39;00m _global_backward_pre_hooks \u001b[38;5;129;01mor\u001b[39;00m _global_backward_hooks\n\u001b[1;32m   1519\u001b[0m         \u001b[38;5;129;01mor\u001b[39;00m _global_forward_hooks \u001b[38;5;129;01mor\u001b[39;00m _global_forward_pre_hooks):\n\u001b[0;32m-> 1520\u001b[0m     \u001b[38;5;28;01mreturn\u001b[39;00m \u001b[43mforward_call\u001b[49m\u001b[43m(\u001b[49m\u001b[38;5;241;43m*\u001b[39;49m\u001b[43margs\u001b[49m\u001b[43m,\u001b[49m\u001b[43m \u001b[49m\u001b[38;5;241;43m*\u001b[39;49m\u001b[38;5;241;43m*\u001b[39;49m\u001b[43mkwargs\u001b[49m\u001b[43m)\u001b[49m\n\u001b[1;32m   1522\u001b[0m \u001b[38;5;28;01mtry\u001b[39;00m:\n\u001b[1;32m   1523\u001b[0m     result \u001b[38;5;241m=\u001b[39m \u001b[38;5;28;01mNone\u001b[39;00m\n",
      "File \u001b[0;32m~/miniconda3/envs/inf554bis/lib/python3.11/site-packages/torch/nn/modules/loss.py:618\u001b[0m, in \u001b[0;36mBCELoss.forward\u001b[0;34m(self, input, target)\u001b[0m\n\u001b[1;32m    617\u001b[0m \u001b[38;5;28;01mdef\u001b[39;00m \u001b[38;5;21mforward\u001b[39m(\u001b[38;5;28mself\u001b[39m, \u001b[38;5;28minput\u001b[39m: Tensor, target: Tensor) \u001b[38;5;241m-\u001b[39m\u001b[38;5;241m>\u001b[39m Tensor:\n\u001b[0;32m--> 618\u001b[0m     \u001b[38;5;28;01mreturn\u001b[39;00m \u001b[43mF\u001b[49m\u001b[38;5;241;43m.\u001b[39;49m\u001b[43mbinary_cross_entropy\u001b[49m\u001b[43m(\u001b[49m\u001b[38;5;28;43minput\u001b[39;49m\u001b[43m,\u001b[49m\u001b[43m \u001b[49m\u001b[43mtarget\u001b[49m\u001b[43m,\u001b[49m\u001b[43m \u001b[49m\u001b[43mweight\u001b[49m\u001b[38;5;241;43m=\u001b[39;49m\u001b[38;5;28;43mself\u001b[39;49m\u001b[38;5;241;43m.\u001b[39;49m\u001b[43mweight\u001b[49m\u001b[43m,\u001b[49m\u001b[43m \u001b[49m\u001b[43mreduction\u001b[49m\u001b[38;5;241;43m=\u001b[39;49m\u001b[38;5;28;43mself\u001b[39;49m\u001b[38;5;241;43m.\u001b[39;49m\u001b[43mreduction\u001b[49m\u001b[43m)\u001b[49m\n",
      "File \u001b[0;32m~/miniconda3/envs/inf554bis/lib/python3.11/site-packages/torch/nn/functional.py:3118\u001b[0m, in \u001b[0;36mbinary_cross_entropy\u001b[0;34m(input, target, weight, size_average, reduce, reduction)\u001b[0m\n\u001b[1;32m   3116\u001b[0m     reduction_enum \u001b[38;5;241m=\u001b[39m _Reduction\u001b[38;5;241m.\u001b[39mget_enum(reduction)\n\u001b[1;32m   3117\u001b[0m \u001b[38;5;28;01mif\u001b[39;00m target\u001b[38;5;241m.\u001b[39msize() \u001b[38;5;241m!=\u001b[39m \u001b[38;5;28minput\u001b[39m\u001b[38;5;241m.\u001b[39msize():\n\u001b[0;32m-> 3118\u001b[0m     \u001b[38;5;28;01mraise\u001b[39;00m \u001b[38;5;167;01mValueError\u001b[39;00m(\n\u001b[1;32m   3119\u001b[0m         \u001b[38;5;124m\"\u001b[39m\u001b[38;5;124mUsing a target size (\u001b[39m\u001b[38;5;132;01m{}\u001b[39;00m\u001b[38;5;124m) that is different to the input size (\u001b[39m\u001b[38;5;132;01m{}\u001b[39;00m\u001b[38;5;124m) is deprecated. \u001b[39m\u001b[38;5;124m\"\u001b[39m\n\u001b[1;32m   3120\u001b[0m         \u001b[38;5;124m\"\u001b[39m\u001b[38;5;124mPlease ensure they have the same size.\u001b[39m\u001b[38;5;124m\"\u001b[39m\u001b[38;5;241m.\u001b[39mformat(target\u001b[38;5;241m.\u001b[39msize(), \u001b[38;5;28minput\u001b[39m\u001b[38;5;241m.\u001b[39msize())\n\u001b[1;32m   3121\u001b[0m     )\n\u001b[1;32m   3123\u001b[0m \u001b[38;5;28;01mif\u001b[39;00m weight \u001b[38;5;129;01mis\u001b[39;00m \u001b[38;5;129;01mnot\u001b[39;00m \u001b[38;5;28;01mNone\u001b[39;00m:\n\u001b[1;32m   3124\u001b[0m     new_size \u001b[38;5;241m=\u001b[39m _infer_size(target\u001b[38;5;241m.\u001b[39msize(), weight\u001b[38;5;241m.\u001b[39msize())\n",
      "\u001b[0;31mValueError\u001b[0m: Using a target size (torch.Size([64])) that is different to the input size (torch.Size([64, 1])) is deprecated. Please ensure they have the same size."
     ]
    }
   ],
   "source": [
    "# Hyperparameters\n",
    "input_dim = train_X.shape[1]\n",
    "hidden_dims = [64]\n",
    "dropouts = [0.2]\n",
    "output_dim = 1\n",
    "\n",
    "model = NNModel(input_dim, hidden_dims, output_dim, dropouts)\n",
    "device = torch.device(\"cuda:0\" if torch.cuda.is_available() else \"cpu\")\n",
    "model.to(device)\n",
    "\n",
    "# Loss and optimizer\n",
    "criterion = nn.BCELoss()\n",
    "optimizer = torch.optim.Adam(model.parameters(), lr=0.001, weight_decay=1e-5)\n",
    "\n",
    "# Train the model\n",
    "history = train_model(model, train_loader, test_loader, optimizer, criterion, device)\n",
    "\n",
    "# Plot training history\n",
    "plot_history(history)\n"
   ]
  }
 ],
 "metadata": {
  "kernelspec": {
   "display_name": "inf554bis",
   "language": "python",
   "name": "python3"
  },
  "language_info": {
   "codemirror_mode": {
    "name": "ipython",
    "version": 3
   },
   "file_extension": ".py",
   "mimetype": "text/x-python",
   "name": "python",
   "nbconvert_exporter": "python",
   "pygments_lexer": "ipython3",
   "version": "3.11.10"
  }
 },
 "nbformat": 4,
 "nbformat_minor": 2
}
