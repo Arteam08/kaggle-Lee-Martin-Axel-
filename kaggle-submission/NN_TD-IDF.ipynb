{
 "cells": [
  {
   "cell_type": "code",
   "execution_count": 1,
   "metadata": {},
   "outputs": [],
   "source": [
    "import matplotlib.pyplot as plt\n",
    "import pandas as pd\n",
    "import numpy as np\n",
    "from sklearn.model_selection import train_test_split\n",
    "from sklearn.preprocessing import StandardScaler\n",
    "import torch\n",
    "from torch.utils.data import DataLoader, TensorDataset\n",
    "import torch.nn as nn\n",
    "from time import time\n",
    "from sklearn.ensemble import RandomForestClassifier\n",
    "from xgboost import XGBClassifier\n",
    "from sklearn.svm import SVC\n",
    "from sklearn.model_selection import train_test_split\n",
    "from sklearn.metrics import accuracy_score\n",
    "from sklearn.linear_model import LogisticRegression\n",
    "from sklearn.feature_extraction.text import TfidfVectorizer"
   ]
  },
  {
   "cell_type": "code",
   "execution_count": 2,
   "metadata": {},
   "outputs": [],
   "source": [
    "import torch\n",
    "import numpy as np\n",
    "import random"
   ]
  },
  {
   "cell_type": "markdown",
   "metadata": {},
   "source": [
    "## Concatenation of tweets"
   ]
  },
  {
   "cell_type": "code",
   "execution_count": 3,
   "metadata": {},
   "outputs": [],
   "source": [
    "def concat_tweets(df, MAX_SUBGROUP=150, event_type=True):\n",
    "    \"\"\"\n",
    "    For each group of tweets with the same ID/MatchID/PeriodID/EventType,\n",
    "    We create `MAX_SUBGROUP` subgroups of tweets by concatenating them.\n",
    "    Therefore if `MAX_SUBGROUP` = 1, we have 1 tweet per ID/MatchID/PeriodID/EventType\n",
    "    If `MAX_SUBGROUP` = +inf, we have all the tweets in different subgroups.\n",
    "    \"\"\"\n",
    "\n",
    "    ### Grouping tweets who have same timestamp by concatenating them\n",
    "    df[\"random_id\"] = np.random.randint(0, MAX_SUBGROUP, len(df))\n",
    "    if event_type:\n",
    "        df_bis = df.groupby(['ID', \"MatchID\", \"PeriodID\", \"EventType\", \"random_id\"])['Tweet'].apply(lambda x: ' '.join(x)).reset_index().drop(columns='random_id')\n",
    "    else:\n",
    "        df_bis = df.groupby(['ID', \"MatchID\", \"PeriodID\", \"random_id\"])['Tweet'].apply(lambda x: ' '.join(x)).reset_index().drop(columns='random_id')\n",
    "    df_bis = df_bis.sample(frac=1).reset_index(drop=True)\n",
    "    return df_bis"
   ]
  },
  {
   "cell_type": "markdown",
   "metadata": {},
   "source": [
    "## Load Prepocessed Data"
   ]
  },
  {
   "cell_type": "code",
   "execution_count": 4,
   "metadata": {},
   "outputs": [
    {
     "name": "stdout",
     "output_type": "stream",
     "text": [
      "Grouping tweets...\n",
      "Tweets grouped in 0.79 seconds\n",
      "--------------------------------------------------\n",
      "\n"
     ]
    }
   ],
   "source": [
    "# Load training and evaluation datasets from CSV files\n",
    "df_train = pd.read_csv(\"df_train_withoutstemming.csv\")\n",
    "df_eval = pd.read_csv(\"df_eval_withoutstemming.csv\")\n",
    "\n",
    "# Ensure the 'Tweet' column is of string type\n",
    "df_train['Tweet'] = df_train['Tweet'].astype(str)\n",
    "df_eval['Tweet'] = df_eval['Tweet'].astype(str)\n",
    "\n",
    "# Remove rows with null or empty 'Tweet' values\n",
    "df_train = df_train[df_train[\"Tweet\"].notnull()]\n",
    "df_train = df_train[df_train[\"Tweet\"].str.strip() != \"\"]\n",
    "df_eval = df_eval[df_eval[\"Tweet\"].notnull()]\n",
    "df_eval = df_eval[df_eval[\"Tweet\"].str.strip() != \"\"]\n",
    "\n",
    "# Drop duplicate rows\n",
    "df_train = df_train.drop_duplicates()\n",
    "df_eval = df_eval.drop_duplicates()\n",
    "\n",
    "# Grouping\n",
    "Group_train = 10\n",
    "Group_eval = 10\n",
    "print(\"Grouping tweets...\")\n",
    "t = time()\n",
    "df_train_bis = concat_tweets(df_train, MAX_SUBGROUP=Group_train, event_type=True)\n",
    "df_eval_bis = concat_tweets(df_eval, MAX_SUBGROUP=Group_eval, event_type=False)\n",
    "print(f\"Tweets grouped in {time()-t:.2f} seconds\")\n",
    "print(\"-\"*50+\"\\n\")"
   ]
  },
  {
   "cell_type": "markdown",
   "metadata": {},
   "source": [
    "## Splitting Data"
   ]
  },
  {
   "cell_type": "code",
   "execution_count": 5,
   "metadata": {},
   "outputs": [
    {
     "name": "stdout",
     "output_type": "stream",
     "text": [
      "Splitting data...\n",
      "Data splitted in 0.00 seconds\n",
      "--------------------------------------------------\n",
      "\n"
     ]
    }
   ],
   "source": [
    "print(\"Splitting data...\")\n",
    "t = time()\n",
    "\n",
    "train, test = train_test_split(df_train_bis, test_size=0.01, random_state=42)\n",
    "\n",
    "print(f\"Data splitted in {time()-t:.2f} seconds\")\n",
    "print(\"-\"*50+\"\\n\")"
   ]
  },
  {
   "cell_type": "markdown",
   "metadata": {},
   "source": [
    "# Embedding"
   ]
  },
  {
   "cell_type": "code",
   "execution_count": 6,
   "metadata": {},
   "outputs": [],
   "source": [
    "def fit_tfidf_embedding(train_tweets, max_features=2000, ngram_range=(1,1), max_df=0.7, min_df=2, sublinear_tf=False):\n",
    "    \"\"\"\n",
    "    Fit a TF-IDF vectorizer on the training tweets.\n",
    "    Returns the fitted vectorizer.\n",
    "    \"\"\"\n",
    "    vectorizer = TfidfVectorizer(max_features=max_features,\n",
    "                                 max_df=max_df,\n",
    "                                 ngram_range=ngram_range,\n",
    "                                 min_df=min_df,\n",
    "                                 sublinear_tf=sublinear_tf)\n",
    "    vectorizer.fit(train_tweets)\n",
    "    return vectorizer\n",
    "\n",
    "def tfidf_embedding(tweets, vectorizer):\n",
    "    \"\"\"\n",
    "    Transform tweets into TF-IDF features using a fitted vectorizer.\n",
    "    \"\"\"\n",
    "    return vectorizer.transform(tweets).toarray()"
   ]
  },
  {
   "cell_type": "code",
   "execution_count": 7,
   "metadata": {},
   "outputs": [
    {
     "name": "stdout",
     "output_type": "stream",
     "text": [
      "Embedding...\n",
      "Data embedded in 10.34 seconds\n",
      "--------------------------------------------------\n",
      "\n"
     ]
    }
   ],
   "source": [
    "embedding_dim = 2000\n",
    "\n",
    "print(\"Embedding...\")\n",
    "t = time()\n",
    "\n",
    "# Fit on training data\n",
    "vectorizer = fit_tfidf_embedding(train['Tweet'], max_features=embedding_dim)\n",
    "\n",
    "# Transform data\n",
    "train_X = tfidf_embedding(train['Tweet'], vectorizer)\n",
    "test_X = tfidf_embedding(test['Tweet'], vectorizer)\n",
    "\n",
    "print(f\"Data embedded in {time()-t:.2f} seconds\")\n",
    "print(\"-\"*50+\"\\n\")"
   ]
  },
  {
   "cell_type": "markdown",
   "metadata": {},
   "source": [
    "## Create Dataset"
   ]
  },
  {
   "cell_type": "code",
   "execution_count": 8,
   "metadata": {},
   "outputs": [],
   "source": [
    "def create_sets(train, test, train_X, test_X, batch_size = 64):\n",
    "    # Scale the data\n",
    "    scaler = StandardScaler()\n",
    "    scaler.fit(train_X)\n",
    "    train_X = scaler.transform(train_X)\n",
    "    test_X = scaler.transform(test_X)\n",
    "    # Labels\n",
    "    train_y = np.array(train['EventType']).reshape(-1, 1).flatten()\n",
    "    test_y = np.array(test['EventType']).reshape(-1, 1).flatten()\n",
    "    train_y = torch.tensor(train_y, dtype=torch.float32).view(-1, 1)\n",
    "    test_y = torch.tensor(test_y, dtype=torch.float32).view(-1, 1)\n",
    "\n",
    "    trainset = TensorDataset(torch.tensor(train_X, dtype=torch.float32), train_y)\n",
    "    testset = TensorDataset(torch.tensor(test_X, dtype=torch.float32), test_y)\n",
    "\n",
    "    train_loader = DataLoader(trainset, batch_size=batch_size, shuffle=True)\n",
    "    test_loader = DataLoader(testset, batch_size=batch_size, shuffle=False)\n",
    "\n",
    "    return train_loader, test_loader, scaler"
   ]
  },
  {
   "cell_type": "code",
   "execution_count": 9,
   "metadata": {},
   "outputs": [
    {
     "name": "stdout",
     "output_type": "stream",
     "text": [
      "Creating the datasets...\n",
      "Datasets created in 0.28 seconds\n",
      "--------------------------------------------------\n",
      "\n"
     ]
    }
   ],
   "source": [
    "print(\"Creating the datasets...\")\n",
    "t = time()\n",
    "\n",
    "train_loader, test_loader, scaler = create_sets(train, test, train_X, test_X)\n",
    "\n",
    "print(f\"Datasets created in {time()-t:.2f} seconds\")\n",
    "print(\"-\"*50+\"\\n\")"
   ]
  },
  {
   "cell_type": "markdown",
   "metadata": {},
   "source": [
    "## Training with NN"
   ]
  },
  {
   "cell_type": "code",
   "execution_count": null,
   "metadata": {},
   "outputs": [],
   "source": [
    "class NNModel(nn.Module):\n",
    "    def __init__(self, input_dim, hidden_dims, output_dim, dropouts):\n",
    "        super().__init__()\n",
    "        assert len(hidden_dims) == len(dropouts)\n",
    "        self.layers = nn.ModuleList()\n",
    "        in_dim = input_dim\n",
    "        for hidden_dim, dropout in zip(hidden_dims, dropouts):\n",
    "            self.layers.append(nn.Linear(in_dim, hidden_dim))\n",
    "            self.layers.append(nn.ReLU())\n",
    "            self.layers.append(nn.BatchNorm1d(hidden_dim))\n",
    "            self.layers.append(nn.Dropout(dropout))\n",
    "            in_dim = hidden_dim\n",
    "        self.output_layer = nn.Linear(in_dim, output_dim)\n",
    "    def forward(self, x):\n",
    "        for layer in self.layers:\n",
    "            x = layer(x)\n",
    "        x = self.output_layer(x)\n",
    "        return torch.sigmoid(x)"
   ]
  },
  {
   "cell_type": "code",
   "execution_count": null,
   "metadata": {},
   "outputs": [],
   "source": [
    "def train_model(model, train_loader, test_loader, optimizer, criterion, device, num_epochs=10, scheduler=None, weight_1_0=0.5):\n",
    "    history = {'train_loss': [], 'val_loss': [], 'val_accuracy': []}\n",
    "    for epoch in range(num_epochs):\n",
    "        # Training\n",
    "        model.train()\n",
    "        train_loss = 0.0\n",
    "        for inputs, labels in train_loader:\n",
    "            inputs, labels = inputs.to(device), labels.to(device)\n",
    "            optimizer.zero_grad()\n",
    "            outputs = model(inputs)\n",
    "            loss = criterion(outputs, labels)\n",
    "            loss.backward()\n",
    "            optimizer.step()\n",
    "            train_loss += loss.item()\n",
    "        # Validation\n",
    "        model.eval()\n",
    "        val_loss = 0.0\n",
    "        correct = 0\n",
    "        total = 0\n",
    "        with torch.no_grad():\n",
    "            for inputs, labels in test_loader:\n",
    "                inputs, labels = inputs.to(device), labels.to(device)\n",
    "                outputs = model(inputs)\n",
    "                val_loss += criterion(outputs, labels).item()\n",
    "                predicted = (outputs > weight_1_0).float()\n",
    "                correct += (predicted == labels).sum().item()\n",
    "                total += labels.size(0)\n",
    "        val_accuracy = correct / total\n",
    "        history['train_loss'].append(train_loss / len(train_loader))\n",
    "        history['val_loss'].append(val_loss / len(test_loader))\n",
    "        history['val_accuracy'].append(val_accuracy)\n",
    "        # Scheduler\n",
    "        if scheduler:\n",
    "            scheduler.step(val_loss / len(test_loader))\n",
    "\n",
    "        print(f\"Epoch {epoch+1}/{num_epochs}, Train Loss: {train_loss/len(train_loader):.4f}, \"\n",
    "              f\"Val Loss: {val_loss/len(test_loader):.4f}, Val Accuracy: {val_accuracy:.4f}\")\n",
    "\n",
    "    return history"
   ]
  },
  {
   "cell_type": "code",
   "execution_count": 12,
   "metadata": {},
   "outputs": [],
   "source": [
    "def plot_history(history):\n",
    "    plt.figure(figsize=(12, 4))\n",
    "    plt.subplot(1, 2, 1)\n",
    "    plt.plot(history['train_loss'], label='Train Loss')\n",
    "    plt.plot(history['val_loss'], label='Val Loss')\n",
    "    plt.legend()\n",
    "    plt.title('Loss')\n",
    "\n",
    "    plt.subplot(1, 2, 2)\n",
    "    plt.plot(history['val_accuracy'], label='Val Accuracy')\n",
    "    plt.legend()\n",
    "    plt.title('Accuracy')\n",
    "    plt.show()"
   ]
  },
  {
   "cell_type": "code",
   "execution_count": null,
   "metadata": {},
   "outputs": [],
   "source": [
    "# Hyperparameters\n",
    "output_dim = 1\n",
    "input_dim = embedding_dim\n",
    "weight_1_0 = 0.55\n",
    "hidden_dims = [embedding_dim*3,embedding_dim//20, embedding_dim//10]\n",
    "dropouts = [0.95] * len(hidden_dims)\n",
    "epochs = 20\n",
    "lr = 0.001\n",
    "decay = 1e-5"
   ]
  },
  {
   "cell_type": "code",
   "execution_count": null,
   "metadata": {},
   "outputs": [
    {
     "name": "stderr",
     "output_type": "stream",
     "text": [
      "/users/eleves-a/2022/lee.kadz/miniconda3/envs/inf554/lib/python3.11/site-packages/tqdm/auto.py:21: TqdmWarning: IProgress not found. Please update jupyter and ipywidgets. See https://ipywidgets.readthedocs.io/en/stable/user_install.html\n",
      "  from .autonotebook import tqdm as notebook_tqdm\n"
     ]
    }
   ],
   "source": [
    "# Model\n",
    "model = NNModel(input_dim, hidden_dims, output_dim, dropouts)\n",
    "device = torch.device(\"cuda:0\" if torch.cuda.is_available() else \"cpu\")\n",
    "model.to(device)\n",
    "# Loss and optimizer\n",
    "criterion = nn.BCELoss()\n",
    "optimizer = torch.optim.Adam(model.parameters(), lr=lr, weight_decay=decay)\n",
    "scheduler = None"
   ]
  },
  {
   "cell_type": "code",
   "execution_count": 15,
   "metadata": {},
   "outputs": [
    {
     "name": "stdout",
     "output_type": "stream",
     "text": [
      "Training the model...\n",
      "Epoch 1/100, Train Loss: 0.8150, Val Loss: 0.6835, Val Accuracy: 0.5888\n",
      "Epoch 2/100, Train Loss: 0.7032, Val Loss: 0.6831, Val Accuracy: 0.6215\n",
      "Epoch 3/100, Train Loss: 0.6997, Val Loss: 0.6777, Val Accuracy: 0.6355\n",
      "Epoch 4/100, Train Loss: 0.6978, Val Loss: 0.6738, Val Accuracy: 0.6495\n",
      "Epoch 5/100, Train Loss: 0.6922, Val Loss: 0.6688, Val Accuracy: 0.6402\n",
      "Epoch 6/100, Train Loss: 0.6899, Val Loss: 0.6585, Val Accuracy: 0.6495\n",
      "Epoch 7/100, Train Loss: 0.6811, Val Loss: 0.6389, Val Accuracy: 0.6589\n",
      "Epoch 8/100, Train Loss: 0.6692, Val Loss: 0.6236, Val Accuracy: 0.7009\n",
      "Epoch 9/100, Train Loss: 0.6506, Val Loss: 0.5870, Val Accuracy: 0.7103\n",
      "Epoch 10/100, Train Loss: 0.6300, Val Loss: 0.5462, Val Accuracy: 0.7477\n",
      "Epoch 11/100, Train Loss: 0.6106, Val Loss: 0.5243, Val Accuracy: 0.7617\n",
      "Epoch 12/100, Train Loss: 0.5963, Val Loss: 0.5135, Val Accuracy: 0.7617\n",
      "Epoch 13/100, Train Loss: 0.5822, Val Loss: 0.5041, Val Accuracy: 0.7710\n",
      "Epoch 14/100, Train Loss: 0.5678, Val Loss: 0.4863, Val Accuracy: 0.7757\n",
      "Epoch 15/100, Train Loss: 0.5544, Val Loss: 0.4744, Val Accuracy: 0.7804\n",
      "Epoch 16/100, Train Loss: 0.5449, Val Loss: 0.4771, Val Accuracy: 0.7617\n",
      "Epoch 17/100, Train Loss: 0.5374, Val Loss: 0.4703, Val Accuracy: 0.7804\n",
      "Epoch 18/100, Train Loss: 0.5247, Val Loss: 0.4546, Val Accuracy: 0.7944\n",
      "Epoch 19/100, Train Loss: 0.5233, Val Loss: 0.4474, Val Accuracy: 0.7991\n",
      "Epoch 20/100, Train Loss: 0.5144, Val Loss: 0.4404, Val Accuracy: 0.7944\n",
      "Epoch 21/100, Train Loss: 0.5063, Val Loss: 0.4275, Val Accuracy: 0.8037\n",
      "Epoch 22/100, Train Loss: 0.5021, Val Loss: 0.4247, Val Accuracy: 0.8178\n",
      "Epoch 23/100, Train Loss: 0.4994, Val Loss: 0.4394, Val Accuracy: 0.8084\n",
      "Epoch 24/100, Train Loss: 0.4919, Val Loss: 0.4289, Val Accuracy: 0.7897\n",
      "Epoch 25/100, Train Loss: 0.4844, Val Loss: 0.4266, Val Accuracy: 0.7944\n",
      "Epoch 26/100, Train Loss: 0.4824, Val Loss: 0.4334, Val Accuracy: 0.7944\n",
      "Epoch 27/100, Train Loss: 0.4799, Val Loss: 0.4194, Val Accuracy: 0.7850\n",
      "Epoch 28/100, Train Loss: 0.4753, Val Loss: 0.4132, Val Accuracy: 0.8131\n",
      "Epoch 29/100, Train Loss: 0.4751, Val Loss: 0.4221, Val Accuracy: 0.7944\n",
      "Epoch 30/100, Train Loss: 0.4678, Val Loss: 0.4262, Val Accuracy: 0.7897\n",
      "Epoch 31/100, Train Loss: 0.4664, Val Loss: 0.4246, Val Accuracy: 0.7991\n",
      "Epoch 32/100, Train Loss: 0.4629, Val Loss: 0.4161, Val Accuracy: 0.7944\n",
      "Epoch 33/100, Train Loss: 0.4603, Val Loss: 0.4150, Val Accuracy: 0.7850\n",
      "Epoch 34/100, Train Loss: 0.4532, Val Loss: 0.4154, Val Accuracy: 0.7944\n",
      "Epoch 35/100, Train Loss: 0.4521, Val Loss: 0.4092, Val Accuracy: 0.7944\n",
      "Epoch 36/100, Train Loss: 0.4475, Val Loss: 0.4150, Val Accuracy: 0.7944\n",
      "Epoch 37/100, Train Loss: 0.4471, Val Loss: 0.4198, Val Accuracy: 0.7944\n",
      "Epoch 38/100, Train Loss: 0.4453, Val Loss: 0.4082, Val Accuracy: 0.8037\n",
      "Epoch 39/100, Train Loss: 0.4381, Val Loss: 0.4083, Val Accuracy: 0.7897\n",
      "Epoch 40/100, Train Loss: 0.4396, Val Loss: 0.4102, Val Accuracy: 0.7991\n",
      "Epoch 41/100, Train Loss: 0.4367, Val Loss: 0.4155, Val Accuracy: 0.8037\n",
      "Epoch 42/100, Train Loss: 0.4338, Val Loss: 0.4134, Val Accuracy: 0.7757\n",
      "Epoch 43/100, Train Loss: 0.4350, Val Loss: 0.4074, Val Accuracy: 0.8037\n",
      "Epoch 44/100, Train Loss: 0.4321, Val Loss: 0.4038, Val Accuracy: 0.8037\n",
      "Epoch 45/100, Train Loss: 0.4306, Val Loss: 0.4120, Val Accuracy: 0.8131\n",
      "Epoch 46/100, Train Loss: 0.4239, Val Loss: 0.4019, Val Accuracy: 0.8178\n",
      "Epoch 47/100, Train Loss: 0.4259, Val Loss: 0.4061, Val Accuracy: 0.8178\n",
      "Epoch 48/100, Train Loss: 0.4245, Val Loss: 0.4080, Val Accuracy: 0.8084\n",
      "Epoch 49/100, Train Loss: 0.4181, Val Loss: 0.4137, Val Accuracy: 0.8131\n",
      "Epoch 50/100, Train Loss: 0.4146, Val Loss: 0.4101, Val Accuracy: 0.7991\n",
      "Epoch 51/100, Train Loss: 0.4162, Val Loss: 0.4060, Val Accuracy: 0.8084\n",
      "Epoch 52/100, Train Loss: 0.4167, Val Loss: 0.4100, Val Accuracy: 0.8271\n",
      "Epoch 53/100, Train Loss: 0.4118, Val Loss: 0.4183, Val Accuracy: 0.7897\n",
      "Epoch 54/100, Train Loss: 0.4075, Val Loss: 0.4046, Val Accuracy: 0.8224\n",
      "Epoch 55/100, Train Loss: 0.4050, Val Loss: 0.3989, Val Accuracy: 0.8224\n",
      "Epoch 56/100, Train Loss: 0.4082, Val Loss: 0.4044, Val Accuracy: 0.8178\n",
      "Epoch 57/100, Train Loss: 0.3997, Val Loss: 0.3925, Val Accuracy: 0.8271\n",
      "Epoch 58/100, Train Loss: 0.4071, Val Loss: 0.3986, Val Accuracy: 0.8271\n",
      "Epoch 59/100, Train Loss: 0.3972, Val Loss: 0.3949, Val Accuracy: 0.8131\n",
      "Epoch 60/100, Train Loss: 0.4021, Val Loss: 0.4030, Val Accuracy: 0.7897\n",
      "Epoch 61/100, Train Loss: 0.3971, Val Loss: 0.4044, Val Accuracy: 0.7991\n",
      "Epoch 62/100, Train Loss: 0.3998, Val Loss: 0.3944, Val Accuracy: 0.7897\n",
      "Epoch 63/100, Train Loss: 0.3970, Val Loss: 0.3830, Val Accuracy: 0.7991\n",
      "Epoch 64/100, Train Loss: 0.3936, Val Loss: 0.4005, Val Accuracy: 0.8364\n",
      "Epoch 65/100, Train Loss: 0.3914, Val Loss: 0.3848, Val Accuracy: 0.8084\n",
      "Epoch 66/100, Train Loss: 0.3952, Val Loss: 0.3876, Val Accuracy: 0.8084\n",
      "Epoch 67/100, Train Loss: 0.3881, Val Loss: 0.3951, Val Accuracy: 0.8131\n",
      "Epoch 68/100, Train Loss: 0.3927, Val Loss: 0.4064, Val Accuracy: 0.8084\n",
      "Epoch 69/100, Train Loss: 0.3894, Val Loss: 0.4068, Val Accuracy: 0.7991\n",
      "Epoch 70/100, Train Loss: 0.3864, Val Loss: 0.4228, Val Accuracy: 0.8037\n",
      "Epoch 71/100, Train Loss: 0.3827, Val Loss: 0.4083, Val Accuracy: 0.8084\n",
      "Epoch 72/100, Train Loss: 0.3872, Val Loss: 0.3901, Val Accuracy: 0.8131\n",
      "Epoch 73/100, Train Loss: 0.3796, Val Loss: 0.4004, Val Accuracy: 0.7991\n",
      "Epoch 74/100, Train Loss: 0.3828, Val Loss: 0.4000, Val Accuracy: 0.7944\n",
      "Epoch 75/100, Train Loss: 0.3842, Val Loss: 0.3955, Val Accuracy: 0.8131\n",
      "Epoch 76/100, Train Loss: 0.3773, Val Loss: 0.4032, Val Accuracy: 0.8178\n",
      "Epoch 77/100, Train Loss: 0.3778, Val Loss: 0.3931, Val Accuracy: 0.8131\n",
      "Epoch 78/100, Train Loss: 0.3775, Val Loss: 0.4073, Val Accuracy: 0.7991\n",
      "Epoch 79/100, Train Loss: 0.3770, Val Loss: 0.3857, Val Accuracy: 0.8318\n",
      "Epoch 80/100, Train Loss: 0.3743, Val Loss: 0.3983, Val Accuracy: 0.8178\n",
      "Epoch 81/100, Train Loss: 0.3741, Val Loss: 0.3905, Val Accuracy: 0.8224\n",
      "Epoch 82/100, Train Loss: 0.3768, Val Loss: 0.4085, Val Accuracy: 0.8084\n",
      "Epoch 83/100, Train Loss: 0.3716, Val Loss: 0.4027, Val Accuracy: 0.8178\n",
      "Epoch 84/100, Train Loss: 0.3705, Val Loss: 0.4152, Val Accuracy: 0.8224\n",
      "Epoch 85/100, Train Loss: 0.3617, Val Loss: 0.4211, Val Accuracy: 0.7991\n",
      "Epoch 86/100, Train Loss: 0.3684, Val Loss: 0.4095, Val Accuracy: 0.8131\n",
      "Epoch 87/100, Train Loss: 0.3722, Val Loss: 0.4037, Val Accuracy: 0.7944\n",
      "Epoch 88/100, Train Loss: 0.3684, Val Loss: 0.4185, Val Accuracy: 0.7944\n",
      "Epoch 89/100, Train Loss: 0.3732, Val Loss: 0.4093, Val Accuracy: 0.8131\n",
      "Epoch 90/100, Train Loss: 0.3633, Val Loss: 0.4062, Val Accuracy: 0.8131\n",
      "Epoch 91/100, Train Loss: 0.3631, Val Loss: 0.4000, Val Accuracy: 0.8131\n",
      "Epoch 92/100, Train Loss: 0.3646, Val Loss: 0.4025, Val Accuracy: 0.8084\n",
      "Epoch 93/100, Train Loss: 0.3632, Val Loss: 0.3937, Val Accuracy: 0.8131\n",
      "Epoch 94/100, Train Loss: 0.3592, Val Loss: 0.4012, Val Accuracy: 0.8084\n",
      "Epoch 95/100, Train Loss: 0.3605, Val Loss: 0.4115, Val Accuracy: 0.8084\n",
      "Epoch 96/100, Train Loss: 0.3628, Val Loss: 0.4010, Val Accuracy: 0.8084\n",
      "Epoch 97/100, Train Loss: 0.3596, Val Loss: 0.3930, Val Accuracy: 0.8037\n",
      "Epoch 98/100, Train Loss: 0.3576, Val Loss: 0.3985, Val Accuracy: 0.8037\n",
      "Epoch 99/100, Train Loss: 0.3563, Val Loss: 0.4060, Val Accuracy: 0.7991\n",
      "Epoch 100/100, Train Loss: 0.3574, Val Loss: 0.4108, Val Accuracy: 0.7897\n",
      "{'train_loss': [0.815029232703667, 0.7032208842453279, 0.6996871510301111, 0.6978101618700517, 0.6921995181331462, 0.6898505586871928, 0.6811186237277581, 0.6692194537093632, 0.6506046208009979, 0.6299537333837089, 0.6106089405782994, 0.5963331538384775, 0.5822232354803748, 0.5678240642446766, 0.5543760939127008, 0.5448652098005992, 0.5374306606021892, 0.5247012501937025, 0.5233330288142236, 0.5143533051914319, 0.5063127811401632, 0.5020579910890574, 0.4993906864766988, 0.4919242441113982, 0.4843687347595065, 0.48238907749919374, 0.4799139478955744, 0.47534668490605775, 0.47511490720276384, 0.46780958510597664, 0.46635519692905, 0.46288025496229307, 0.4602643610667606, 0.4532332341116361, 0.4520786826884278, 0.44745637219838147, 0.4471028249069283, 0.445294156715589, 0.43812569093488135, 0.43958143705327707, 0.4366648667168401, 0.433802700745015, 0.43498455595754065, 0.4321252897696913, 0.43062078471090137, 0.42393949375772044, 0.42592303180262403, 0.42446985719247166, 0.41811398428012236, 0.4145647000150018, 0.41616179926878016, 0.4167138927832831, 0.41181893556679844, 0.40748052821238595, 0.40498715292471055, 0.4082205843889461, 0.3996783759208604, 0.4071072004622923, 0.3971874372206426, 0.40212142773625353, 0.39712848620112207, 0.3997729212225744, 0.39695413851846023, 0.39358312827942954, 0.3914259827479135, 0.39523755464128857, 0.38809312114722777, 0.39267342927052534, 0.3894043029975315, 0.38644080156646105, 0.38274935378588937, 0.38718928540761377, 0.37964870490336344, 0.38278122070692816, 0.38422323277169484, 0.3772865658980482, 0.3778463216706705, 0.37749392185866654, 0.37702674700054156, 0.3742700527982049, 0.37405827060747004, 0.3768239565126125, 0.37164111228327734, 0.3704855081448022, 0.36174851651458223, 0.36835828693611744, 0.37217567482923813, 0.36839930411552013, 0.37316803197486165, 0.3632954907381282, 0.3630721092314158, 0.3646281916209218, 0.3632026847305615, 0.3591804827628179, 0.3605168699948089, 0.3628062257863964, 0.35963424234411867, 0.3575970147401545, 0.3562600269598543, 0.3574394001161224], 'val_loss': [0.683536097407341, 0.6830732971429825, 0.6777456402778625, 0.673798456788063, 0.6687911599874496, 0.6585431098937988, 0.6389274746179581, 0.6235629022121429, 0.5869828164577484, 0.5462095066905022, 0.5243357568979263, 0.5135297477245331, 0.5041380375623703, 0.4863338768482208, 0.4744292423129082, 0.4770863503217697, 0.47034870833158493, 0.45456621795892715, 0.44739480316638947, 0.4403907507658005, 0.4275418519973755, 0.4247348830103874, 0.43940234929323196, 0.4289191961288452, 0.42658019810914993, 0.43337705731391907, 0.4194237142801285, 0.4131557494401932, 0.4221175014972687, 0.42624277621507645, 0.424631766974926, 0.4160861000418663, 0.4149860590696335, 0.4154301881790161, 0.4092400297522545, 0.41504764556884766, 0.41981955617666245, 0.40824172645807266, 0.4082668498158455, 0.4102221578359604, 0.415492407977581, 0.41343317180871964, 0.4073595553636551, 0.40382227301597595, 0.4119669422507286, 0.401917539536953, 0.40614765882492065, 0.4080395996570587, 0.4136651083827019, 0.41014090925455093, 0.4059894308447838, 0.4100166857242584, 0.418273001909256, 0.40455278754234314, 0.3989441245794296, 0.4044072926044464, 0.3924664482474327, 0.3986045569181442, 0.39491965621709824, 0.4030497297644615, 0.40438923984766006, 0.39438122510910034, 0.38302843272686005, 0.40051236003637314, 0.3847848251461983, 0.3876142352819443, 0.3951277658343315, 0.4063596874475479, 0.40675192326307297, 0.42282551527023315, 0.40825528651475906, 0.39006803184747696, 0.4003779962658882, 0.40000879764556885, 0.39552386850118637, 0.403157614171505, 0.39307501167058945, 0.4073049873113632, 0.3856777623295784, 0.3983258977532387, 0.39054352790117264, 0.4085223153233528, 0.40265021473169327, 0.4151792675256729, 0.4211021661758423, 0.4094919115304947, 0.40366745740175247, 0.41845376044511795, 0.4093245789408684, 0.4061906561255455, 0.39996134489774704, 0.40246137231588364, 0.3936620280146599, 0.4012347087264061, 0.41147075593471527, 0.4010174423456192, 0.3929596319794655, 0.398478239774704, 0.406024269759655, 0.4108136221766472], 'val_accuracy': [0.5887850467289719, 0.6214953271028038, 0.6355140186915887, 0.6495327102803738, 0.6401869158878505, 0.6495327102803738, 0.6588785046728972, 0.7009345794392523, 0.7102803738317757, 0.7476635514018691, 0.7616822429906542, 0.7616822429906542, 0.7710280373831776, 0.7757009345794392, 0.780373831775701, 0.7616822429906542, 0.780373831775701, 0.794392523364486, 0.7990654205607477, 0.794392523364486, 0.8037383177570093, 0.8177570093457944, 0.8084112149532711, 0.7897196261682243, 0.794392523364486, 0.794392523364486, 0.7850467289719626, 0.8130841121495327, 0.794392523364486, 0.7897196261682243, 0.7990654205607477, 0.794392523364486, 0.7850467289719626, 0.794392523364486, 0.794392523364486, 0.794392523364486, 0.794392523364486, 0.8037383177570093, 0.7897196261682243, 0.7990654205607477, 0.8037383177570093, 0.7757009345794392, 0.8037383177570093, 0.8037383177570093, 0.8130841121495327, 0.8177570093457944, 0.8177570093457944, 0.8084112149532711, 0.8130841121495327, 0.7990654205607477, 0.8084112149532711, 0.8271028037383178, 0.7897196261682243, 0.822429906542056, 0.822429906542056, 0.8177570093457944, 0.8271028037383178, 0.8271028037383178, 0.8130841121495327, 0.7897196261682243, 0.7990654205607477, 0.7897196261682243, 0.7990654205607477, 0.8364485981308412, 0.8084112149532711, 0.8084112149532711, 0.8130841121495327, 0.8084112149532711, 0.7990654205607477, 0.8037383177570093, 0.8084112149532711, 0.8130841121495327, 0.7990654205607477, 0.794392523364486, 0.8130841121495327, 0.8177570093457944, 0.8130841121495327, 0.7990654205607477, 0.8317757009345794, 0.8177570093457944, 0.822429906542056, 0.8084112149532711, 0.8177570093457944, 0.822429906542056, 0.7990654205607477, 0.8130841121495327, 0.794392523364486, 0.794392523364486, 0.8130841121495327, 0.8130841121495327, 0.8130841121495327, 0.8084112149532711, 0.8130841121495327, 0.8084112149532711, 0.8084112149532711, 0.8084112149532711, 0.8037383177570093, 0.8037383177570093, 0.7990654205607477, 0.7897196261682243]}\n",
      "Model trained in 148.81 seconds\n",
      "--------------------------------------------------\n",
      "\n"
     ]
    },
    {
     "data": {
      "image/png": "[encoded data removed]",
      "text/plain": [
       "<Figure size 1200x400 with 2 Axes>"
      ]
     },
     "metadata": {},
     "output_type": "display_data"
    }
   ],
   "source": [
    "# Training\n",
    "print(\"Training the model...\")\n",
    "t = time()\n",
    "history = train_model(model, train_loader, test_loader, optimizer, criterion, device, num_epochs=epochs, weight_1_0=weight_1_0, scheduler=scheduler)\n",
    "print(history)\n",
    "print(f\"Model trained in {time()-t:.2f} seconds\")\n",
    "print(\"-\"*50+\"\\n\")\n",
    "plot_history(history)"
   ]
  },
  {
   "cell_type": "markdown",
   "metadata": {},
   "source": [
    "## Training with other models (SVM, LG, RF, XGB)"
   ]
  },
  {
   "cell_type": "code",
   "execution_count": null,
   "metadata": {},
   "outputs": [
    {
     "name": "stdout",
     "output_type": "stream",
     "text": [
      "Testing on SVM with regularization:\n"
     ]
    }
   ],
   "source": [
    "Y_train = train['EventType']\n",
    "Y_test = test['EventType']\n",
    "# Regularized SVM\n",
    "print(\"Testing on SVM with regularization:\")\n",
    "t = time()\n",
    "svm = SVC(C=0.1, kernel='linear')  # Smaller C increases regularization\n",
    "svm.fit(train_X, Y_train)\n",
    "print(\"SVM Accuracy:\", svm.score(test_X, Y_test))\n",
    "print(f\"Model trained in {time()-t:.2f} seconds\")\n",
    "\n",
    "# Regularized Logistic Regression\n",
    "print(\"Testing on Logistic Regression with regularization:\")\n",
    "t = time()\n",
    "lg = LogisticRegression(max_iter=1000, C=0.1, penalty='l2', solver='liblinear')  # Stronger L2 regularization\n",
    "lg.fit(train_X, Y_train)\n",
    "print(\"Logistic Regression Accuracy:\", lg.score(test_X, Y_test))\n",
    "print(f\"Model trained in {time()-t:.2f} seconds\")\n",
    "\n",
    "# Regularized Random Forest\n",
    "print(\"Testing on Random Forest with regularization:\")\n",
    "t = time()\n",
    "rf = RandomForestClassifier(n_estimators=100, max_depth=10, min_samples_split=5, min_samples_leaf=3)  # Depth/leaf regularization\n",
    "rf.fit(train_X, Y_train)\n",
    "print(\"Random Forest Accuracy:\", rf.score(test_X, Y_test))\n",
    "print(f\"Model trained in {time()-t:.2f} seconds\")\n",
    "\n",
    "# Regularized XGBoost\n",
    "print(\"Testing on XGBoost with regularization:\")\n",
    "t = time()\n",
    "xgb = XGBClassifier(eval_metric='logloss', reg_alpha=1, reg_lambda=1, max_depth=6, learning_rate=0.05, n_estimators=200)\n",
    "xgb.fit(train_X, Y_train)\n",
    "print(\"XGBoost Accuracy:\", xgb.score(test_X, Y_test))\n",
    "print(f\"Model trained in {time()-t:.2f} seconds\")"
   ]
  },
  {
   "cell_type": "markdown",
   "metadata": {},
   "source": [
    "## Evaluation for NN"
   ]
  },
  {
   "cell_type": "code",
   "execution_count": null,
   "metadata": {},
   "outputs": [],
   "source": [
    "eval_X = tfidf_embedding(df_eval_bis['Tweet'], vectorizer)"
   ]
  },
  {
   "cell_type": "code",
   "execution_count": null,
   "metadata": {},
   "outputs": [],
   "source": [
    "def create_sets_for_eval(eval_X, scaler, batch_size = 64):\n",
    "    # Scale the data\n",
    "    eval_X = scaler.transform(eval_X)\n",
    "\n",
    "    evalset = TensorDataset(torch.tensor(eval_X, dtype=torch.float32))\n",
    "\n",
    "    eval_loader = DataLoader(evalset, batch_size=batch_size, shuffle=False)\n",
    "\n",
    "    return eval_loader\n",
    "\n",
    "eval_loader = create_sets_for_eval(eval_X, scaler)"
   ]
  },
  {
   "cell_type": "code",
   "execution_count": null,
   "metadata": {},
   "outputs": [],
   "source": [
    "predictions_NN = []\n",
    "model.eval()\n",
    "with torch.no_grad():\n",
    "    for batch in eval_loader:\n",
    "        inputs = batch[0].to(device)\n",
    "        outputs = model(inputs)\n",
    "        predictions_NN.extend(outputs.cpu().numpy().flatten())"
   ]
  },
  {
   "cell_type": "code",
   "execution_count": null,
   "metadata": {},
   "outputs": [],
   "source": [
    "predictions_eval = pd.DataFrame({\n",
    "    'ID': df_eval_bis['ID'],\n",
    "    'MatchID': df_eval_bis['MatchID'],\n",
    "    'PeriodID': df_eval_bis['PeriodID'],\n",
    "    'Predicted_NN': predictions_NN,\n",
    "})"
   ]
  },
  {
   "cell_type": "code",
   "execution_count": null,
   "metadata": {},
   "outputs": [],
   "source": [
    "# Group by ID/PeriodID/MatchID and average the predictions and sort by matchID and then PeriodID\n",
    "predictions_eval = predictions_eval.groupby(['ID', 'MatchID', 'PeriodID']).mean().reset_index().sort_values(['MatchID', 'PeriodID'])\n",
    "predictions_eval['Predicted_NN_three'] = (predictions_eval['Predicted_NN'] > weight_1_0).astype(int)"
   ]
  },
  {
   "cell_type": "code",
   "execution_count": null,
   "metadata": {},
   "outputs": [],
   "source": [
    "submission = pd.DataFrame({'ID': predictions_eval['ID'],'EventType': predictions_eval['Predicted_NN_three']})\n",
    "submission.to_csv(\"submission_NN.csv\", index=False)"
   ]
  },
  {
   "cell_type": "markdown",
   "metadata": {},
   "source": [
    "## Evaluation for other models (SVM, LG, RF, XGB)"
   ]
  },
  {
   "cell_type": "code",
   "execution_count": null,
   "metadata": {},
   "outputs": [],
   "source": [
    "pridictions_lg = lg.predict(eval_X)\n",
    "pridictions_svm = svm.predict(eval_X)\n",
    "pridictions_rf = rf.predict(eval_X)\n",
    "pridictions_xgb = xgb.predict(eval_X)"
   ]
  },
  {
   "cell_type": "code",
   "execution_count": null,
   "metadata": {},
   "outputs": [],
   "source": [
    "predictions_eval['Predicted_NN_three'] = (predictions_eval['Predicted_NN'] > weight_1_0).astype(int)\n",
    "predictions_eval['Predicted_LG_three'] = (predictions_eval['Predicted_LG'] > 0.5).astype(int)\n",
    "predictions_eval['Predicted_SVM_three'] = (predictions_eval['Predicted_SVM'] > 0.5).astype(int)\n",
    "predictions_eval['Predicted_RF_three'] = (predictions_eval['Predicted_RF'] > 0.5).astype(int)\n",
    "predictions_eval['Predicted_XGB_three'] = (predictions_eval['Predicted_XGB'] > 0.5).astype(int)"
   ]
  },
  {
   "cell_type": "markdown",
   "metadata": {},
   "source": [
    "## Plot Results"
   ]
  },
  {
   "cell_type": "code",
   "execution_count": null,
   "metadata": {},
   "outputs": [],
   "source": [
    "# Histogram of the predictions and the true values as before\n",
    "plt.figure(figsize=(12, 12))\n",
    "plt.subplot(3, 2, 1)\n",
    "plt.hist(predictions_eval['Predicted_NN'], bins=20, alpha=0.5, label='NN')\n",
    "plt.axvline(weight_1_0, color='r', linestyle='dotted', label='Threshold')\n",
    "plt.legend()\n",
    "plt.title(f'NN Predictions')\n",
    "\n",
    "plt.subplot(3, 2, 2)\n",
    "plt.hist(predictions_eval['Predicted_LG'], bins=20, alpha=0.5, label='LG')\n",
    "plt.axvline(0.5, color='r', linestyle='dotted', label='Threshold')\n",
    "plt.legend()\n",
    "plt.title(f'LG Predictions')\n",
    "\n",
    "plt.subplot(3, 2, 3)\n",
    "plt.hist(predictions_eval['Predicted_SVM'], bins=20, alpha=0.5, label='SVM')\n",
    "plt.axvline(0.5, color='r', linestyle='dotted', label='Threshold')\n",
    "plt.legend()\n",
    "plt.title(f'SVM Predictions')\n",
    "\n",
    "plt.subplot(3, 2, 4)\n",
    "plt.hist(predictions_eval['Predicted_RF'], bins=20, alpha=0.5, label='RF')\n",
    "plt.axvline(0.5, color='r', linestyle='dotted', label='Threshold')\n",
    "plt.legend()\n",
    "plt.title(f'RF Predictions')\n",
    "\n",
    "plt.subplot(3, 2, 5)\n",
    "plt.hist(predictions_eval['Predicted_XGB'], bins=20, alpha=0.5, label='XGB')\n",
    "plt.axvline(0.5, color='r', linestyle='dotted', label='Threshold')\n",
    "plt.legend()\n",
    "plt.title(f'XGB Predictions')"
   ]
  }
 ],
 "metadata": {
  "kernelspec": {
   "display_name": "inf554",
   "language": "python",
   "name": "python3"
  },
  "language_info": {
   "codemirror_mode": {
    "name": "ipython",
    "version": 3
   },
   "file_extension": ".py",
   "mimetype": "text/x-python",
   "name": "python",
   "nbconvert_exporter": "python",
   "pygments_lexer": "ipython3",
   "version": "3.11.10"
  }
 },
 "nbformat": 4,
 "nbformat_minor": 2
}
